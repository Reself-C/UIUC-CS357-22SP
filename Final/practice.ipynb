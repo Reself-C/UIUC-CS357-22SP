{
 "cells": [
  {
   "cell_type": "code",
   "execution_count": 1,
   "metadata": {},
   "outputs": [],
   "source": [
    "import numpy as np\n",
    "import numpy.linalg as la\n",
    "import matplotlib.pyplot as plt\n",
    "from sympy import *"
   ]
  },
  {
   "cell_type": "code",
   "execution_count": 2,
   "metadata": {},
   "outputs": [],
   "source": [
    "def n_degree_taylor(formula, x, x_0, n):\n",
    "    '''\n",
    "    Given the analytic expression, x and x_0, calculate\n",
    "    its nth degree Taylor polynomial\n",
    "    Note: Variable is defaulted to x\n",
    "    '''\n",
    "    var_x = Symbol('x')\n",
    "    acc = 0\n",
    "    # Be careful, n+1 because it's up to n\n",
    "    for i in range(n+1):\n",
    "        acc += diff(formula, var_x, i).subs(var_x, x_0)/factorial(i)*(x-x_0)**i\n",
    "    return float(acc)"
   ]
  },
  {
   "cell_type": "code",
   "execution_count": 3,
   "metadata": {},
   "outputs": [],
   "source": [
    "def n_degree_taylor_derivative(formula, x, x_0, n, n_d):\n",
    "    '''\n",
    "    Given the analytic expression, x and x_0, calculate\n",
    "    its n_d-th derivative based on n-th degree Taylor polynomial\n",
    "    Note: Variable is defaulted to x\n",
    "    \n",
    "    Parameters:\n",
    "        formula -- analytic expression in sympy\n",
    "        x -- desired point\n",
    "        x_0 -- expansion point\n",
    "        n -- highest degree of polynomial\n",
    "        n_d -- degree of derivative\n",
    "\n",
    "    Returns:\n",
    "        n_d-the derivative based on n-th degree Taylor polynomial\n",
    "    '''\n",
    "    var_x = Symbol('x')\n",
    "    acc = 0\n",
    "    # Be careful, n+1 because it's up to n\n",
    "    for i in range(n+1):\n",
    "        acc += diff(formula, var_x, i).subs(var_x, x_0)/factorial(i)*(var_x-x_0)**i\n",
    "    derivative = diff(acc, var_x, n_d)\n",
    "    return float(derivative.subs(var_x, x))"
   ]
  },
  {
   "cell_type": "code",
   "execution_count": 4,
   "metadata": {},
   "outputs": [],
   "source": [
    "def decimal_to_floating_point(x, n, p):\n",
    "    \"\"\"\n",
    "    Convert a positive decimal number x into its normalized floating-point\n",
    "    form.\n",
    "    \n",
    "    Parameters\n",
    "    ----------\n",
    "    x: float\n",
    "        Input positive decimal number\n",
    "    n: int\n",
    "        Number of binary bits in fraction\n",
    "    p: int\n",
    "        Exponent range\n",
    "\n",
    "    Returns\n",
    "    -------\n",
    "    f: str\n",
    "        String of length n representing the fraction part of x in the given floating-point system\n",
    "    m: int\n",
    "        Exponent of x in the given floating-point system\n",
    "    \"\"\"\n",
    "\n",
    "    # your implementation goes here\n",
    "\n",
    "    integer_part = int(x)\n",
    "    decimal_part = x - integer_part\n",
    "    int_bin = bin(integer_part)[2:]\n",
    "\n",
    "    def dec2bin(x):\n",
    "        x -= int(x)\n",
    "        bins = []\n",
    "\n",
    "        while x:\n",
    "            x *= 2\n",
    "            bins.append(1 if x>=1. else 0)\n",
    "            x -= int(x)\n",
    "\n",
    "        return bins\n",
    "    decimal_bins = dec2bin(decimal_part)\n",
    "    if integer_part != 0:\n",
    "        m = len(str(int_bin)) - 1\n",
    "        f = str(int_bin)[1:]\n",
    "        for i in decimal_bins:\n",
    "            f += str(i)\n",
    "        if len(f) > n:\n",
    "            f = f[:n]\n",
    "        elif len(f) < n:\n",
    "            f += (n - len(f)) * '0'\n",
    "\n",
    "    if integer_part == 0:\n",
    "        m = -(decimal_bins.index(1) + 1)\n",
    "        f = ''\n",
    "        for i in range(decimal_bins.index(1) + 1, len(decimal_bins)):\n",
    "            f += str(decimal_bins[i])\n",
    "        if len(f) > n:\n",
    "            f = f[:n]\n",
    "        elif len(f) < n:\n",
    "            f += (n - len(f)) * '0'\n",
    "\n",
    "    return f, m\n",
    "\n",
    "def bin2dec(x):\n",
    "    x = str(x)\n",
    "    a = 0\n",
    "    for i in range(2, len(x)):\n",
    "        a += int(x[i]) * 2 ** (-i + 1)\n",
    "    return a"
   ]
  },
  {
   "cell_type": "code",
   "execution_count": 5,
   "metadata": {},
   "outputs": [],
   "source": [
    "def hessian(f, X):\n",
    "    x0, y0 = X[0, 0], X[1,0]\n",
    "    x, y = Symbol('x'), Symbol('y')\n",
    "    A = Matrix([f])\n",
    "    B = Matrix([x, y])\n",
    "    Hessian = A.jacobian(B).jacobian(B).subs({x:x0, y:y0})\n",
    "    return np.array(Hessian).astype(np.float64)\n",
    "\n",
    "def gradient(f, X):\n",
    "    x0, y0 = X[0, 0], X[1,0]\n",
    "    x, y = Symbol('x'), Symbol('y')\n",
    "    A = Matrix([f])\n",
    "    B = Matrix([x, y])\n",
    "    Gradient = A.jacobian(B).subs({x:x0, y:y0})\n",
    "    return np.array(Gradient).astype(np.float64).T\n",
    "\n",
    "def newtons_method(f, x_init, tol):\n",
    "    x_new = x_init\n",
    "    x_prev = np.random.randn(x_init.shape[0])\n",
    "    cnt = 0\n",
    "    while(la.norm(gradient(f, x_new)) > tol):\n",
    "        x_prev = x_new\n",
    "        print(x_prev)\n",
    "        s = -la.solve(hessian(f, x_prev), gradient(f, x_prev))\n",
    "        x_new = x_prev + s\n",
    "        print(x_new)\n",
    "        cnt += 1\n",
    "    return x_new, cnt"
   ]
  },
  {
   "cell_type": "markdown",
   "metadata": {},
   "source": [
    "![](img/1.jpg)"
   ]
  },
  {
   "cell_type": "code",
   "execution_count": 6,
   "metadata": {},
   "outputs": [
    {
     "name": "stdout",
     "output_type": "stream",
     "text": [
      "[[-0.6445   1.21975 -1.0405 ]\n",
      " [ 0.3035  -0.94925  1.1465 ]\n",
      " [ 0.2295  -0.39825  0.3355 ]\n",
      " [ 0.1115   0.12775 -0.4415 ]]\n"
     ]
    },
    {
     "data": {
      "text/plain": [
       "array([2.37845489, 0.42865198, 0.01336356])"
      ]
     },
     "execution_count": 6,
     "metadata": {},
     "output_type": "execute_result"
    }
   ],
   "source": [
    "# Singular Values for PCA Mean\n",
    "X = np.array([[-0.614, 0.896, -1.649], [0.334, -1.273, 0.538], [0.260, -0.722, -0.273], [0.142, -0.196, -1.050]])\n",
    "X_zeroed = X - X.sum(axis = 0)/X.shape[0]\n",
    "u, s, vt = la.svd(X_zeroed)\n",
    "print(X_zeroed)\n",
    "s\n"
   ]
  },
  {
   "cell_type": "code",
   "execution_count": 17,
   "metadata": {},
   "outputs": [
    {
     "name": "stdout",
     "output_type": "stream",
     "text": [
      "[[ 0.703    0.75325 -0.63725]\n",
      " [-1.265   -0.67675  1.29075]\n",
      " [ 0.647    0.16525 -0.36125]\n",
      " [-0.085   -0.24175 -0.29225]]\n"
     ]
    },
    {
     "data": {
      "text/plain": [
       "array([2.36773931, 0.484151  , 0.28078085])"
      ]
     },
     "execution_count": 17,
     "metadata": {},
     "output_type": "execute_result"
    }
   ],
   "source": [
    "X = np.array([[0.193, 0.289, -0.624], [-1.775, -1.141, 1.304], [0.137, -0.299, -0.348], [-0.595, -0.706, -0.279]])\n",
    "X_zeroed = X - X.sum(axis = 0)/X.shape[0]\n",
    "u, s, vt = la.svd(X_zeroed)\n",
    "print(X_zeroed)\n",
    "s"
   ]
  },
  {
   "cell_type": "markdown",
   "metadata": {},
   "source": [
    "![](img/2.jpg)"
   ]
  },
  {
   "cell_type": "code",
   "execution_count": null,
   "metadata": {},
   "outputs": [
    {
     "name": "stdout",
     "output_type": "stream",
     "text": [
      "[[  9.   4.]\n",
      " [-16.   6.]]\n"
     ]
    },
    {
     "data": {
      "text/plain": [
       "array([-0.47457627,  1.56779661])"
      ]
     },
     "execution_count": 24,
     "metadata": {},
     "output_type": "execute_result"
    }
   ],
   "source": [
    "# NewtonSolve\n",
    "x, y = symbols('x y')\n",
    "X = Matrix([3*x**3 + 2*y**2 - 6, 4*x**4 + 6*y - 5])\n",
    "x0 = np.array([-1, 1])\n",
    "Y = Matrix([x, y])\n",
    "J = X.jacobian(Y)\n",
    "J_0 = np.array(J.subs({x: x0[0], y: x0[1]})).astype(np.float)\n",
    "print(J_0)\n",
    "x1 = x0 - la.inv(J_0) @ np.array(X.subs({x: x0[0], y: x0[1]})).astype(np.float).flatten()\n",
    "x1"
   ]
  },
  {
   "cell_type": "code",
   "execution_count": 30,
   "metadata": {},
   "outputs": [
    {
     "name": "stdout",
     "output_type": "stream",
     "text": [
      "[[12. -4.]\n",
      " [12.  5.]]\n"
     ]
    },
    {
     "data": {
      "text/plain": [
       "array([ 1.25925926, -0.22222222])"
      ]
     },
     "execution_count": 30,
     "metadata": {},
     "output_type": "execute_result"
    }
   ],
   "source": [
    "x, y = symbols('x y')\n",
    "X = Matrix([4*x**3 + 2*y**2 - 6, 3*x**4 + 5*y - 5])\n",
    "x0 = np.array([1, -1])\n",
    "Y = Matrix([x, y])\n",
    "J = X.jacobian(Y)\n",
    "J_0 = np.array(J.subs({x: x0[0], y: x0[1]})).astype(np.float)\n",
    "print(J_0)\n",
    "x1 = x0 - la.inv(J_0) @ np.array(X.subs({x: x0[0], y: x0[1]})).astype(np.float).flatten()\n",
    "x1"
   ]
  },
  {
   "cell_type": "markdown",
   "metadata": {},
   "source": [
    "![](img/43.jpg)"
   ]
  },
  {
   "cell_type": "code",
   "execution_count": 6,
   "metadata": {},
   "outputs": [
    {
     "name": "stdout",
     "output_type": "stream",
     "text": [
      "[[ 1.  0.]\n",
      " [-4.  1.]]\n"
     ]
    },
    {
     "data": {
      "text/plain": [
       "array([ -5., -13.])"
      ]
     },
     "execution_count": 6,
     "metadata": {},
     "output_type": "execute_result"
    }
   ],
   "source": [
    "# NewtonND-triangular\n",
    "x, y = symbols('x y')\n",
    "X = Matrix([x + 5, 2*x**2 + 1*y - 5])\n",
    "x0 = np.array([-1, 0])\n",
    "Y = Matrix([x, y])\n",
    "J = X.jacobian(Y)\n",
    "J_0 = np.array(J.subs({x: x0[0], y: x0[1]})).astype(np.float)\n",
    "print(J_0)\n",
    "x1 = x0 - la.inv(J_0) @ np.array(X.subs({x: x0[0], y: x0[1]})).astype(np.float).flatten()\n",
    "x1"
   ]
  },
  {
   "cell_type": "markdown",
   "metadata": {},
   "source": [
    "![](img/3.jpg)"
   ]
  },
  {
   "cell_type": "code",
   "execution_count": null,
   "metadata": {},
   "outputs": [
    {
     "data": {
      "text/plain": [
       "15"
      ]
     },
     "execution_count": 26,
     "metadata": {},
     "output_type": "execute_result"
    }
   ],
   "source": [
    "# Low-rank Approximation\n",
    "s = np.array([32, 27, 15, 3, 2])\n",
    "r = 2\n",
    "\n",
    "d = s[r]\n",
    "d"
   ]
  },
  {
   "cell_type": "markdown",
   "metadata": {},
   "source": [
    "![](img/4.jpg)"
   ]
  },
  {
   "cell_type": "code",
   "execution_count": null,
   "metadata": {},
   "outputs": [
    {
     "name": "stdout",
     "output_type": "stream",
     "text": [
      "1100 3\n"
     ]
    },
    {
     "data": {
      "text/plain": [
       "0.125"
      ]
     },
     "execution_count": 40,
     "metadata": {},
     "output_type": "execute_result"
    }
   ],
   "source": [
    "# Rounding Error - Decimal to Binary Floating Point\n",
    "y = 14.375\n",
    "n = 4\n",
    "f, m = decimal_to_floating_point(y, n, 100)\n",
    "print(f, m)\n",
    "(1 + bin2dec(0.1101)) * 2 **m\n",
    "abs((1 + bin2dec(0.1101)) * 2 **m - y)"
   ]
  },
  {
   "cell_type": "code",
   "execution_count": 24,
   "metadata": {},
   "outputs": [
    {
     "name": "stdout",
     "output_type": "stream",
     "text": [
      "0110 2\n"
     ]
    },
    {
     "data": {
      "text/plain": [
       "5.75"
      ]
     },
     "execution_count": 24,
     "metadata": {},
     "output_type": "execute_result"
    }
   ],
   "source": [
    "y = 5.6875\n",
    "n = 4\n",
    "f, m = decimal_to_floating_point(y, n, 100)\n",
    "print(f, m)\n",
    "(1 + bin2dec(0.0111)) * 2 **m"
   ]
  },
  {
   "cell_type": "markdown",
   "metadata": {},
   "source": [
    "Ill-Conditioned Matrices\n",
    "![](img/5.jpg)"
   ]
  },
  {
   "cell_type": "markdown",
   "metadata": {},
   "source": [
    "![](img/6.jpg)"
   ]
  },
  {
   "cell_type": "code",
   "execution_count": 17,
   "metadata": {},
   "outputs": [
    {
     "data": {
      "text/plain": [
       "16"
      ]
     },
     "execution_count": 17,
     "metadata": {},
     "output_type": "execute_result"
    }
   ],
   "source": [
    "# Floating point: exact representation\n",
    "n = 3\n",
    "k = 2 ** (n + 1)\n",
    "k"
   ]
  },
  {
   "cell_type": "markdown",
   "metadata": {},
   "source": [
    "![](img/7.jpg)"
   ]
  },
  {
   "cell_type": "code",
   "execution_count": null,
   "metadata": {},
   "outputs": [
    {
     "data": {
      "text/plain": [
       "5.385164807134504"
      ]
     },
     "execution_count": 42,
     "metadata": {},
     "output_type": "execute_result"
    }
   ],
   "source": [
    "# Find the Residual\n",
    "u3 = np.array([0, 0, 0, 1])\n",
    "u4 = np.array([0, 0, 1, 0])\n",
    "b = np.array([9, 12, 5, 2])\n",
    "np.sqrt((u3 @ b)**2 + (u4 @ b)**2)"
   ]
  },
  {
   "cell_type": "code",
   "execution_count": 8,
   "metadata": {},
   "outputs": [
    {
     "data": {
      "text/plain": [
       "6.708203932499369"
      ]
     },
     "execution_count": 8,
     "metadata": {},
     "output_type": "execute_result"
    }
   ],
   "source": [
    "u3 = np.array([0, 0, 0, 1])\n",
    "u4 = np.array([0, 0, 1, 0])\n",
    "b = np.array([5, 12, 6, 3])\n",
    "np.sqrt((u3 @ b)**2 + (u4 @ b)**2)"
   ]
  },
  {
   "cell_type": "markdown",
   "metadata": {},
   "source": [
    "Compare Computational Cost\n",
    "![](../Quiz/Quiz5/3.jpg)\n",
    "![](../Quiz/Quiz5/19.jpg)"
   ]
  },
  {
   "cell_type": "markdown",
   "metadata": {},
   "source": [
    "![](img/8.jpg)"
   ]
  },
  {
   "cell_type": "code",
   "execution_count": null,
   "metadata": {},
   "outputs": [
    {
     "data": {
      "text/plain": [
       "array([0.1, 0.5])"
      ]
     },
     "execution_count": 43,
     "metadata": {},
     "output_type": "execute_result"
    }
   ],
   "source": [
    "# Finding the Eigenvalues of a Matrix\n",
    "A = np.array([[7, 0],\n",
    "              [-5, 3]])\n",
    "lam = np.array([A[0, 0], A[1, 1]])\n",
    "lamb = 1/(2*lam - 4)\n",
    "lamb"
   ]
  },
  {
   "cell_type": "code",
   "execution_count": 12,
   "metadata": {},
   "outputs": [
    {
     "data": {
      "text/plain": [
       "array([0.04166667, 0.05      ])"
      ]
     },
     "execution_count": 12,
     "metadata": {},
     "output_type": "execute_result"
    }
   ],
   "source": [
    "A = np.array([[7, 0],\n",
    "              [7, 6]])\n",
    "lam = np.array([A[0, 0], A[1, 1]])\n",
    "lamb = 1/(4*lam - 4)\n",
    "lamb"
   ]
  },
  {
   "cell_type": "markdown",
   "metadata": {},
   "source": [
    "![](img/9.jpg)"
   ]
  },
  {
   "cell_type": "code",
   "execution_count": null,
   "metadata": {},
   "outputs": [
    {
     "data": {
      "text/plain": [
       "0.013734535892124023"
      ]
     },
     "execution_count": 44,
     "metadata": {},
     "output_type": "execute_result"
    }
   ],
   "source": [
    "# Estimating Errors of Iterative Methods\n",
    "# Secant method\n",
    "ek = 0.081096\n",
    "C = 0.8\n",
    "\n",
    "r = (1 + 5**0.5)/2\n",
    "ek1 = ek ** r * C\n",
    "ek1"
   ]
  },
  {
   "cell_type": "code",
   "execution_count": 7,
   "metadata": {},
   "outputs": [
    {
     "data": {
      "text/plain": [
       "0.0027382910235072074"
      ]
     },
     "execution_count": 7,
     "metadata": {},
     "output_type": "execute_result"
    }
   ],
   "source": [
    "ek = 0.035759\n",
    "C = 0.6\n",
    "\n",
    "r = (1 + 5**0.5)/2\n",
    "ek1 = ek ** r * C\n",
    "ek1"
   ]
  },
  {
   "cell_type": "markdown",
   "metadata": {},
   "source": [
    "![](img/37.jpg)"
   ]
  },
  {
   "cell_type": "code",
   "execution_count": 27,
   "metadata": {},
   "outputs": [
    {
     "data": {
      "text/plain": [
       "0.0003110680137919997"
      ]
     },
     "execution_count": 27,
     "metadata": {},
     "output_type": "execute_result"
    }
   ],
   "source": [
    "# Estimating Errors of Iterative Methods\n",
    "# Newton's method\n",
    "ek = 0.019719\n",
    "ek_1 = 0.157\n",
    "C = ek/ek_1**2\n",
    "\n",
    "r = 2\n",
    "ek1 = ek ** r * C\n",
    "ek1\n"
   ]
  },
  {
   "cell_type": "markdown",
   "metadata": {},
   "source": [
    "Shoe Store Allocation\n",
    "![](img/10.jpg)"
   ]
  },
  {
   "cell_type": "markdown",
   "metadata": {},
   "source": [
    "![](img/11.jpg)"
   ]
  },
  {
   "cell_type": "code",
   "execution_count": null,
   "metadata": {},
   "outputs": [
    {
     "data": {
      "text/plain": [
       "array([20,  1,  7, 29, 14])"
      ]
     },
     "execution_count": 45,
     "metadata": {},
     "output_type": "execute_result"
    }
   ],
   "source": [
    "# Shifted Inverse Iteration\n",
    "lamA = np.array([8, -11, -5, 17, 2])\n",
    "lamB = lamA + 12\n",
    "lamB"
   ]
  },
  {
   "cell_type": "code",
   "execution_count": 8,
   "metadata": {},
   "outputs": [
    {
     "data": {
      "text/plain": [
       "array([-12,   1, -21, -24, -18])"
      ]
     },
     "execution_count": 8,
     "metadata": {},
     "output_type": "execute_result"
    }
   ],
   "source": [
    "lamA = np.array([-5, 8, -14, -17, -11])\n",
    "lamB = lamA - 7\n",
    "lamB"
   ]
  },
  {
   "cell_type": "markdown",
   "metadata": {},
   "source": [
    "![](img/12.jpg)"
   ]
  },
  {
   "cell_type": "code",
   "execution_count": 25,
   "metadata": {},
   "outputs": [
    {
     "data": {
      "text/plain": [
       "-1.0"
      ]
     },
     "execution_count": 25,
     "metadata": {},
     "output_type": "execute_result"
    }
   ],
   "source": [
    "# Taylor Series Approximation\n",
    "n = 3\n",
    "x0 = 0\n",
    "x1 = 2\n",
    "n_degree_taylor(cos(x), x1, x0, n)"
   ]
  },
  {
   "cell_type": "code",
   "execution_count": 21,
   "metadata": {},
   "outputs": [
    {
     "data": {
      "text/plain": [
       "950.0"
      ]
     },
     "execution_count": 21,
     "metadata": {},
     "output_type": "execute_result"
    }
   ],
   "source": [
    "n = 3\n",
    "x0 = 0\n",
    "x1 = 5\n",
    "n_degree_taylor(6*x**3+7*x**2+4*x+5, x1, x0, n)"
   ]
  },
  {
   "cell_type": "markdown",
   "metadata": {},
   "source": [
    "![](img/13.jpg)"
   ]
  },
  {
   "cell_type": "markdown",
   "metadata": {},
   "source": [
    "![](img/14.jpg)"
   ]
  },
  {
   "cell_type": "code",
   "execution_count": null,
   "metadata": {},
   "outputs": [
    {
     "name": "stdout",
     "output_type": "stream",
     "text": [
      "[[ 37.90179174]\n",
      " [-72.86249328]]\n"
     ]
    },
    {
     "data": {
      "text/plain": [
       "array([[  4.58035835],\n",
       "       [-10.57249866]])"
      ]
     },
     "execution_count": 52,
     "metadata": {},
     "output_type": "execute_result"
    }
   ],
   "source": [
    "# N-Dimension Optimization using Steepest Descent\n",
    "x, y = symbols('x y')\n",
    "f = 13*x**2 + 7*x*y + 13*y**2 + 13*sin(y)**2 + 7*cos(x*y)\n",
    "X0 = np.array([[-3], [3]])\n",
    "alpha = 0.05\n",
    "s0 = -gradient(f, X0)\n",
    "print(s0)\n",
    "X1 = X0 + alpha*s0\n",
    "X1"
   ]
  },
  {
   "cell_type": "code",
   "execution_count": 18,
   "metadata": {},
   "outputs": [
    {
     "name": "stdout",
     "output_type": "stream",
     "text": [
      "[[40.15327995]\n",
      " [ 5.72156529]]\n"
     ]
    },
    {
     "data": {
      "text/plain": [
       "array([[5.03065599],\n",
       "       [2.14431306]])"
      ]
     },
     "execution_count": 18,
     "metadata": {},
     "output_type": "execute_result"
    }
   ],
   "source": [
    "x, y = symbols('x y')\n",
    "f = 8*x**2 + 7*x*y + 8*y**2 + 2*sin(y)**2 + 6*cos(x*y)\n",
    "X0 = np.array([[-3], [1]])\n",
    "alpha = 0.2\n",
    "s0 = -gradient(f, X0)\n",
    "print(s0)\n",
    "X1 = X0 + alpha*s0\n",
    "X1"
   ]
  },
  {
   "cell_type": "markdown",
   "metadata": {},
   "source": [
    "![](img/15.jpg)"
   ]
  },
  {
   "cell_type": "code",
   "execution_count": null,
   "metadata": {},
   "outputs": [
    {
     "data": {
      "text/latex": [
       "$\\displaystyle \\left[\\begin{matrix}64 x^{3} & 64 y^{3} & 4 z^{3}\\\\2 x & 2 y & 2 z\\\\3 x^{2} & -1 & 0\\end{matrix}\\right]$"
      ],
      "text/plain": [
       "Matrix([\n",
       "[64*x**3, 64*y**3, 4*z**3],\n",
       "[    2*x,     2*y,    2*z],\n",
       "[ 3*x**2,      -1,      0]])"
      ]
     },
     "execution_count": 53,
     "metadata": {},
     "output_type": "execute_result"
    }
   ],
   "source": [
    "x, y, z = symbols('x y z')\n",
    "X = Matrix([16*x**4 + 16*y**4 + z**4 - 16,\n",
    "            x**2    + y**2    + z**2 - 3,\n",
    "            x**3    - y])\n",
    "Y = Matrix([x, y, z])\n",
    "X.jacobian(Y)"
   ]
  },
  {
   "cell_type": "code",
   "execution_count": null,
   "metadata": {},
   "outputs": [],
   "source": [
    "# Newton's Method\n",
    "import numpy as np\n",
    "import numpy.linalg as la\n",
    "\n",
    "def f(w):\n",
    "    x, y, z = w\n",
    "    return np.array([\n",
    "        16*x**4 + 16*y**4 + z**4 - 16,\n",
    "        x**2    + y**2    + z**2 - 3,\n",
    "        x**3    - y])\n",
    "\n",
    "def J(w):\n",
    "    x, y, z = w\n",
    "    return np.array([[64*x**3, 64*y**3, 4*z**3],\n",
    "                     [2*x, 2*y, 2*z],\n",
    "                     [3*x**2, -1, 0]])\n",
    "\n",
    "guesses = np.zeros((5,3))\n",
    "\n",
    "# Initial guess, don't save this in output\n",
    "w = np.array([1.,1.,1.])\n",
    "x = w\n",
    "for i in range(5):\n",
    "    x = x - la.inv(J(x)) @ f(x)\n",
    "    guesses[i] = x"
   ]
  },
  {
   "cell_type": "markdown",
   "metadata": {},
   "source": [
    "![](img/16.jpg)"
   ]
  },
  {
   "cell_type": "code",
   "execution_count": null,
   "metadata": {},
   "outputs": [],
   "source": [
    "# Instagram Infinity Loop\n",
    "import numpy as np\n",
    "import numpy.linalg as la\n",
    "\n",
    "\n",
    "M = (A.T / A.sum(axis=1))\n",
    "x = np.ones(A.shape[0])/A.shape[0]\n",
    "while not np.array_equal(M @ x, x):\n",
    "    x = M @ x\n",
    "\n",
    "prob = x[names.index('Nancy')]"
   ]
  },
  {
   "cell_type": "markdown",
   "metadata": {},
   "source": [
    "![](img/18.jpg)"
   ]
  },
  {
   "cell_type": "code",
   "execution_count": null,
   "metadata": {},
   "outputs": [],
   "source": [
    "# Floating Point Summation\n",
    "sum_p = 0.0\n",
    "sum_n = 0.0\n",
    "data = sorted(data,key = abs)\n",
    "for i in range(len(data)):\n",
    "    if data[i] > 0:\n",
    "        sum_p += data[i]\n",
    "    elif data[i] <= 0:\n",
    "        sum_n += data[i]\n",
    "data_sum = sum_p + sum_n"
   ]
  },
  {
   "cell_type": "markdown",
   "metadata": {},
   "source": [
    "![](img/19.jpg)"
   ]
  },
  {
   "cell_type": "code",
   "execution_count": null,
   "metadata": {},
   "outputs": [
    {
     "data": {
      "text/plain": [
       "array([8.114328  , 6.41123866, 5.17721514, 3.8976963 , 3.65027836,\n",
       "       2.94783879, 2.381553  ])"
      ]
     },
     "execution_count": 72,
     "metadata": {},
     "output_type": "execute_result"
    }
   ],
   "source": [
    "# Solve rank-deficient system with SVD\n",
    "import numpy as np\n",
    "\n",
    "s = S[S!=0]\n",
    "r = len(s)\n",
    "# print(U.shape, S.shape, Vh.shape, r, len(b))\n",
    "U_r = U[:, :r]\n",
    "Vh_r = Vh[:r, :]\n",
    "x = Vh_r.T @ (b @ U_r / s)"
   ]
  },
  {
   "cell_type": "markdown",
   "metadata": {},
   "source": [
    "![](img/20.jpg)"
   ]
  },
  {
   "cell_type": "code",
   "execution_count": null,
   "metadata": {},
   "outputs": [],
   "source": [
    "# Estimate the amount of clay\n",
    "import numpy as np\n",
    "\n",
    "n = 100000\n",
    "V = 10 * 10 * 2\n",
    "x = 10 * np.random.rand(n) - 5\n",
    "y = 10 * np.random.rand(n) - 5\n",
    "z = 2 * np.random.rand(n)\n",
    "\n",
    "def check_in(x, y, z):\n",
    "    if x**2 + y**2 < 25 and z > 0 and z < f(x,y):\n",
    "        return 1\n",
    "    return 0\n",
    "\n",
    "n_in = np.sum(np.array([check_in(x[i], y[i], z[i]) for i in range(n)]))\n",
    "volume = V * n_in/n"
   ]
  },
  {
   "cell_type": "markdown",
   "metadata": {},
   "source": [
    "![](img/35.jpg)"
   ]
  },
  {
   "cell_type": "code",
   "execution_count": null,
   "metadata": {},
   "outputs": [],
   "source": [
    "# Estimate the volume between surfaces\n",
    "import numpy as np\n",
    "\n",
    "n = 100000\n",
    "V = 6 * 6 * 2\n",
    "x = 6 * np.random.rand(n) - 3\n",
    "y = 6 * np.random.rand(n) - 3\n",
    "z = 2 * np.random.rand(n)\n",
    "\n",
    "def check_in(x, y, z):\n",
    "    if z > top(x,y) and z < bottom(x,y):\n",
    "        return 1\n",
    "    return 0\n",
    "\n",
    "n_in = np.sum(np.array([check_in(x[i], y[i], z[i]) for i in range(n)]))\n",
    "volume = V * n_in/n"
   ]
  },
  {
   "cell_type": "markdown",
   "metadata": {},
   "source": [
    "![](img/21.jpg)"
   ]
  },
  {
   "cell_type": "code",
   "execution_count": 9,
   "metadata": {},
   "outputs": [
    {
     "data": {
      "text/plain": [
       "array([ 1.33333333, -1.25      ])"
      ]
     },
     "execution_count": 9,
     "metadata": {},
     "output_type": "execute_result"
    }
   ],
   "source": [
    "# Newton Solve 2\n",
    "x, y = symbols('x y')\n",
    "x0 = np.array([1, 0])\n",
    "f = Matrix([4*x*y+5, x**3 + y**2 - 2])\n",
    "Y = Matrix([x, y])\n",
    "J = f.jacobian(Y)\n",
    "J_ = np.array(J.subs({x:x0[0], y:x0[1]})).astype(np.float64)\n",
    "X_ = np.array(f.subs({x:x0[0], y:x0[1]})).astype(np.float64)\n",
    "S = la.solve(J_, -X_)\n",
    "S.flatten()+x0"
   ]
  },
  {
   "cell_type": "markdown",
   "metadata": {},
   "source": [
    "![](img/22.jpg)"
   ]
  },
  {
   "cell_type": "code",
   "execution_count": 11,
   "metadata": {},
   "outputs": [
    {
     "data": {
      "text/plain": [
       "10.0"
      ]
     },
     "execution_count": 11,
     "metadata": {},
     "output_type": "execute_result"
    }
   ],
   "source": [
    "# Inverse Shift iteration\n",
    "lamb = 0.25\n",
    "sigma = 6\n",
    "lama = 1/lamb + sigma\n",
    "lama"
   ]
  },
  {
   "cell_type": "code",
   "execution_count": 22,
   "metadata": {},
   "outputs": [
    {
     "data": {
      "text/plain": [
       "11.0"
      ]
     },
     "execution_count": 22,
     "metadata": {},
     "output_type": "execute_result"
    }
   ],
   "source": [
    "lamb = 0.2\n",
    "sigma = 6\n",
    "lama = 1/lamb + sigma\n",
    "lama"
   ]
  },
  {
   "cell_type": "markdown",
   "metadata": {},
   "source": [
    "Estimate condition number\n",
    "![](img/23.jpg)"
   ]
  },
  {
   "cell_type": "markdown",
   "metadata": {},
   "source": [
    "![](img/24.jpg)"
   ]
  },
  {
   "cell_type": "code",
   "execution_count": 16,
   "metadata": {},
   "outputs": [
    {
     "name": "stdout",
     "output_type": "stream",
     "text": [
      "[-0.58823529  0.43478261  3.33333333]\n"
     ]
    },
    {
     "data": {
      "text/plain": [
       "array([0.13333333, 0.8       , 0.06666667])"
      ]
     },
     "execution_count": 16,
     "metadata": {},
     "output_type": "execute_result"
    }
   ],
   "source": [
    "# Result of Normalized Power, Inverse, and Shifted Inverse Iteration\n",
    "lam = np.array([1, 5, 3])\n",
    "sigma = 2.7\n",
    "print(1/(lam-sigma))\n",
    "v = np.array([2, 12, 1]) # according to the result of 1/(lam-sigma)\n",
    "v/la.norm(v, 1)"
   ]
  },
  {
   "cell_type": "code",
   "execution_count": 12,
   "metadata": {},
   "outputs": [
    {
     "name": "stdout",
     "output_type": "stream",
     "text": [
      "[10.          0.90909091 -0.52631579]\n"
     ]
    },
    {
     "data": {
      "text/plain": [
       "array([0.19047619, 0.28571429, 0.52380952])"
      ]
     },
     "execution_count": 12,
     "metadata": {},
     "output_type": "execute_result"
    }
   ],
   "source": [
    "lam = np.array([4, 5, 2])\n",
    "sigma = 3.9\n",
    "print(1/(lam-sigma))\n",
    "v = np.array([4, 6, 11]) # according to the result of 1/(lam-sigma), max abs value index\n",
    "v/la.norm(v, 1)"
   ]
  },
  {
   "cell_type": "markdown",
   "metadata": {},
   "source": [
    "![](img/25.jpg)"
   ]
  },
  {
   "cell_type": "code",
   "execution_count": 23,
   "metadata": {},
   "outputs": [
    {
     "data": {
      "text/plain": [
       "5"
      ]
     },
     "execution_count": 23,
     "metadata": {},
     "output_type": "execute_result"
    }
   ],
   "source": [
    "# Estimating Errors of Iterative Methods\n",
    "# Bisection\n",
    "ek = 0.168\n",
    "tol = 1e-2\n",
    "e = ek\n",
    "cnt = 0\n",
    "while e > tol:\n",
    "    e *= 0.5\n",
    "    cnt += 1\n",
    "cnt"
   ]
  },
  {
   "cell_type": "code",
   "execution_count": 6,
   "metadata": {},
   "outputs": [
    {
     "data": {
      "text/plain": [
       "6"
      ]
     },
     "execution_count": 6,
     "metadata": {},
     "output_type": "execute_result"
    }
   ],
   "source": [
    "ek = 0.042\n",
    "tol = 1e-3\n",
    "e = ek\n",
    "cnt = 0\n",
    "while e > tol:\n",
    "    e *= 0.5\n",
    "    cnt += 1\n",
    "cnt"
   ]
  },
  {
   "cell_type": "markdown",
   "metadata": {},
   "source": [
    "![](img/26.jpg)"
   ]
  },
  {
   "cell_type": "code",
   "execution_count": 24,
   "metadata": {},
   "outputs": [
    {
     "data": {
      "text/plain": [
       "5"
      ]
     },
     "execution_count": 24,
     "metadata": {},
     "output_type": "execute_result"
    }
   ],
   "source": [
    "# PCA Number of Components\n",
    "U = np.array([[-0.1, -0.2, -0.2, 0.0, 0.2, -0.3, 0.4, -0.1, 0.3, -0.2, -0.2], [0.2, 0.0, 0.1, -0.4, 0.1, 0.1, 0.5, 0.3, -0.1, 0.1, -0.2], [0.0, 0.1, -0.1, 0.0, 0.2, -0.3, 0.1, 0.0, -0.3, -0.3, -0.1], [-0.4, -0.2, 0.0, -0.1, -0.1, 0.5, 0.2, 0.3, -0.2, 0.1, 0.0], [-0.1, 0.4, 0.2, 0.0, -0.5, 0.0, 0.1, 0.3, 0.3, -0.1, 0.1], [0.0, 0.0, 0.2, 0.0, 0.0, -0.1, 0.3, -0.4, 0.2, 0.5, 0.3], [-0.4, -0.1, -0.2, -0.2, -0.1, 0.1, -0.2, -0.2, 0.4, 0.1, -0.4], [-0.2, 0.2, -0.4, -0.1, -0.3, -0.2, 0.1, -0.1, -0.1, -0.3, 0.0], [0.0, 0.2, 0.1, 0.3, 0.0, 0.0, -0.1, 0.0, -0.4, 0.0, -0.5], [-0.1, -0.1, 0.1, 0.2, 0.5, 0.0, -0.1, 0.1, -0.1, -0.1, 0.2], [0.6, 0.1, 0.0, -0.2, 0.0, 0.3, -0.1, -0.4, 0.0, -0.2, -0.3], [-0.1, 0.2, -0.2, -0.3, 0.2, -0.3, 0.0, 0.0, -0.2, 0.5, -0.1], [-0.2, -0.1, 0.6, 0.0, -0.2, -0.4, -0.1, 0.0, 0.0, 0.1, -0.2], [0.1, 0.0, 0.2, -0.3, 0.2, -0.2, 0.0, 0.1, 0.2, -0.2, 0.2], [0.3, 0.1, -0.3, 0.2, 0.1, -0.1, -0.1, 0.5, 0.3, 0.3, -0.1], [0.3, -0.6, -0.2, 0.2, -0.4, -0.3, 0.0, 0.0, -0.2, 0.1, 0.1], [0.1, -0.3, 0.3, 0.0, 0.0, -0.1, 0.0, 0.2, 0.3, -0.1, -0.4], [0.0, 0.2, 0.0, 0.5, 0.1, 0.1, 0.5, -0.1, 0.1, 0.0, -0.2]])\n",
    "S = np.array([[39,  0,  0,  0,  0,  0,  0,  0,  0,  0,  0], [ 0, 27,  0,  0,  0,  0,  0,  0,  0,  0,  0], [ 0,  0, 24,  0,  0,  0,  0,  0,  0,  0,  0], [ 0,  0,  0, 23,  0,  0,  0,  0,  0,  0,  0], [ 0,  0,  0,  0, 21,  0,  0,  0,  0,  0,  0], [ 0,  0,  0,  0,  0, 15,  0,  0,  0,  0,  0], [ 0,  0,  0,  0,  0,  0, 14,  0,  0,  0,  0], [ 0,  0,  0,  0,  0,  0,  0, 13,  0,  0,  0], [ 0,  0,  0,  0,  0,  0,  0,  0, 10,  0,  0], [ 0,  0,  0,  0,  0,  0,  0,  0,  0,  5,  0], [ 0,  0,  0,  0,  0,  0,  0,  0,  0,  0,  1]])\n",
    "V = np.array([[-0.2, -0.4, 0.5, 0.6, -0.1, 0.0, 0.1, -0.1, 0.1, -0.4, 0.2], [0.0, -0.1, 0.3, -0.3, 0.5, 0.4, -0.2, 0.1, -0.3, -0.1, 0.5], [-0.1, 0.0, -0.4, 0.2, 0.1, -0.3, -0.5, -0.4, 0.1, 0.1, 0.4], [-0.3, -0.1, 0.2, 0.0, 0.1, -0.5, -0.1, 0.6, 0.1, 0.4, 0.1], [0.0, -0.4, -0.5, 0.3, 0.0, 0.3, -0.3, 0.5, -0.1, -0.1, -0.2], [0.7, -0.2, 0.1, -0.2, -0.5, -0.1, -0.2, 0.1, 0.0, 0.1, 0.3], [-0.1, 0.5, 0.3, 0.2, -0.3, 0.5, -0.5, 0.1, 0.1, 0.3, -0.1], [0.2, -0.5, 0.2, -0.1, 0.3, 0.1, -0.1, -0.4, 0.3, 0.4, -0.4], [-0.3, -0.1, 0.2, -0.4, -0.2, -0.3, -0.5, -0.1, -0.3, -0.4, -0.3], [-0.4, -0.1, -0.2, -0.4, -0.3, 0.2, 0.1, 0.0, 0.6, -0.2, 0.2], [-0.4, -0.3, -0.1, 0.0, -0.4, 0.2, 0.2, -0.2, -0.5, 0.5, 0.1]])\n",
    "\n",
    "minvalue = 0.76\n",
    "\n",
    "A_new = U @ S\n",
    "s = np.diagonal(S)\n",
    "v = s / np.sum(s)\n",
    "var = np.array([np.sum(v[:i + 1]) for i in range(len(s))])\n",
    "(np.argwhere(var > minvalue).reshape(-1))[0]"
   ]
  },
  {
   "cell_type": "code",
   "execution_count": 11,
   "metadata": {},
   "outputs": [
    {
     "data": {
      "text/plain": [
       "4"
      ]
     },
     "execution_count": 11,
     "metadata": {},
     "output_type": "execute_result"
    }
   ],
   "source": [
    "U = np.array([[0.0, 0.1, -0.4, -0.5, 0.2, 0.4, 0.2, -0.1, 0.3, 0.0, 0.4, 0.0, 0.1, 0.3], [0.0, -0.2, 0.3, 0.2, 0.5, 0.2, 0.2, 0.1, -0.3, -0.2, 0.3, -0.5, 0.2,  -0.2], [-0.1, 0.3, -0.3, 0.4, 0.2, 0.4, -0.1, -0.3, -0.2, 0.3, -0.3, 0.1, 0.3,  -0.1], [-0.1, 0.1, 0.2, -0.2, 0.2, -0.2, 0.3, -0.4, -0.1, -0.2, -0.5, -0.2, 0.1,  0.5], [0.0, -0.2, -0.5, 0.1, -0.1, -0.4, 0.1, -0.4, 0.1, -0.2, 0.0, -0.3, -0.1,  -0.3], [-0.1, 0.5, 0.0, -0.3, -0.2, -0.2, 0.0, 0.1, -0.5, 0.4, 0.2, -0.4, -0.2,  -0.1], [0.3, 0.1, -0.1, -0.2, 0.3, -0.3, -0.3, 0.1, -0.2, -0.1, 0.2, 0.4, 0.4,  -0.1], [-0.2, 0.2, 0.3, -0.1, -0.1, 0.1, -0.3, -0.6, 0.0, -0.4, 0.3, 0.1, -0.1,  -0.1], [0.1, 0.1, -0.2, 0.4, -0.3, -0.2, 0.2, 0.1, -0.3, -0.3, 0.3, 0.0, 0.2,  0.4], [-0.5, 0.0, -0.3, 0.0, 0.3, 0.0, 0.1, 0.2, -0.3, -0.3, 0.0, 0.3, -0.5,  0.1], [0.1, 0.0, -0.1, 0.2, 0.3, -0.2, -0.6, 0.0, 0.2, 0.1, 0.1, -0.4, -0.2,  0.4], [0.1, 0.0, -0.3, -0.4, 0.0, 0.1, -0.3, 0.2, -0.2, -0.5, -0.4, -0.2, 0.1,  -0.3], [0.3, -0.6, 0.0, -0.1, -0.1, 0.1, -0.1, -0.4, -0.5, 0.2, 0.0, 0.1, -0.2,  0.1], [-0.5, -0.3, 0.0, -0.1, -0.4, 0.2, -0.3, 0.2, -0.1, 0.0, 0.1, -0.1, 0.3,  0.3], [0.5, 0.3, 0.0, 0.1, -0.1, 0.4, 0.0, 0.1, 0.0, -0.2, -0.1, -0.1, -0.3,  0.2]])\n",
    "S = np.array([[36,  0,  0,  0,  0,  0,  0,  0,  0,  0,  0,  0,  0,  0], [ 0, 31,  0,  0,  0,  0,  0,  0,  0,  0,  0,  0,  0,  0], [ 0,  0, 29,  0,  0,  0,  0,  0,  0,  0,  0,  0,  0,  0], [ 0,  0,  0, 24,  0,  0,  0,  0,  0,  0,  0,  0,  0,  0], [ 0,  0,  0,  0, 23,  0,  0,  0,  0,  0,  0,  0,  0,  0], [ 0,  0,  0,  0,  0, 22,  0,  0,  0,  0,  0,  0,  0,  0], [ 0,  0,  0,  0,  0,  0, 21,  0,  0,  0,  0,  0,  0,  0], [ 0,  0,  0,  0,  0,  0,  0, 17,  0,  0,  0,  0,  0,  0], [ 0,  0,  0,  0,  0,  0,  0,  0, 16,  0,  0,  0,  0,  0], [ 0,  0,  0,  0,  0,  0,  0,  0,  0, 11,  0,  0,  0,  0], [ 0,  0,  0,  0,  0,  0,  0,  0,  0,  0, 10,  0,  0,  0], [ 0,  0,  0,  0,  0,  0,  0,  0,  0,  0,  0,  4,  0,  0], [ 0,  0,  0,  0,  0,  0,  0,  0,  0,  0,  0,  0,  3,  0], [ 0,  0,  0,  0,  0,  0,  0,  0,  0,  0,  0,  0,  0,  2]])\n",
    "V = np.array([[-0.3, -0.3, 0.3, 0.1, -0.1, 0.3, -0.3, -0.3, -0.1, 0.0, -0.2, -0.4, 0.1,  -0.5], [0.4, -0.1, -0.2, -0.3, 0.3, 0.2, 0.0, -0.1, -0.4, 0.0, -0.1, -0.1, 0.6,  0.0], [0.1, -0.4, -0.4, 0.1, 0.1, 0.1, 0.1, 0.1, 0.2, -0.5, 0.0, -0.4, -0.2,  0.2], [-0.1, -0.3, 0.3, -0.1, 0.5, 0.1, 0.1, 0.1, -0.2, 0.4, 0.2, -0.1, -0.3,  0.3], [0.2, -0.1, 0.1, 0.0, -0.5, 0.0, 0.1, 0.0, -0.2, 0.1, 0.6, -0.4, 0.2,  0.1], [0.1, -0.7, 0.0, -0.3, -0.3, -0.3, 0.0, -0.1, 0.1, 0.0, -0.1, 0.5, 0.0,  0.1], [0.4, 0.0, 0.0, 0.2, -0.1, 0.5, -0.4, -0.3, -0.2, 0.0, 0.0, 0.3, -0.4,  0.2], [0.2, 0.2, 0.5, -0.3, 0.0, -0.1, 0.2, -0.5, 0.2, -0.2, -0.2, -0.2, 0.0,  0.3], [0.1, 0.1, 0.1, -0.6, -0.3, 0.1, -0.1, 0.5, -0.2, -0.2, -0.1, -0.1, -0.3,  -0.1], [0.2, -0.1, 0.5, 0.2, 0.2, 0.1, -0.2, 0.4, 0.2, -0.4, 0.2, 0.2, 0.4, 0.0], [0.4, -0.1, 0.2, 0.3, -0.2, 0.0, 0.4, 0.3, -0.1, 0.3, -0.5, -0.1, 0.0,  0.0], [0.2, 0.0, 0.1, 0.3, 0.2, -0.6, -0.3, -0.1, -0.4, -0.3, 0.1, -0.1, -0.3,  -0.2], [-0.4, 0.0, 0.1, 0.1, -0.1, 0.2, 0.5, 0.0, -0.5, -0.4, 0.0, 0.2, 0.0,  0.1], [-0.3, 0.0, -0.1, 0.1, -0.2, -0.2, -0.5, 0.1, -0.2, 0.0, -0.3, -0.2, 0.2,  0.6]])\n",
    "\n",
    "minvalue = 0.54\n",
    "\n",
    "A_new = U @ S\n",
    "s = np.diagonal(S)\n",
    "v = s / np.sum(s)\n",
    "var = np.array([np.sum(v[:i + 1]) for i in range(len(s))])\n",
    "(np.argwhere(var > minvalue).reshape(-1))[0]"
   ]
  },
  {
   "cell_type": "markdown",
   "metadata": {},
   "source": [
    "![](img/27.jpg)"
   ]
  },
  {
   "cell_type": "code",
   "execution_count": 28,
   "metadata": {},
   "outputs": [
    {
     "name": "stdout",
     "output_type": "stream",
     "text": [
      "Hessian: [[ 4.  0.]\n",
      " [ 0. 90.]]\n",
      "Step: [[-1. ]\n",
      " [-1.5]]\n",
      "x1: [[0. ]\n",
      " [1.5]]\n"
     ]
    }
   ],
   "source": [
    "# Optimization ND NewtonMethod one step\n",
    "x, y = symbols('x y')\n",
    "x0 = np.array([[1], [3]])\n",
    "f = 2 * x**2 + 5 * y**3\n",
    "H = hessian(f, x0)\n",
    "s = -la.solve(H, gradient(f, x0))\n",
    "print('Hessian: %s' %H)\n",
    "print('Step: %s'%s)\n",
    "x1 = x0 + s\n",
    "print('x1: %s' %x1)"
   ]
  },
  {
   "cell_type": "code",
   "execution_count": 19,
   "metadata": {},
   "outputs": [
    {
     "name": "stdout",
     "output_type": "stream",
     "text": [
      "Hessian: [[24.  0.]\n",
      " [ 0. 36.]]\n",
      "Step: [[-1.        ]\n",
      " [-0.33333333]]\n",
      "x1: [[1.        ]\n",
      " [0.66666667]]\n"
     ]
    }
   ],
   "source": [
    "x, y = symbols('x y')\n",
    "x0 = np.array([[2], [1]])\n",
    "f = 2 * x**3 + 3 * y**4\n",
    "H = hessian(f, x0)\n",
    "s = -la.solve(H, gradient(f, x0))\n",
    "print('Hessian: %s' %H)\n",
    "print('Step: %s'%s)\n",
    "x1 = x0 + s\n",
    "print('x1: %s' %x1)"
   ]
  },
  {
   "cell_type": "markdown",
   "metadata": {},
   "source": [
    "![](../Quiz/Quiz5/17.jpg)\n",
    "![](img/28.jpg)"
   ]
  },
  {
   "cell_type": "code",
   "execution_count": 29,
   "metadata": {},
   "outputs": [
    {
     "data": {
      "text/latex": [
       "$\\displaystyle 1.31016416130992$"
      ],
      "text/plain": [
       "1.31016416130992"
      ]
     },
     "execution_count": 29,
     "metadata": {},
     "output_type": "execute_result"
    }
   ],
   "source": [
    "# Finite Difference: Calculation R -> R\n",
    "x = Symbol('x')\n",
    "y = -log(x)\n",
    "x0 = 0.1\n",
    "h = 0.01\n",
    "(y.subs(x, x0+h) - y.subs(x, x0-h))/2/h\n",
    "# 看情况\n",
    "x = Symbol('x')\n",
    "y = exp(x)\n",
    "x0 = 0.3\n",
    "h = 0.06\n",
    "y0 = 1.349859\n",
    "(y0 - y.subs(x, x0-h))/h"
   ]
  },
  {
   "cell_type": "code",
   "execution_count": 46,
   "metadata": {},
   "outputs": [
    {
     "data": {
      "text/latex": [
       "$\\displaystyle -1.48215832184909$"
      ],
      "text/plain": [
       "-1.48215832184909"
      ]
     },
     "execution_count": 46,
     "metadata": {},
     "output_type": "execute_result"
    }
   ],
   "source": [
    "x = Symbol('x')\n",
    "y = -log(x)\n",
    "x0 = 0.1\n",
    "h = 0.01\n",
    "(y.subs(x, x0+h) - y.subs(x, x0-h))/2/h\n",
    "# 看情况\n",
    "x = Symbol('x')\n",
    "y = -log(x)\n",
    "x0 = 0.7\n",
    "h = 0.05\n",
    "y0 = 0.356675\n",
    "(y0 - y.subs(x, x0-h))/h"
   ]
  },
  {
   "cell_type": "markdown",
   "metadata": {},
   "source": [
    "![](img/29.jpg)"
   ]
  },
  {
   "cell_type": "code",
   "execution_count": 7,
   "metadata": {},
   "outputs": [
    {
     "name": "stdout",
     "output_type": "stream",
     "text": [
      "-3\n",
      "0.8125 -1\n"
     ]
    },
    {
     "data": {
      "text/plain": [
       "-0.2265625"
      ]
     },
     "execution_count": 7,
     "metadata": {},
     "output_type": "execute_result"
    }
   ],
   "source": [
    "# Summing Two Floating-Point Numbers\n",
    "def sum_minifloats(x,y):\n",
    "    # compute sum z = x + y\n",
    "    # return z as a float\n",
    "    z = decoding(x) + decoding(y)\n",
    "    return z\n",
    "\n",
    "def decoding(x):\n",
    "    a = (-1)**x[0]\n",
    "    E = np.array([x[i]*2**(5-i) for i in range(1,6)]).sum().astype(np.int) - 16\n",
    "    print(E)\n",
    "    M = np.array([x[i]*2**(5-i) for i in range(6,10)]).sum()\n",
    "    print(M, a)\n",
    "    return a*(1+M)*2.**E\n",
    "decoding(x)"
   ]
  },
  {
   "cell_type": "markdown",
   "metadata": {},
   "source": [
    "![](img/30.jpg)"
   ]
  },
  {
   "cell_type": "code",
   "execution_count": 27,
   "metadata": {},
   "outputs": [
    {
     "data": {
      "text/plain": [
       "0.00390625"
      ]
     },
     "execution_count": 27,
     "metadata": {},
     "output_type": "execute_result"
    }
   ],
   "source": [
    "# Properties of a Floating Point System\n",
    "n = 6\n",
    "m = (-8, 9)\n",
    "# smallest positive normalized number\n",
    "2**m[0]"
   ]
  },
  {
   "cell_type": "code",
   "execution_count": 10,
   "metadata": {},
   "outputs": [
    {
     "data": {
      "text/plain": [
       "128"
      ]
     },
     "execution_count": 10,
     "metadata": {},
     "output_type": "execute_result"
    }
   ],
   "source": [
    "n = 6\n",
    "m = (-7, 8)\n",
    "# largest value of K that [-k, k] are exactly represenable\n",
    "2**(n+1)"
   ]
  },
  {
   "cell_type": "code",
   "execution_count": 26,
   "metadata": {},
   "outputs": [
    {
     "data": {
      "text/plain": [
       "504.0"
      ]
     },
     "execution_count": 26,
     "metadata": {},
     "output_type": "execute_result"
    }
   ],
   "source": [
    "n = 5\n",
    "m = (-7, 8)\n",
    "# Largest normalized number\n",
    "(1+bin2dec('0.' + n*'1'))*2**m[1]"
   ]
  },
  {
   "cell_type": "code",
   "execution_count": 7,
   "metadata": {},
   "outputs": [
    {
     "data": {
      "text/plain": [
       "0.000244140625"
      ]
     },
     "execution_count": 7,
     "metadata": {},
     "output_type": "execute_result"
    }
   ],
   "source": [
    "n = 4\n",
    "m = (-8, 9)\n",
    "# smallest positive subnormal number\n",
    "(bin2dec('0.' + (n-1)*'0'+ '1'))*2**m[0]"
   ]
  },
  {
   "cell_type": "code",
   "execution_count": 15,
   "metadata": {},
   "outputs": [
    {
     "data": {
      "text/plain": [
       "0.0078125"
      ]
     },
     "execution_count": 15,
     "metadata": {},
     "output_type": "execute_result"
    }
   ],
   "source": [
    "n = 7\n",
    "m = (-126, 127)\n",
    "# Machine epsilon\n",
    "2 ** -n"
   ]
  },
  {
   "cell_type": "markdown",
   "metadata": {},
   "source": [
    "Newton's method Concept\n",
    "![](../Quiz/Quiz5/8.jpg)\n",
    "![](../Quiz/Quiz5/13.jpg)"
   ]
  },
  {
   "cell_type": "markdown",
   "metadata": {},
   "source": [
    "![](img/31.jpg)"
   ]
  },
  {
   "cell_type": "code",
   "execution_count": 16,
   "metadata": {},
   "outputs": [
    {
     "name": "stdout",
     "output_type": "stream",
     "text": [
      "-3\n",
      "1\n"
     ]
    }
   ],
   "source": [
    "# Taylor: Shifting the Expansion Point\n",
    "x = Symbol('x')\n",
    "f = 2 - 9*x + x**2\n",
    "x0 = 3\n",
    "order = 2\n",
    "for i in range(order):\n",
    "    print(diff(f, x, i+1).subs(x, x0)/factorial(i+1))"
   ]
  },
  {
   "cell_type": "code",
   "execution_count": 8,
   "metadata": {},
   "outputs": [
    {
     "name": "stdout",
     "output_type": "stream",
     "text": [
      "24\n",
      "5\n"
     ]
    }
   ],
   "source": [
    "x = Symbol('x')\n",
    "f = 6 - 6*x + 5*x**2\n",
    "x0 = 3\n",
    "order = 2\n",
    "for i in range(order):\n",
    "    print(diff(f, x, i+1).subs(x, x0)/factorial(i+1))"
   ]
  },
  {
   "cell_type": "markdown",
   "metadata": {},
   "source": [
    "Singular value decomposition\n",
    "![](../Quiz/Quiz6/2.jpg)"
   ]
  },
  {
   "cell_type": "markdown",
   "metadata": {},
   "source": [
    "Condition Number\n",
    "![](../Quiz/Quiz4/18.jpg)\n",
    "![](img/32.jpg)"
   ]
  },
  {
   "cell_type": "markdown",
   "metadata": {},
   "source": [
    "![](img/33.jpg)"
   ]
  },
  {
   "cell_type": "code",
   "execution_count": null,
   "metadata": {},
   "outputs": [],
   "source": [
    "# Finite Difference\n",
    "import numpy as np\n",
    "\n",
    "def f(x):\n",
    "    return x[0]**4 + x[1]*x[6] + x[2]**2 + x[3]**3 + x[4]*x[5] + x[5]**3 + x[6]**3\n",
    "\n",
    "n = len(xvec)\n",
    "approx_gradient = np.zeros(n)\n",
    "h = 0.9\n",
    "for i in range(n):\n",
    "    pert = np.zeros(n)\n",
    "    pert[i] = h\n",
    "    approx_gradient[i] = (f(xvec) - f(xvec-pert))/h"
   ]
  },
  {
   "cell_type": "markdown",
   "metadata": {},
   "source": [
    "![](img/34.jpg)"
   ]
  },
  {
   "cell_type": "code",
   "execution_count": null,
   "metadata": {},
   "outputs": [],
   "source": [
    "# Grubhub Coupon\n",
    "import numpy as np\n",
    "import numpy.linalg as la\n",
    "\n",
    "A = np.array([[0, 0, 1, 0, 0],\n",
    "              [1, 0, 0, 0, 0],\n",
    "              [1, 1, 0, 1, 1],\n",
    "              [0, 0, 1, 0, 0],\n",
    "              [1, 1, 1, 0, 0]])\n",
    "C = (A / A.sum(axis=0))\n",
    "x = np.ones(A.shape[0])/A.shape[0]\n",
    "\n",
    "for i in range(10000):\n",
    "    x = C @ x\n",
    "\n",
    "p = x[restaurants.index('Mexican')]"
   ]
  },
  {
   "cell_type": "markdown",
   "metadata": {},
   "source": [
    "![](img/36.jpg)"
   ]
  },
  {
   "cell_type": "code",
   "execution_count": null,
   "metadata": {},
   "outputs": [],
   "source": [
    "# SVD Compression V2\n",
    "import numpy as np\n",
    "import matplotlib.pyplot as plt\n",
    "import numpy.linalg as la\n",
    "\n",
    "u, s, vt = la.svd(image, full_matrices = False)\n",
    "print(u.shape, s.shape, vt.shape)\n",
    "k = 0\n",
    "image_compressed = 0\n",
    "for i in range(len(s)):\n",
    "    image_compressed += s[i] * np.outer(u[:,i], vt[i])\n",
    "    k+=1\n",
    "    if la.norm(image_compressed - image, 2) <= eps:\n",
    "        break\n",
    "plt.figure()\n",
    "plt.imshow(image, cmap=\"gray\")\n",
    "plt.title(\"Original Image\")\n",
    "\n",
    "plt.figure()\n",
    "plt.imshow(image_compressed, cmap=\"gray\")\n",
    "plt.title(\"Compressed: $eps$ = {}\".format(eps) + \",  $k$ = {}\".format(k))"
   ]
  },
  {
   "cell_type": "markdown",
   "metadata": {},
   "source": [
    "Newton Concept\n",
    "<img src = '../Quiz/Quiz5/15.jpg'>\n",
    "<img src = '../Quiz/Quiz5/16.jpg'>\n",
    "<img src = '../Quiz/Quiz5/25.jpg'>"
   ]
  },
  {
   "cell_type": "markdown",
   "metadata": {},
   "source": [
    "OptimizationND Newton Concept\n",
    "![](../Quiz/Quiz5/26.jpg)\n",
    "![](img/38.jpg)"
   ]
  },
  {
   "cell_type": "markdown",
   "metadata": {},
   "source": [
    "![](img/39.jpg)"
   ]
  },
  {
   "cell_type": "markdown",
   "metadata": {},
   "source": [
    "OptimizationND Compare Method\n",
    "![](img/52.jpg)\n",
    "<img src = '../Quiz/Quiz5/27.jpg'>\n",
    "<img src = '../Quiz/Quiz5/29.jpg'>\n",
    "CompareConvergence\n",
    "<img src = '../Quiz/Quiz5/28.jpg'>"
   ]
  },
  {
   "cell_type": "code",
   "execution_count": 30,
   "metadata": {},
   "outputs": [
    {
     "name": "stdout",
     "output_type": "stream",
     "text": [
      "[[ -8.  18.]\n",
      " [-12.   5.]]\n"
     ]
    },
    {
     "data": {
      "text/plain": [
       "array([-0.80681818,  0.86363636])"
      ]
     },
     "execution_count": 30,
     "metadata": {},
     "output_type": "execute_result"
    }
   ],
   "source": [
    "# NewtonSolve\n",
    "x, y = symbols('x y')\n",
    "f = Matrix([4*x**2 + 6*y**3 - 6, 3*x**4 + 5*y -5])\n",
    "X0 = np.array([-1, 1])\n",
    "\n",
    "Y = Matrix([x, y])\n",
    "J = (f.jacobian(Y))\n",
    "\n",
    "J_ = np.array(J.subs({x:X0[0], y:X0[1]})).astype(np.float64)\n",
    "print(J_)\n",
    "f_ = np.array(f.subs({x:X0[0], y:X0[1]})).astype(np.float64)\n",
    "\n",
    "S = la.solve(J_, -f_)\n",
    "S.flatten()+X0"
   ]
  },
  {
   "cell_type": "markdown",
   "metadata": {},
   "source": [
    "![](img/40.jpg)"
   ]
  },
  {
   "cell_type": "code",
   "execution_count": 38,
   "metadata": {},
   "outputs": [
    {
     "data": {
      "text/plain": [
       "109.66666666666667"
      ]
     },
     "execution_count": 38,
     "metadata": {},
     "output_type": "execute_result"
    }
   ],
   "source": [
    "# Taylor Series approximation\n",
    "x = Symbol('x')\n",
    "f_x0 = [3, -2, 9, -3, 7]\n",
    "x0 = 0\n",
    "xp = 4\n",
    "\n",
    "f = 0\n",
    "for i in range(len(f_x0)):\n",
    "    f += f_x0[i]/factorial(i)*(x - x0)**i\n",
    "float(f.subs(x,xp))"
   ]
  },
  {
   "cell_type": "code",
   "execution_count": 17,
   "metadata": {},
   "outputs": [
    {
     "data": {
      "text/plain": [
       "28.333333333333332"
      ]
     },
     "execution_count": 17,
     "metadata": {},
     "output_type": "execute_result"
    }
   ],
   "source": [
    "x = Symbol('x')\n",
    "f_x0 = [3, -5, 3, -2, 4]\n",
    "x0 = 0\n",
    "xp = 4\n",
    "\n",
    "f = 0\n",
    "for i in range(len(f_x0)):\n",
    "    f += f_x0[i]/factorial(i)*(x - x0)**i\n",
    "float(f.subs(x,xp))"
   ]
  },
  {
   "cell_type": "markdown",
   "metadata": {},
   "source": [
    "![](img/41.jpg)"
   ]
  },
  {
   "cell_type": "code",
   "execution_count": 40,
   "metadata": {},
   "outputs": [
    {
     "data": {
      "text/plain": [
       "8"
      ]
     },
     "execution_count": 40,
     "metadata": {},
     "output_type": "execute_result"
    }
   ],
   "source": [
    "# Eigenvalues of Matrix Polynomials\n",
    "lam = -2\n",
    "lamb = lam**3 - 3*lam**2 - 8*lam + 12\n",
    "lamb"
   ]
  },
  {
   "cell_type": "code",
   "execution_count": 20,
   "metadata": {},
   "outputs": [
    {
     "data": {
      "text/plain": [
       "-23"
      ]
     },
     "execution_count": 20,
     "metadata": {},
     "output_type": "execute_result"
    }
   ],
   "source": [
    "lam = 3\n",
    "lamb = lam**3 - 4*lam**2 -9*lam + 13\n",
    "lamb"
   ]
  },
  {
   "cell_type": "markdown",
   "metadata": {},
   "source": [
    "![](img/42.jpg)"
   ]
  },
  {
   "cell_type": "code",
   "execution_count": 43,
   "metadata": {},
   "outputs": [
    {
     "data": {
      "text/plain": [
       "0.25"
      ]
     },
     "execution_count": 43,
     "metadata": {},
     "output_type": "execute_result"
    }
   ],
   "source": [
    "# Floating point machine epsilon\n",
    "n = 2\n",
    "m = (-85, 84)\n",
    "2**(-n)"
   ]
  },
  {
   "cell_type": "markdown",
   "metadata": {},
   "source": [
    "![](img/44.jpg)"
   ]
  },
  {
   "cell_type": "code",
   "execution_count": 9,
   "metadata": {},
   "outputs": [
    {
     "data": {
      "text/plain": [
       "75.0"
      ]
     },
     "execution_count": 9,
     "metadata": {},
     "output_type": "execute_result"
    }
   ],
   "source": [
    "# Taylor Series Approximation Derivative\n",
    "x = symbols('x')\n",
    "n_degree_taylor_derivative(3*x**3+7*x**2+5*x+2,5,0,2,1)"
   ]
  },
  {
   "cell_type": "code",
   "execution_count": 34,
   "metadata": {},
   "outputs": [
    {
     "data": {
      "text/plain": [
       "-3.0"
      ]
     },
     "execution_count": 34,
     "metadata": {},
     "output_type": "execute_result"
    },
    {
     "ename": "",
     "evalue": "",
     "output_type": "error",
     "traceback": [
      "\u001b[1;31mThe Kernel crashed while executing code in the the current cell or a previous cell. Please review the code in the cell(s) to identify a possible cause of the failure. Click <a href='https://aka.ms/vscodeJupyterKernelCrash'>here</a> for more info. View Jupyter <a href='command:jupyter.viewOutput'>log</a> for further details."
     ]
    }
   ],
   "source": [
    "x = symbols('x')\n",
    "n_degree_taylor_derivative(cos(x),3,0,2,1)"
   ]
  },
  {
   "cell_type": "markdown",
   "metadata": {},
   "source": [
    "![](img/45.jpg)"
   ]
  },
  {
   "cell_type": "code",
   "execution_count": 28,
   "metadata": {},
   "outputs": [
    {
     "data": {
      "text/plain": [
       "3.0"
      ]
     },
     "execution_count": 28,
     "metadata": {},
     "output_type": "execute_result"
    }
   ],
   "source": [
    "# Matrix Condition Number Approximation\n",
    "x1 = 1\n",
    "x2 = 2 \n",
    "x3 = 4\n",
    "Ax1 = 30\n",
    "Ax2 = 20\n",
    "Ax3 = 80\n",
    "\n",
    "X = np.array([x1, x2, x3])\n",
    "AX = np.array([Ax1, Ax2, Ax3])\n",
    "A = AX/X\n",
    "np.max(A) / np.min(A)"
   ]
  },
  {
   "cell_type": "markdown",
   "metadata": {},
   "source": [
    "![](img/46.jpg)"
   ]
  },
  {
   "cell_type": "code",
   "execution_count": 29,
   "metadata": {},
   "outputs": [
    {
     "data": {
      "text/plain": [
       "0.09072"
      ]
     },
     "execution_count": 29,
     "metadata": {},
     "output_type": "execute_result"
    }
   ],
   "source": [
    "# Error prediction\n",
    "C = 0.6\n",
    "e0 = 0.7\n",
    "iteration = 4\n",
    "\n",
    "e = e0\n",
    "for i in range(iteration):\n",
    "    e *= C\n",
    "e"
   ]
  },
  {
   "cell_type": "markdown",
   "metadata": {},
   "source": [
    "![](img/47.jpg)"
   ]
  },
  {
   "cell_type": "code",
   "execution_count": 31,
   "metadata": {},
   "outputs": [
    {
     "name": "stdout",
     "output_type": "stream",
     "text": [
      "[[-2.]]\n",
      "[[-1.]]\n",
      "[[-1.]]\n"
     ]
    }
   ],
   "source": [
    "# Finite Difference Gradient\n",
    "x, y, z = symbols('x y z')\n",
    "X0 = np.array([1, 1, 1])\n",
    "phi = Matrix([x*y + x + z])\n",
    "h = 0.1\n",
    "\n",
    "# Forward\n",
    "\n",
    "phi0 = np.array(phi.subs({x:X0[0], y:X0[1], z:X0[2]})).astype(np.float64)\n",
    "for i in range(3):\n",
    "    a = np.zeros(3)\n",
    "    a[i] = h\n",
    "    X = X0 + a\n",
    "    phix = np.array(phi.subs({x:X[0], y:X[1], z:X[2]})).astype(np.float64)\n",
    "    print((phi0-phix)/h)\n",
    "\n",
    "# Backward\n",
    "\n",
    "# for i in range(3):\n",
    "#     a = np.zeros(3)\n",
    "#     a[i] = h\n",
    "#     X = X0 - a\n",
    "#     phix = np.array(phi.subs({x:X[0], y:X[1], z:X[2]})).astype(np.float64)\n",
    "#     print(-(phi0-phix)/h)"
   ]
  },
  {
   "cell_type": "code",
   "execution_count": 12,
   "metadata": {},
   "outputs": [
    {
     "name": "stdout",
     "output_type": "stream",
     "text": [
      "[[2.]]\n",
      "[[2.]]\n",
      "[[2.1]]\n"
     ]
    }
   ],
   "source": [
    "x, y, z = symbols('x y z')\n",
    "X0 = np.array([1, 1, 1])\n",
    "v = Matrix([2*x*y + z**2])\n",
    "h = 0.1\n",
    "\n",
    "v0 = np.array(v.subs({x:X0[0], y:X0[1], z:X0[2]})).astype(np.float64)\n",
    "for i in range(3):\n",
    "    a = np.zeros(3)\n",
    "    a[i] = h\n",
    "    X = X0 + a\n",
    "    vx = np.array(v.subs({x:X[0], y:X[1], z:X[2]})).astype(np.float64)\n",
    "    print((-v0+vx)/h)"
   ]
  },
  {
   "cell_type": "markdown",
   "metadata": {},
   "source": [
    "![](img/48.jpg)"
   ]
  },
  {
   "cell_type": "code",
   "execution_count": 32,
   "metadata": {},
   "outputs": [
    {
     "name": "stderr",
     "output_type": "stream",
     "text": [
      "<ipython-input-32-ae80513166ea>:17: RuntimeWarning: divide by zero encountered in true_divide\n",
      "  Sigma_p = 1 / Sigma.T\n"
     ]
    },
    {
     "data": {
      "text/plain": [
       "array([ 1.32      , -0.43111111,  0.10666667,  1.5       ])"
      ]
     },
     "execution_count": 32,
     "metadata": {},
     "output_type": "execute_result"
    }
   ],
   "source": [
    "# Least-Squares Minimum Norm Solution\n",
    "U = np.array([[0, 0, 0, 0],\n",
    "              [0, 1, 0, 0],\n",
    "              [0, 0, 1, 0],\n",
    "              [0, 0, 0, 1],\n",
    "              [1, 0, 0, 0]])\n",
    "Sigma = np.array([[9, 0, 0, 0],\n",
    "                  [0, 5, 0, 0],\n",
    "                  [0, 0, 4, 0],\n",
    "                  [0, 0, 0, 0]])\n",
    "VT = np.array([[0.00, -0.97, 0.24, 0.00],\n",
    "               [0.00, -0.24, -0.97, 0],\n",
    "               [0.66, 0.00, 0.00, 0.75],\n",
    "               [-0.75, 0.00, 0, 0.66]])\n",
    "b = np.array([7, 0, 8, 7, 4])\n",
    "\n",
    "Sigma_p = 1 / Sigma.T\n",
    "Sigma_p[Sigma_p == np.inf] = 0\n",
    "x = VT.T @ Sigma_p @ U.T @ b\n",
    "x"
   ]
  },
  {
   "cell_type": "markdown",
   "metadata": {},
   "source": [
    "![](img/49.jpg)"
   ]
  },
  {
   "cell_type": "code",
   "execution_count": 6,
   "metadata": {},
   "outputs": [
    {
     "data": {
      "text/plain": [
       "('0011001010000000000000000000000000000000000000000000000000000000000000000000000000000000000000000000',\n",
       " 7)"
      ]
     },
     "execution_count": 6,
     "metadata": {},
     "output_type": "execute_result"
    }
   ],
   "source": [
    "# Floating Point Precision\n",
    "decimal_to_floating_point(153.25, 100, 100)"
   ]
  },
  {
   "cell_type": "markdown",
   "metadata": {},
   "source": [
    "![](img/50.jpg)"
   ]
  },
  {
   "cell_type": "code",
   "execution_count": 7,
   "metadata": {},
   "outputs": [
    {
     "data": {
      "text/plain": [
       "array([0.28205128, 0.41025641, 0.30769231])"
      ]
     },
     "execution_count": 7,
     "metadata": {},
     "output_type": "execute_result"
    }
   ],
   "source": [
    "# Find Normalized Eigenvector G\n",
    "v = np.array([11,16,12])\n",
    "v/la.norm(v, 1)"
   ]
  },
  {
   "cell_type": "markdown",
   "metadata": {},
   "source": [
    "![](img/51.jpg)"
   ]
  },
  {
   "cell_type": "code",
   "execution_count": 10,
   "metadata": {},
   "outputs": [
    {
     "data": {
      "text/plain": [
       "0.058823529411764705"
      ]
     },
     "execution_count": 10,
     "metadata": {},
     "output_type": "execute_result"
    }
   ],
   "source": [
    "# Relative Error in Floating Point\n",
    "decimal_to_floating_point(8.5, 2, 100)\n",
    "(8.5-8)/8.5"
   ]
  },
  {
   "cell_type": "markdown",
   "metadata": {},
   "source": [
    "Matrix Conditioning\n",
    "![](img/53.jpg)"
   ]
  },
  {
   "cell_type": "markdown",
   "metadata": {},
   "source": [
    "![](img/54.jpg)"
   ]
  },
  {
   "cell_type": "code",
   "execution_count": 22,
   "metadata": {},
   "outputs": [
    {
     "name": "stdout",
     "output_type": "stream",
     "text": [
      "[[5. 0.]\n",
      " [0. 4.]]\n",
      "[[1.  0.5]\n",
      " [0.  0.5]]\n"
     ]
    }
   ],
   "source": [
    "# Similarity Transformation of a Matrix\n",
    "A = np.array([[5, -1],\n",
    "              [0, 4]])\n",
    "D = np.diag(la.eig(A)[0])\n",
    "\n",
    "X0 = la.eig(A)[1]\n",
    "X = np.zeros_like(X0)\n",
    "for i in range(D.shape[0]):\n",
    "    X[:,i] = X0[:, i]/la.norm(X0[:, i], 1)\n",
    "print(D)\n",
    "print(X)"
   ]
  }
 ],
 "metadata": {
  "interpreter": {
   "hash": "88279d2366fe020547cde40dd65aa0e3aa662a6ec1f3ca12d88834876c85e1a6"
  },
  "kernelspec": {
   "display_name": "Python 3.8.10 ('base')",
   "language": "python",
   "name": "python3"
  },
  "language_info": {
   "codemirror_mode": {
    "name": "ipython",
    "version": 3
   },
   "file_extension": ".py",
   "mimetype": "text/x-python",
   "name": "python",
   "nbconvert_exporter": "python",
   "pygments_lexer": "ipython3",
   "version": "3.8.10"
  },
  "orig_nbformat": 4
 },
 "nbformat": 4,
 "nbformat_minor": 2
}
