{
 "cells": [
  {
   "cell_type": "code",
   "execution_count": 9,
   "metadata": {},
   "outputs": [],
   "source": [
    "import numpy as np\n",
    "import numpy.linalg as la\n",
    "import matplotlib.pyplot as plt\n",
    "from sympy import *"
   ]
  },
  {
   "cell_type": "code",
   "execution_count": 48,
   "metadata": {},
   "outputs": [],
   "source": [
    "def n_degree_taylor(formula, x, x_0, n):\n",
    "    '''\n",
    "    Given the analytic expression, x and x_0, calculate\n",
    "    its nth degree Taylor polynomial\n",
    "    Note: Variable is defaulted to x\n",
    "    '''\n",
    "    var_x = Symbol('x')\n",
    "    acc = 0\n",
    "    # Be careful, n+1 because it's up to n\n",
    "    for i in range(n+1):\n",
    "        acc += diff(formula, var_x, i).subs(var_x, x_0)/factorial(i)*(x-x_0)**i\n",
    "    return float(acc)"
   ]
  },
  {
   "cell_type": "code",
   "execution_count": 47,
   "metadata": {},
   "outputs": [],
   "source": [
    "def n_degree_taylor_derivative(formula, x, x_0, n, n_d):\n",
    "    '''\n",
    "    Given the analytic expression, x and x_0, calculate\n",
    "    its n_d-th derivative based on n-th degree Taylor polynomial\n",
    "    Note: Variable is defaulted to x\n",
    "    \n",
    "    Parameters:\n",
    "    formula -- analytic expression in sympy\n",
    "    x -- desired point\n",
    "    x_0 -- expansion point\n",
    "    n -- highest degree of polynomial\n",
    "    n_d -- degree of derivative\n",
    "\n",
    "    Returns:\n",
    "    n_d-th derivative based on n-th degree Taylor polynomial\n",
    "    '''\n",
    "    var_x = Symbol('x')\n",
    "    acc = 0\n",
    "    # Be careful, n+1 because it's up to n\n",
    "    for i in range(n+1):\n",
    "        acc += diff(formula, var_x, i).subs(var_x, x_0)/factorial(i)*(var_x-x_0)**i\n",
    "    derivative = diff(acc, var_x, n_d)\n",
    "    return float(derivative.subs(var_x, x))"
   ]
  },
  {
   "cell_type": "code",
   "execution_count": 46,
   "metadata": {},
   "outputs": [],
   "source": [
    "def decimal_to_floating_point(x, n, p):\n",
    "    \"\"\"\n",
    "    Convert a positive decimal number x into its normalized floating-point\n",
    "    form.\n",
    "    \n",
    "    Parameters\n",
    "    ----------\n",
    "    x: float\n",
    "        Input positive decimal number\n",
    "    n: int\n",
    "        Number of binary bits in fraction\n",
    "    p: int\n",
    "        Exponent range\n",
    "\n",
    "    Returns\n",
    "    -------\n",
    "    f: str\n",
    "        String of length n representing the fraction part of x in the given floating-point system\n",
    "    m: int\n",
    "        Exponent of x in the given floating-point system\n",
    "    \"\"\"\n",
    "\n",
    "    # your implementation goes here\n",
    "\n",
    "    integer_part = int(x)\n",
    "    decimal_part = x - integer_part\n",
    "    int_bin = bin(integer_part)[2:]\n",
    "\n",
    "    def dec2bin(x):\n",
    "        x -= int(x)\n",
    "        bins = []\n",
    "\n",
    "        while x:\n",
    "            x *= 2\n",
    "            bins.append(1 if x>=1. else 0)\n",
    "            x -= int(x)\n",
    "\n",
    "        return bins\n",
    "    decimal_bins = dec2bin(decimal_part)\n",
    "    if integer_part != 0:\n",
    "        m = len(str(int_bin)) - 1\n",
    "        f = str(int_bin)[1:]\n",
    "        for i in decimal_bins:\n",
    "            f += str(i)\n",
    "        if len(f) > n:\n",
    "            f = f[:n]\n",
    "        elif len(f) < n:\n",
    "            f += (n - len(f)) * '0'\n",
    "\n",
    "    if integer_part == 0:\n",
    "        m = -(decimal_bins.index(1) + 1)\n",
    "        f = ''\n",
    "        for i in range(decimal_bins.index(1) + 1, len(decimal_bins)):\n",
    "            f += str(decimal_bins[i])\n",
    "        if len(f) > n:\n",
    "            f = f[:n]\n",
    "        elif len(f) < n:\n",
    "            f += (n - len(f)) * '0'\n",
    "\n",
    "    return f, m\n",
    "\n",
    "def bin2dec(x):\n",
    "    x = str(x)\n",
    "    a = 0\n",
    "    for i in range(2, len(x)):\n",
    "        a += int(x[i]) * 2 ** (-i + 1)\n",
    "    return a"
   ]
  },
  {
   "cell_type": "code",
   "execution_count": 51,
   "metadata": {},
   "outputs": [],
   "source": [
    "def hessian(f, X):\n",
    "    x0, y0 = X[0, 0], X[1,0]\n",
    "    x, y = Symbol('x'), Symbol('y')\n",
    "    A = Matrix([f])\n",
    "    B = Matrix([x, y])\n",
    "    Hessian = A.jacobian(B).jacobian(B).subs({x:x0, y:y0})\n",
    "    return np.array(Hessian).astype(np.float64)\n",
    "\n",
    "def gradient(f, X):\n",
    "    x0, y0 = X[0, 0], X[1,0]\n",
    "    x, y = Symbol('x'), Symbol('y')\n",
    "    A = Matrix([f])\n",
    "    B = Matrix([x, y])\n",
    "    Gradient = A.jacobian(B).subs({x:x0, y:y0})\n",
    "    return np.array(Gradient).astype(np.float64).T\n",
    "\n",
    "def newtons_method(f, x_init, tol):\n",
    "    x_new = x_init\n",
    "    x_prev = np.random.randn(x_init.shape[0])\n",
    "    cnt = 0\n",
    "    while(la.norm(gradient(f, x_new)) > tol):\n",
    "        x_prev = x_new\n",
    "        print(x_prev)\n",
    "        s = -la.solve(hessian(f, x_prev), gradient(f, x_prev))\n",
    "        x_new = x_prev + s\n",
    "        print(x_new)\n",
    "        cnt += 1\n",
    "    return x_new, cnt"
   ]
  },
  {
   "cell_type": "markdown",
   "metadata": {},
   "source": [
    "![](img/1.jpg)"
   ]
  },
  {
   "cell_type": "code",
   "execution_count": 8,
   "metadata": {},
   "outputs": [
    {
     "name": "stdout",
     "output_type": "stream",
     "text": [
      "[[-0.6445   1.21975 -1.0405 ]\n",
      " [ 0.3035  -0.94925  1.1465 ]\n",
      " [ 0.2295  -0.39825  0.3355 ]\n",
      " [ 0.1115   0.12775 -0.4415 ]]\n"
     ]
    },
    {
     "data": {
      "text/plain": [
       "array([2.37845489, 0.42865198, 0.01336356])"
      ]
     },
     "execution_count": 8,
     "metadata": {},
     "output_type": "execute_result"
    }
   ],
   "source": [
    "# Singular Values for PCA Mean\n",
    "X = np.array([[-0.614, 0.896, -1.649], [0.334, -1.273, 0.538], [0.260, -0.722, -0.273], [0.142, -0.196, -1.050]])\n",
    "X_zeroed = X - X.sum(axis = 0)/X.shape[0]\n",
    "u, s, vt = la.svd(X_zeored)\n",
    "print(X_zeroed)\n",
    "s\n"
   ]
  },
  {
   "cell_type": "markdown",
   "metadata": {},
   "source": [
    "![](img/2.jpg)"
   ]
  },
  {
   "cell_type": "code",
   "execution_count": 24,
   "metadata": {},
   "outputs": [
    {
     "name": "stdout",
     "output_type": "stream",
     "text": [
      "[[  9.   4.]\n",
      " [-16.   6.]]\n"
     ]
    },
    {
     "data": {
      "text/plain": [
       "array([-0.47457627,  1.56779661])"
      ]
     },
     "execution_count": 24,
     "metadata": {},
     "output_type": "execute_result"
    }
   ],
   "source": [
    "# NewtonSolve\n",
    "x, y = symbols('x y')\n",
    "X = Matrix([3*x**3 + 2*y**2 - 6, 4*x**4 + 6*y - 5])\n",
    "x0 = np.array([-1, 1])\n",
    "Y = Matrix([x, y])\n",
    "J = X.jacobian(Y)\n",
    "J_0 = np.array(J.subs({x: x0[0], y: x0[1]})).astype(np.float)\n",
    "print(J_0)\n",
    "x1 = x0 - la.inv(J_0) @ np.array(X.subs({x: x0[0], y: x0[1]})).astype(np.float).flatten()\n",
    "x1"
   ]
  },
  {
   "cell_type": "markdown",
   "metadata": {},
   "source": [
    "![](img/3.jpg)"
   ]
  },
  {
   "cell_type": "code",
   "execution_count": 26,
   "metadata": {},
   "outputs": [
    {
     "data": {
      "text/plain": [
       "15"
      ]
     },
     "execution_count": 26,
     "metadata": {},
     "output_type": "execute_result"
    }
   ],
   "source": [
    "# Low-rank Approximation\n",
    "s = np.array([32, 27, 15, 3, 2])\n",
    "r = 2\n",
    "\n",
    "d = s[r]\n",
    "d"
   ]
  },
  {
   "cell_type": "markdown",
   "metadata": {},
   "source": [
    "![](img/4.jpg)"
   ]
  },
  {
   "cell_type": "code",
   "execution_count": 40,
   "metadata": {},
   "outputs": [
    {
     "name": "stdout",
     "output_type": "stream",
     "text": [
      "1100 3\n"
     ]
    },
    {
     "data": {
      "text/plain": [
       "0.125"
      ]
     },
     "execution_count": 40,
     "metadata": {},
     "output_type": "execute_result"
    }
   ],
   "source": [
    "# Rounding Error - Decimal to Binary Floating Point\n",
    "y = 14.375\n",
    "n = 4\n",
    "f, m = decimal_to_floating_point(14.375, 4)\n",
    "print(f, m)\n",
    "(1 + bin2dec(0.1101)) * 2 **m\n",
    "abs((1 + bin2dec(0.1101)) * 2 **m - y)"
   ]
  },
  {
   "cell_type": "markdown",
   "metadata": {},
   "source": [
    "Ill-Conditioned Matrices\n",
    "![](img/5.jpg)"
   ]
  },
  {
   "cell_type": "markdown",
   "metadata": {},
   "source": [
    "![](img/6.jpg)"
   ]
  },
  {
   "cell_type": "code",
   "execution_count": 41,
   "metadata": {},
   "outputs": [
    {
     "data": {
      "text/plain": [
       "16"
      ]
     },
     "execution_count": 41,
     "metadata": {},
     "output_type": "execute_result"
    }
   ],
   "source": [
    "# Floating point: exact representation\n",
    "n = 3\n",
    "k = 2 ** (n + 1)\n",
    "k"
   ]
  },
  {
   "cell_type": "markdown",
   "metadata": {},
   "source": [
    "![](img/7.jpg)"
   ]
  },
  {
   "cell_type": "code",
   "execution_count": 42,
   "metadata": {},
   "outputs": [
    {
     "data": {
      "text/plain": [
       "5.385164807134504"
      ]
     },
     "execution_count": 42,
     "metadata": {},
     "output_type": "execute_result"
    }
   ],
   "source": [
    "# Find the Residual\n",
    "u3 = np.array([0, 0, 0, 1])\n",
    "u4 = np.array([0, 0, 1, 0])\n",
    "b = np.array([9, 12, 5, 2])\n",
    "np.sqrt((u3 @ b)**2 + (u4 @ b)**2)"
   ]
  },
  {
   "cell_type": "markdown",
   "metadata": {},
   "source": [
    "Compare Computational Cost\n",
    "![](../Quiz/Quiz5/3.jpg)\n",
    "![](../Quiz/Quiz5/19.jpg)"
   ]
  },
  {
   "cell_type": "markdown",
   "metadata": {},
   "source": [
    "![](img/8.jpg)"
   ]
  },
  {
   "cell_type": "code",
   "execution_count": 43,
   "metadata": {},
   "outputs": [
    {
     "data": {
      "text/plain": [
       "array([0.1, 0.5])"
      ]
     },
     "execution_count": 43,
     "metadata": {},
     "output_type": "execute_result"
    }
   ],
   "source": [
    "# Finding the Eigenvalues of a Matrix\n",
    "A = np.array([[7, 0],\n",
    "              [-5, 3]])\n",
    "lam = np.array([A[0, 0], A[1, 1]])\n",
    "lamb = 1/(2*lam - 4)\n",
    "lamb"
   ]
  },
  {
   "cell_type": "markdown",
   "metadata": {},
   "source": [
    "![](img/9.jpg)"
   ]
  },
  {
   "cell_type": "code",
   "execution_count": 44,
   "metadata": {},
   "outputs": [
    {
     "data": {
      "text/plain": [
       "0.013734535892124023"
      ]
     },
     "execution_count": 44,
     "metadata": {},
     "output_type": "execute_result"
    }
   ],
   "source": [
    "# Estimating Errors of Iterative Methods\n",
    "ek = 0.081096\n",
    "C = 0.8\n",
    "\n",
    "r = (1 + 5**0.5)/2\n",
    "ek1 = ek ** r * C\n",
    "ek1"
   ]
  },
  {
   "cell_type": "markdown",
   "metadata": {},
   "source": [
    "Shoe Store Allocation\n",
    "![](img/10.jpg)"
   ]
  },
  {
   "cell_type": "markdown",
   "metadata": {},
   "source": [
    "![](img/11.jpg)"
   ]
  },
  {
   "cell_type": "code",
   "execution_count": 45,
   "metadata": {},
   "outputs": [
    {
     "data": {
      "text/plain": [
       "array([20,  1,  7, 29, 14])"
      ]
     },
     "execution_count": 45,
     "metadata": {},
     "output_type": "execute_result"
    }
   ],
   "source": [
    "# Shifted Inverse Iteration\n",
    "lamA = np.array([8, -11, -5, 17, 2])\n",
    "lamB = lamA + 12\n",
    "lamB"
   ]
  },
  {
   "cell_type": "markdown",
   "metadata": {},
   "source": [
    "![](img/12.jpg)"
   ]
  },
  {
   "cell_type": "code",
   "execution_count": 50,
   "metadata": {},
   "outputs": [
    {
     "data": {
      "text/plain": [
       "-1.0"
      ]
     },
     "execution_count": 50,
     "metadata": {},
     "output_type": "execute_result"
    }
   ],
   "source": [
    "# Taylor Series Approximation\n",
    "n = 3\n",
    "n_degree_taylor(cos(x), 2, 0, n)"
   ]
  },
  {
   "cell_type": "markdown",
   "metadata": {},
   "source": [
    "![](img/13.jpg)"
   ]
  },
  {
   "cell_type": "markdown",
   "metadata": {},
   "source": [
    "![](img/14.jpg)"
   ]
  },
  {
   "cell_type": "code",
   "execution_count": 52,
   "metadata": {},
   "outputs": [
    {
     "name": "stdout",
     "output_type": "stream",
     "text": [
      "[[ 37.90179174]\n",
      " [-72.86249328]]\n"
     ]
    },
    {
     "data": {
      "text/plain": [
       "array([[  4.58035835],\n",
       "       [-10.57249866]])"
      ]
     },
     "execution_count": 52,
     "metadata": {},
     "output_type": "execute_result"
    }
   ],
   "source": [
    "# N-Dimension Optimization using Steepest Descent\n",
    "x, y = symbols('x y')\n",
    "f = 11*x**2 + 14*x*y + 11*y**2 + 6*sin(y)**2 + 13*cos(x*y)\n",
    "X0 = np.array([[-3], [4]])\n",
    "alpha = 0.2\n",
    "s0 = -gradient(f, X0)\n",
    "print(s0)\n",
    "X1 = X0 + alpha*s0\n",
    "X1"
   ]
  },
  {
   "cell_type": "markdown",
   "metadata": {},
   "source": [
    "![](img/15.jpg)"
   ]
  },
  {
   "cell_type": "code",
   "execution_count": 53,
   "metadata": {},
   "outputs": [
    {
     "data": {
      "text/latex": [
       "$\\displaystyle \\left[\\begin{matrix}64 x^{3} & 64 y^{3} & 4 z^{3}\\\\2 x & 2 y & 2 z\\\\3 x^{2} & -1 & 0\\end{matrix}\\right]$"
      ],
      "text/plain": [
       "Matrix([\n",
       "[64*x**3, 64*y**3, 4*z**3],\n",
       "[    2*x,     2*y,    2*z],\n",
       "[ 3*x**2,      -1,      0]])"
      ]
     },
     "execution_count": 53,
     "metadata": {},
     "output_type": "execute_result"
    }
   ],
   "source": [
    "x, y, z = symbols('x y z')\n",
    "X = Matrix([16*x**4 + 16*y**4 + z**4 - 16,\n",
    "            x**2    + y**2    + z**2 - 3,\n",
    "            x**3    - y])\n",
    "Y = Matrix([x, y, z])\n",
    "X.jacobian(Y)"
   ]
  },
  {
   "cell_type": "code",
   "execution_count": null,
   "metadata": {},
   "outputs": [],
   "source": [
    "# Newton's Method\n",
    "import numpy as np\n",
    "import numpy.linalg as la\n",
    "\n",
    "def f(w):\n",
    "    x, y, z = w\n",
    "    return np.array([\n",
    "        16*x**4 + 16*y**4 + z**4 - 16,\n",
    "        x**2    + y**2    + z**2 - 3,\n",
    "        x**3    - y])\n",
    "\n",
    "def J(w):\n",
    "    x, y, z = w\n",
    "    return np.array([[64*x**3, 64*y**3, 4*z**3],\n",
    "                     [2*x, 2*y, 2*z],\n",
    "                     [3*x**2, -1, 0]])\n",
    "\n",
    "guesses = np.zeros((5,3))\n",
    "\n",
    "# Initial guess, don't save this in output\n",
    "w = np.array([1.,1.,1.])\n",
    "x = w\n",
    "for i in range(5):\n",
    "    x = x - la.inv(J(x)) @ f(x)\n",
    "    guesses[i] = x"
   ]
  },
  {
   "cell_type": "markdown",
   "metadata": {},
   "source": [
    "![](img/16.jpg)"
   ]
  },
  {
   "cell_type": "code",
   "execution_count": 70,
   "metadata": {},
   "outputs": [],
   "source": [
    "# Instagram Infinity Loop\n",
    "import numpy as np\n",
    "import numpy.linalg as la\n",
    "\n",
    "\n",
    "M = (A.T / A.sum(axis=1))\n",
    "x = np.ones(A.shape[0])/A.shape[0]\n",
    "while not np.array_equal(M @ x, x):\n",
    "    x = M @ x\n",
    "\n",
    "prob = x[names.index('Nancy')]"
   ]
  },
  {
   "cell_type": "markdown",
   "metadata": {},
   "source": [
    "![](img/18.jpg)"
   ]
  },
  {
   "cell_type": "code",
   "execution_count": null,
   "metadata": {},
   "outputs": [],
   "source": [
    "# Floating Point Summation\n",
    "sum_p = 0.0\n",
    "sum_n = 0.0\n",
    "data = sorted(data,key = abs)\n",
    "for i in range(len(data)):\n",
    "    if data[i] > 0:\n",
    "        sum_p += data[i]\n",
    "    elif data[i] <= 0:\n",
    "        sum_n += data[i]\n",
    "data_sum = sum_p + sum_n"
   ]
  },
  {
   "cell_type": "markdown",
   "metadata": {},
   "source": [
    "![](img/19.jpg)"
   ]
  },
  {
   "cell_type": "code",
   "execution_count": 72,
   "metadata": {},
   "outputs": [
    {
     "data": {
      "text/plain": [
       "array([8.114328  , 6.41123866, 5.17721514, 3.8976963 , 3.65027836,\n",
       "       2.94783879, 2.381553  ])"
      ]
     },
     "execution_count": 72,
     "metadata": {},
     "output_type": "execute_result"
    }
   ],
   "source": [
    "# Solve rank-deficient system with SVD\n",
    "import numpy as np\n",
    "\n",
    "s = S[S!=0]\n",
    "r = len(s)\n",
    "# print(U.shape, S.shape, Vh.shape, r, len(b))\n",
    "U_r = U[:, :r]\n",
    "Vh_r = Vh[:r, :]\n",
    "x = Vh_r.T @ (b @ U_r / s)"
   ]
  },
  {
   "cell_type": "markdown",
   "metadata": {},
   "source": [
    "![](img/20.jpg)"
   ]
  },
  {
   "cell_type": "code",
   "execution_count": null,
   "metadata": {},
   "outputs": [],
   "source": [
    "# Estimate the amount of clay\n",
    "import numpy as np\n",
    "\n",
    "n = 100000\n",
    "V = 10 * 10 * 2\n",
    "x = 10 * np.random.rand(n) - 5\n",
    "y = 10 * np.random.rand(n) - 5\n",
    "z = 2 * np.random.rand(n)\n",
    "\n",
    "def check_in(x, y, z):\n",
    "    if x**2 + y**2 < 25 and z > 0 and z < f(x,y):\n",
    "        return 1\n",
    "    return 0\n",
    "\n",
    "n_in = np.sum(np.array([check_in(x[i], y[i], z[i]) for i in range(n)]))\n",
    "volume = V * n_in/n"
   ]
  },
  {
   "cell_type": "markdown",
   "metadata": {},
   "source": []
  }
 ],
 "metadata": {
  "interpreter": {
   "hash": "88279d2366fe020547cde40dd65aa0e3aa662a6ec1f3ca12d88834876c85e1a6"
  },
  "kernelspec": {
   "display_name": "Python 3.8.10 ('base')",
   "language": "python",
   "name": "python3"
  },
  "language_info": {
   "codemirror_mode": {
    "name": "ipython",
    "version": 3
   },
   "file_extension": ".py",
   "mimetype": "text/x-python",
   "name": "python",
   "nbconvert_exporter": "python",
   "pygments_lexer": "ipython3",
   "version": "3.8.10"
  },
  "orig_nbformat": 4
 },
 "nbformat": 4,
 "nbformat_minor": 2
}
