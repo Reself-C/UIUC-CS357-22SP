{
 "cells": [
  {
   "cell_type": "code",
   "execution_count": 1,
   "metadata": {},
   "outputs": [],
   "source": [
    "def bin2dec(x):\n",
    "    x = str(x)\n",
    "    a = 0\n",
    "    for i in range(2, len(x)):\n",
    "        a += int(x[i]) * 2 ** (-i + 1)\n",
    "    return a"
   ]
  },
  {
   "cell_type": "code",
   "execution_count": 2,
   "metadata": {},
   "outputs": [],
   "source": [
    "from sympy import *\n",
    "import numpy as np"
   ]
  },
  {
   "cell_type": "code",
   "execution_count": 3,
   "metadata": {},
   "outputs": [],
   "source": [
    "def n_degree_taylor(formula, x, x_0, n):\n",
    "    '''\n",
    "    Given the analytic expression, x and x_0, calculate\n",
    "    its nth degree Taylor polynomial\n",
    "    Note: Variable is defaulted to x\n",
    "    '''\n",
    "    var_x = Symbol('x')\n",
    "    acc = 0\n",
    "    # Be careful, n+1 because it's up to n\n",
    "    for i in range(n+1):\n",
    "        acc += diff(formula, var_x, i).subs(var_x, x_0)/factorial(i)*(x-x_0)**i\n",
    "    return float(acc)"
   ]
  },
  {
   "cell_type": "code",
   "execution_count": 4,
   "metadata": {},
   "outputs": [
    {
     "data": {
      "text/plain": [
       "0.18"
      ]
     },
     "execution_count": 4,
     "metadata": {},
     "output_type": "execute_result"
    }
   ],
   "source": [
    "x = Symbol('x')\n",
    "n_degree_taylor(log(1+x),0.2,0,2)"
   ]
  },
  {
   "cell_type": "code",
   "execution_count": 5,
   "metadata": {},
   "outputs": [],
   "source": [
    "def n_degree_taylor_derivative(formula, x, x_0, n, n_d):\n",
    "    '''\n",
    "    Given the analytic expression, x and x_0, calculate\n",
    "    its n_d-th derivative based on n-th degree Taylor polynomial\n",
    "    Note: Variable is defaulted to x\n",
    "    \n",
    "    Parameters:\n",
    "    formula -- analytic expression in sympy\n",
    "    x -- desired point\n",
    "    x_0 -- expansion point\n",
    "    n -- highest degree of polynomial\n",
    "    n_d -- degree of derivative\n",
    "\n",
    "    Returns:\n",
    "    n_d-th derivative based on n-th degree Taylor polynomial\n",
    "    '''\n",
    "    var_x = Symbol('x')\n",
    "    acc = 0\n",
    "    # Be careful, n+1 because it's up to n\n",
    "    for i in range(n+1):\n",
    "        acc += diff(formula, var_x, i).subs(var_x, x_0)/factorial(i)*(var_x-x_0)**i\n",
    "    derivative = diff(acc, var_x, n_d)\n",
    "    return float(derivative.subs(var_x, x))"
   ]
  },
  {
   "cell_type": "code",
   "execution_count": 6,
   "metadata": {},
   "outputs": [],
   "source": [
    "def decimal_to_floating_point(x, n, p):\n",
    "    \"\"\"\n",
    "    Convert a positive decimal number x into its normalized floating-point\n",
    "    form.\n",
    "    \n",
    "    Parameters\n",
    "    ----------\n",
    "    x: float\n",
    "        Input positive decimal number\n",
    "    n: int\n",
    "        Number of binary bits in fraction\n",
    "    p: int\n",
    "        Exponent range\n",
    "\n",
    "    Returns\n",
    "    -------\n",
    "    f: str\n",
    "        String of length n representing the fraction part of x in the given floating-point system\n",
    "    m: int\n",
    "        Exponent of x in the given floating-point system\n",
    "    \"\"\"\n",
    "\n",
    "    # your implementation goes here\n",
    "\n",
    "    integer_part = int(x)\n",
    "    decimal_part = x - integer_part\n",
    "    int_bin = bin(integer_part)[2:]\n",
    "\n",
    "    def dec2bin(x):\n",
    "        x -= int(x)\n",
    "        bins = []\n",
    "\n",
    "        while x:\n",
    "            x *= 2\n",
    "            bins.append(1 if x>=1. else 0)\n",
    "            x -= int(x)\n",
    "\n",
    "        return bins\n",
    "    decimal_bins = dec2bin(decimal_part)\n",
    "    if integer_part != 0:\n",
    "        m = len(str(int_bin)) - 1\n",
    "        f = str(int_bin)[1:]\n",
    "        for i in decimal_bins:\n",
    "            f += str(i)\n",
    "        if len(f) > n:\n",
    "            f = f[:n]\n",
    "        elif len(f) < n:\n",
    "            f += (n - len(f)) * '0'\n",
    "\n",
    "    if integer_part == 0:\n",
    "        m = -(decimal_bins.index(1) + 1)\n",
    "        f = ''\n",
    "        for i in range(decimal_bins.index(1) + 1, len(decimal_bins)):\n",
    "            f += str(decimal_bins[i])\n",
    "        if len(f) > n:\n",
    "            f = f[:n]\n",
    "        elif len(f) < n:\n",
    "            f += (n - len(f)) * '0'\n",
    "\n",
    "    return f, m"
   ]
  },
  {
   "cell_type": "markdown",
   "metadata": {},
   "source": [
    "<img src= 'Quiz2/12.jpg'>"
   ]
  },
  {
   "cell_type": "code",
   "execution_count": 2,
   "metadata": {},
   "outputs": [
    {
     "data": {
      "text/plain": [
       "3.3895313892515355e+38"
      ]
     },
     "execution_count": 2,
     "metadata": {},
     "output_type": "execute_result"
    }
   ],
   "source": [
    "# Properties of bfloat16 Floating Point\n",
    "n = 7\n",
    "m = 127\n",
    "x = \"0.\" + 7 * \"1\"\n",
    "(1+bin2dec(x))*2**m"
   ]
  },
  {
   "cell_type": "code",
   "execution_count": 12,
   "metadata": {},
   "outputs": [
    {
     "name": "stdout",
     "output_type": "stream",
     "text": [
      "42*x + 8*(x - 3)**2 - 69\n",
      "57.0000000000000\n"
     ]
    },
    {
     "data": {
      "text/plain": [
       "57"
      ]
     },
     "execution_count": 12,
     "metadata": {},
     "output_type": "execute_result"
    }
   ],
   "source": [
    "x = Symbol('x')\n",
    "a = series(3 - 6 * x + 8 * x**2, x, x0 = 3, n = 3)\n",
    "print(a)\n",
    "\n",
    "f = lambdify(x, a)\n",
    "print(a.evalf(subs = {x : 3}))\n",
    "f(3)"
   ]
  },
  {
   "cell_type": "markdown",
   "metadata": {},
   "source": [
    "<img src= 'Quiz2/13.jpg'>"
   ]
  },
  {
   "cell_type": "code",
   "execution_count": 130,
   "metadata": {},
   "outputs": [
    {
     "name": "stdout",
     "output_type": "stream",
     "text": [
      "3.2374103398069565e-13 2.413023196956349e-13 7.182632266733435e-10 6.879713982154864e-10\n"
     ]
    }
   ],
   "source": [
    "g = lambda x: np.sqrt(x+1)\n",
    "g1approx = n_degree_taylor(sqrt(x+1),0.8, 0.75, 6)\n",
    "abs_error1 = abs(g1approx -g(0.8))\n",
    "\n",
    "rel_error1 = abs_error1/g(0.8)\n",
    "g2approx = n_degree_taylor(sqrt(x+1),0.09,0,6)\n",
    "abs_error2 = abs(g2approx - g(0.09))\n",
    "rel_error2 = abs_error2/g(0.09)\n",
    "print(abs_error1, rel_error1, abs_error2, rel_error2)"
   ]
  },
  {
   "cell_type": "code",
   "execution_count": 10,
   "metadata": {},
   "outputs": [
    {
     "name": "stdout",
     "output_type": "stream",
     "text": [
      "1.0502709812953981e-13 1.3731865197241562e-13 1.432187701766452e-14 1.435703739861739e-14\n"
     ]
    }
   ],
   "source": [
    "g = lambda x: np.cos(x)\n",
    "g1approx = n_degree_taylor(cos(x),0.7, 0.75, 6)\n",
    "abs_error1 = abs(g1approx -g(0.7))\n",
    "\n",
    "rel_error1 = abs_error1/g(0.7)\n",
    "g2approx = n_degree_taylor(cos(x),0.07,0,6)\n",
    "abs_error2 = abs(g2approx - g(0.07))\n",
    "rel_error2 = abs_error2/g(0.07)\n",
    "print(abs_error1, rel_error1, abs_error2, rel_error2)"
   ]
  },
  {
   "cell_type": "code",
   "execution_count": 25,
   "metadata": {},
   "outputs": [
    {
     "data": {
      "text/plain": [
       "0.25"
      ]
     },
     "execution_count": 25,
     "metadata": {},
     "output_type": "execute_result"
    }
   ],
   "source": [
    "f, m = decimal_to_floating_point(28.75, 6,100)\n",
    "(1 + bin2dec('0.1101'))*2**m-28.75"
   ]
  },
  {
   "cell_type": "code",
   "execution_count": 27,
   "metadata": {},
   "outputs": [
    {
     "data": {
      "text/plain": [
       "1.5569730000000002"
      ]
     },
     "execution_count": 27,
     "metadata": {},
     "output_type": "execute_result"
    }
   ],
   "source": [
    "(157.27 - 1.5727)/100\n",
    "1.5570"
   ]
  },
  {
   "cell_type": "markdown",
   "metadata": {},
   "source": [
    "<img src= 'Quiz2/14.jpg'>"
   ]
  },
  {
   "cell_type": "code",
   "execution_count": 131,
   "metadata": {},
   "outputs": [
    {
     "data": {
      "text/plain": [
       "32"
      ]
     },
     "execution_count": 131,
     "metadata": {},
     "output_type": "execute_result"
    }
   ],
   "source": [
    "# exact representation\n",
    "(1+bin2dec('0.1111'))*2**4\n",
    "n = 4\n",
    "2**(n+1)"
   ]
  },
  {
   "cell_type": "code",
   "execution_count": 46,
   "metadata": {},
   "outputs": [
    {
     "name": "stdout",
     "output_type": "stream",
     "text": [
      "0.0275496245114698\n"
     ]
    }
   ],
   "source": [
    "from sympy import *\n",
    "x = Symbol('x')\n",
    "taylor = 0\n",
    "a = 1/(x+1)\n",
    "for i in range(4):\n",
    "    taylor+=a.evalf(subs= {x:0.35}) / factorial(i) * (0.9 - 0.35) ** i\n",
    "    a = diff(a)\n",
    "true = 1 / (0.9 + 1)\n",
    "err_035_3 = abs((true - taylor)/true)"
   ]
  },
  {
   "cell_type": "code",
   "execution_count": 50,
   "metadata": {},
   "outputs": [
    {
     "data": {
      "text/latex": [
       "$\\displaystyle 2.33333333333333$"
      ],
      "text/plain": [
       "2.33333333333333"
      ]
     },
     "execution_count": 50,
     "metadata": {},
     "output_type": "execute_result"
    }
   ],
   "source": [
    "order = 3\n",
    "f0 = 1\n",
    "df0 = 1\n",
    "d2f0 = 1\n",
    "h = 2\n",
    "x = Symbol('x')\n",
    "t = f0 + df0 * x + d2f0 /2 *x **2\n",
    "I_approx = integrate(t, (x, -h/2, h/2))\n",
    "abs(I_approx)"
   ]
  },
  {
   "cell_type": "code",
   "execution_count": 51,
   "metadata": {},
   "outputs": [
    {
     "data": {
      "text/plain": [
       "2.3333333333333335"
      ]
     },
     "execution_count": 51,
     "metadata": {},
     "output_type": "execute_result"
    }
   ],
   "source": [
    "Integrate = lambda x : f0 * x + df0 * x**2 / 2 + d2f0 /6 * x**3\n",
    "Integrate(1) - Integrate(-1)"
   ]
  },
  {
   "cell_type": "code",
   "execution_count": 77,
   "metadata": {},
   "outputs": [
    {
     "data": {
      "text/plain": [
       "-16"
      ]
     },
     "execution_count": 77,
     "metadata": {},
     "output_type": "execute_result"
    }
   ],
   "source": [
    "a = 1\n",
    "k = 0\n",
    "sum = a + 10 ** k\n",
    "while a != sum:\n",
    "    k -= 1\n",
    "    sum = a+10**k\n",
    "k += 1"
   ]
  },
  {
   "cell_type": "markdown",
   "metadata": {},
   "source": [
    "<img src = 'Quiz2/1.jpg'>\n",
    "\n",
    "The answer should be the order of the next term that not includes in the approximation."
   ]
  },
  {
   "cell_type": "markdown",
   "metadata": {},
   "source": [
    "<img src = 'Quiz2/2.jpg'>"
   ]
  },
  {
   "cell_type": "code",
   "execution_count": 81,
   "metadata": {},
   "outputs": [
    {
     "data": {
      "text/plain": [
       "'10000000010'"
      ]
     },
     "execution_count": 81,
     "metadata": {},
     "output_type": "execute_result"
    }
   ],
   "source": [
    "exponent = bin(3 + 1023)[2:]\n",
    "exponent"
   ]
  },
  {
   "cell_type": "markdown",
   "metadata": {},
   "source": [
    "<img src = 'Quiz2/3.jpg'>"
   ]
  },
  {
   "cell_type": "code",
   "execution_count": 17,
   "metadata": {},
   "outputs": [
    {
     "name": "stdout",
     "output_type": "stream",
     "text": [
      "-0.48000000000000004\n",
      "-1.6\n"
     ]
    }
   ],
   "source": [
    "print(n_degree_taylor(log(1+x), -0.4, 0, 2))\n",
    "print(n_degree_taylor_derivative(log(1+x), -0.3, 0, 3, 2))\n"
   ]
  },
  {
   "cell_type": "markdown",
   "metadata": {},
   "source": [
    "<img src = 'Quiz2/4.jpg'>"
   ]
  },
  {
   "cell_type": "markdown",
   "metadata": {},
   "source": [
    "<img src = 'Quiz2/5.jpg'>"
   ]
  },
  {
   "cell_type": "code",
   "execution_count": 98,
   "metadata": {},
   "outputs": [
    {
     "data": {
      "text/latex": [
       "$\\displaystyle 5$"
      ],
      "text/plain": [
       "5"
      ]
     },
     "execution_count": 98,
     "metadata": {},
     "output_type": "execute_result"
    }
   ],
   "source": [
    "n_degree_taylor_derivative(exp(x), 4, 0, 2, 1)"
   ]
  },
  {
   "cell_type": "markdown",
   "metadata": {},
   "source": [
    "<img src = 'Quiz2/6.jpg'>"
   ]
  },
  {
   "cell_type": "code",
   "execution_count": 103,
   "metadata": {},
   "outputs": [
    {
     "name": "stdout",
     "output_type": "stream",
     "text": [
      "1100110000 3\n"
     ]
    },
    {
     "data": {
      "text/plain": [
       "14.5"
      ]
     },
     "execution_count": 103,
     "metadata": {},
     "output_type": "execute_result"
    }
   ],
   "source": [
    "f, m = decimal_to_floating_point(14.375, 10,100)\n",
    "print(f,m)\n",
    "(1+bin2dec('0.1101'))*2**m"
   ]
  },
  {
   "cell_type": "markdown",
   "metadata": {},
   "source": [
    "<img src = 'Quiz2/7.jpg'>"
   ]
  },
  {
   "cell_type": "code",
   "execution_count": 111,
   "metadata": {},
   "outputs": [
    {
     "data": {
      "text/plain": [
       "1.708047"
      ]
     },
     "execution_count": 111,
     "metadata": {},
     "output_type": "execute_result"
    }
   ],
   "source": [
    "(1.7253e5-1.7253e3)/1e5 # Then round"
   ]
  },
  {
   "cell_type": "markdown",
   "metadata": {},
   "source": [
    "<img src = 'Quiz2/8.jpg'>"
   ]
  },
  {
   "cell_type": "code",
   "execution_count": 118,
   "metadata": {},
   "outputs": [
    {
     "data": {
      "text/plain": [
       "9"
      ]
     },
     "execution_count": 118,
     "metadata": {},
     "output_type": "execute_result"
    }
   ],
   "source": [
    "f, m = decimal_to_floating_point(136.25, 100, 100)\n",
    "i = -1\n",
    "while f[i] == '0':\n",
    "    i -= 1\n",
    "\n",
    "100 + i + 1"
   ]
  },
  {
   "cell_type": "markdown",
   "metadata": {},
   "source": [
    "<img src = 'Quiz2/9.jpg'>"
   ]
  },
  {
   "cell_type": "code",
   "execution_count": 120,
   "metadata": {},
   "outputs": [
    {
     "data": {
      "text/plain": [
       "0.02754962451146962"
      ]
     },
     "execution_count": 120,
     "metadata": {},
     "output_type": "execute_result"
    }
   ],
   "source": [
    "from sympy import *\n",
    "\n",
    "def n_degree_taylor(formula, x, x_0, n):\n",
    "    '''\n",
    "    Given the analytic expression, x and x_0, calculate\n",
    "    its nth degree Taylor polynomial\n",
    "    Note: Variable is defaulted to x\n",
    "    '''\n",
    "    var_x = Symbol('x')\n",
    "    acc = 0\n",
    "    # Be careful, n+1 because it's up to n\n",
    "    for i in range(n+1):\n",
    "        acc += diff(formula, var_x, i).subs(var_x, x_0)/factorial(i)*(x-x_0)**i\n",
    "    return float(acc)\n",
    "\n",
    "x = Symbol('x')\n",
    "approx = n_degree_taylor(1/(1+x),0.9,0.35,3)\n",
    "true = 1/(0.9+1)\n",
    "err_035_3 = abs((approx - true) / true)\n",
    "#err_035_3"
   ]
  },
  {
   "cell_type": "markdown",
   "metadata": {},
   "source": [
    "<img src = 'Quiz2/10.jpg'>"
   ]
  },
  {
   "cell_type": "code",
   "execution_count": null,
   "metadata": {},
   "outputs": [],
   "source": [
    "k = 0\n",
    "sum = a + 10 ** k\n",
    "while sum != a:\n",
    "    k -= 1\n",
    "    sum = a + 10 ** k\n",
    "k = k + 1"
   ]
  },
  {
   "cell_type": "markdown",
   "metadata": {},
   "source": [
    "<img src = 'Quiz2/11.jpg'>"
   ]
  },
  {
   "cell_type": "code",
   "execution_count": null,
   "metadata": {},
   "outputs": [],
   "source": [
    "#f = lambda x : f0 + df0 * x + d2f0 * x**2/2\n",
    "integration = lambda x: f0*x + df0 *x**2/2 + d2f0*x**3/6\n",
    "I_approx = integration(h/2) - integration(0)\n",
    "error = abs(I_approx-I)"
   ]
  },
  {
   "cell_type": "code",
   "execution_count": 3,
   "metadata": {},
   "outputs": [
    {
     "data": {
      "text/plain": [
       "0.0078125"
      ]
     },
     "execution_count": 3,
     "metadata": {},
     "output_type": "execute_result"
    }
   ],
   "source": [
    "# Machine Epsilon\n",
    "bin2dec('0.0000001')"
   ]
  },
  {
   "cell_type": "code",
   "execution_count": 19,
   "metadata": {},
   "outputs": [
    {
     "data": {
      "text/plain": [
       "True"
      ]
     },
     "execution_count": 19,
     "metadata": {},
     "output_type": "execute_result"
    }
   ],
   "source": [
    "2**-1022\n",
    "np.nextafter(0, 1) == 2**-52*2**-1022"
   ]
  },
  {
   "cell_type": "code",
   "execution_count": 18,
   "metadata": {},
   "outputs": [
    {
     "data": {
      "text/plain": [
       "('01000000000000000000', 2)"
      ]
     },
     "execution_count": 18,
     "metadata": {},
     "output_type": "execute_result"
    }
   ],
   "source": [
    "decimal_to_floating_point(5,20,100)"
   ]
  },
  {
   "cell_type": "code",
   "execution_count": 10,
   "metadata": {},
   "outputs": [
    {
     "data": {
      "text/plain": [
       "14.0"
      ]
     },
     "execution_count": 10,
     "metadata": {},
     "output_type": "execute_result"
    }
   ],
   "source": [
    "(1+bin2dec('0.11000'))*2**3#-14.1875"
   ]
  },
  {
   "cell_type": "code",
   "execution_count": 16,
   "metadata": {},
   "outputs": [
    {
     "data": {
      "text/plain": [
       "6.0"
      ]
     },
     "execution_count": 16,
     "metadata": {},
     "output_type": "execute_result"
    }
   ],
   "source": [
    "x = Symbol('x')\n",
    "n_degree_taylor(cos(x), -0.2, 0, 2)\n",
    "n_degree_taylor_derivative(exp(x), 5, 0, 2, 1)"
   ]
  },
  {
   "cell_type": "code",
   "execution_count": 7,
   "metadata": {},
   "outputs": [
    {
     "data": {
      "text/plain": [
       "17"
      ]
     },
     "execution_count": 7,
     "metadata": {},
     "output_type": "execute_result"
    }
   ],
   "source": [
    "23-(132-126)"
   ]
  },
  {
   "cell_type": "code",
   "execution_count": 14,
   "metadata": {},
   "outputs": [
    {
     "name": "stdout",
     "output_type": "stream",
     "text": [
      "2\n",
      "3\n",
      "4\n",
      "5\n"
     ]
    }
   ],
   "source": [
    "a = (2,3,4,5)\n",
    "for i in a:\n",
    "    print(i)"
   ]
  },
  {
   "cell_type": "code",
   "execution_count": 15,
   "metadata": {},
   "outputs": [
    {
     "data": {
      "text/plain": [
       "0.00048828125"
      ]
     },
     "execution_count": 15,
     "metadata": {},
     "output_type": "execute_result"
    }
   ],
   "source": [
    "2**-4*2**-7"
   ]
  }
 ],
 "metadata": {
  "interpreter": {
   "hash": "07efdcd4b820c98a756949507a4d29d7862823915ec7477944641bea022f4f62"
  },
  "kernelspec": {
   "display_name": "Python 3",
   "language": "python",
   "name": "python3"
  },
  "language_info": {
   "codemirror_mode": {
    "name": "ipython",
    "version": 3
   },
   "file_extension": ".py",
   "mimetype": "text/x-python",
   "name": "python",
   "nbconvert_exporter": "python",
   "pygments_lexer": "ipython3",
   "version": "3.8.10"
  }
 },
 "nbformat": 4,
 "nbformat_minor": 2
}
