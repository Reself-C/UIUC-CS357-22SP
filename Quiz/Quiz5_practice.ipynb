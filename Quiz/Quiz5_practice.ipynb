{
 "cells": [
  {
   "cell_type": "code",
   "execution_count": 1,
   "metadata": {},
   "outputs": [],
   "source": [
    "import numpy as np\n",
    "import numpy.linalg as la\n",
    "from sympy import *"
   ]
  },
  {
   "cell_type": "code",
   "execution_count": 2,
   "metadata": {},
   "outputs": [],
   "source": [
    "def hessian(f, X):\n",
    "    x0, y0 = X[0, 0], X[1,0]\n",
    "    x, y = Symbol('x'), Symbol('y')\n",
    "    A = Matrix([f])\n",
    "    B = Matrix([x, y])\n",
    "    Hessian = A.jacobian(B).jacobian(B).subs({x:x0, y:y0})\n",
    "    return np.array(Hessian).astype(np.float64)\n",
    "\n",
    "def gradient(f, X):\n",
    "    x0, y0 = X[0, 0], X[1,0]\n",
    "    x, y = Symbol('x'), Symbol('y')\n",
    "    A = Matrix([f])\n",
    "    B = Matrix([x, y])\n",
    "    Gradient = A.jacobian(B).subs({x:x0, y:y0})\n",
    "    return np.array(Gradient).astype(np.float64).T\n",
    "\n",
    "def newtons_method(f, x_init, tol):\n",
    "    x_new = x_init\n",
    "    x_prev = np.random.randn(x_init.shape[0])\n",
    "    cnt = 0\n",
    "    while(la.norm(gradient(f, x_new)) > tol):\n",
    "        x_prev = x_new\n",
    "        print(x_prev)\n",
    "        s = -la.solve(hessian(f, x_prev), gradient(f, x_prev))\n",
    "        x_new = x_prev + s\n",
    "        print(x_new)\n",
    "        cnt += 1\n",
    "    return x_new, cnt"
   ]
  },
  {
   "cell_type": "markdown",
   "metadata": {},
   "source": [
    "<img src = 'Quiz5/1.png'>"
   ]
  },
  {
   "cell_type": "code",
   "execution_count": 68,
   "metadata": {},
   "outputs": [
    {
     "name": "stdout",
     "output_type": "stream",
     "text": [
      "Hessian: [[ 4.  0.]\n",
      " [ 0. 36.]]\n",
      "Step: [[-1.]\n",
      " [-1.]]\n",
      "x1: [[0.]\n",
      " [1.]]\n"
     ]
    }
   ],
   "source": [
    "# Sample Optimization ND NewtonMethod one step\n",
    "x, y = symbols('x y')\n",
    "x0 = np.array([[1], [2]])\n",
    "f = 2 * x**2 + 3 * y**3\n",
    "H = hessian(f, x0)\n",
    "s = -la.solve(H, gradient(f, x0))\n",
    "print('Hessian: %s' %H)\n",
    "print('Step: %s'%s)\n",
    "x1 = x0 + s\n",
    "print('x1: %s' %x1)"
   ]
  },
  {
   "cell_type": "code",
   "execution_count": 67,
   "metadata": {},
   "outputs": [
    {
     "name": "stdout",
     "output_type": "stream",
     "text": [
      "Hessian: [[ 60.   0.]\n",
      " [  0. 432.]]\n",
      "Step: [[-1.]\n",
      " [-1.]]\n",
      "x1: [[1.]\n",
      " [2.]]\n"
     ]
    }
   ],
   "source": [
    "x, y = symbols('x y')\n",
    "x0 = np.array([[2], [3]])\n",
    "f = 5 * x**3 + 4 * y**4\n",
    "H = hessian(f, x0)\n",
    "s = -la.solve(H, gradient(f, x0))\n",
    "print('Hessian: %s' %H)\n",
    "print('Step: %s'%s)\n",
    "x1 = x0 + s\n",
    "print('x1: %s' %x1)"
   ]
  },
  {
   "cell_type": "markdown",
   "metadata": {},
   "source": [
    "<img src = 'Quiz5/2.png'>"
   ]
  },
  {
   "cell_type": "code",
   "execution_count": 18,
   "metadata": {},
   "outputs": [
    {
     "name": "stdout",
     "output_type": "stream",
     "text": [
      "[[-3.1]]\n",
      "[[-2.]]\n",
      "[[-2.1]]\n"
     ]
    }
   ],
   "source": [
    "# Sample Finite Difference Gradient\n",
    "x, y, z = symbols('x y z')\n",
    "X0 = np.array([1, 1, 1])\n",
    "phi = Matrix([x**2 * y + x + y * z**2])\n",
    "h = 0.1\n",
    "\n",
    "phi0 = np.array(phi.subs({x:X0[0], y:X0[1], z:X0[2]})).astype(np.float64)\n",
    "for i in range(3):\n",
    "    a = np.zeros(3)\n",
    "    a[i] = h\n",
    "    X = X0 + a\n",
    "    phix = np.array(phi.subs({x:X[0], y:X[1], z:X[2]})).astype(np.float64)\n",
    "    print((phi0-phix)/h)"
   ]
  },
  {
   "cell_type": "code",
   "execution_count": 111,
   "metadata": {},
   "outputs": [
    {
     "name": "stdout",
     "output_type": "stream",
     "text": [
      "[[-2.]]\n",
      "[[-1.]]\n",
      "[[-2.9]]\n"
     ]
    }
   ],
   "source": [
    "x, y, z = symbols('x y z')\n",
    "X0 = np.array([1, 1, 1])\n",
    "phi = Matrix([x * y + x*z + z**2])\n",
    "h = 0.1\n",
    "\n",
    "phi0 = np.array(phi.subs({x:X0[0], y:X0[1], z:X0[2]})).astype(np.float64)\n",
    "for i in range(3):\n",
    "    a = np.zeros(3)\n",
    "    a[i] = h\n",
    "    X = X0 - a\n",
    "    phix = np.array(phi.subs({x:X[0], y:X[1], z:X[2]})).astype(np.float64)\n",
    "    print(-(phi0-phix)/h)"
   ]
  },
  {
   "cell_type": "markdown",
   "metadata": {},
   "source": [
    "<img src = 'Quiz5/3.jpg'>\n",
    "<img src = 'Quiz5/19.jpg'>"
   ]
  },
  {
   "cell_type": "markdown",
   "metadata": {},
   "source": [
    "<img src = 'Quiz5/4.jpg'>"
   ]
  },
  {
   "cell_type": "code",
   "execution_count": 19,
   "metadata": {},
   "outputs": [
    {
     "data": {
      "text/plain": [
       "3.0"
      ]
     },
     "execution_count": 19,
     "metadata": {},
     "output_type": "execute_result"
    }
   ],
   "source": [
    "# Sample Determine the length of the interval\n",
    "x = Symbol('x')\n",
    "f = (x - 5) ** 3\n",
    "L = -12\n",
    "R = 12\n",
    "iteration = 3\n",
    "\n",
    "for i in range(iteration):\n",
    "    mid = (L + R) /2\n",
    "    fL = f.subs(x,L)\n",
    "    fR = f.subs(x,R)\n",
    "    fmid = f.subs(x,mid)\n",
    "    if fL * fmid <= 0:\n",
    "        R = mid\n",
    "    else:\n",
    "        L = mid\n",
    "R - L"
   ]
  },
  {
   "cell_type": "code",
   "execution_count": 69,
   "metadata": {},
   "outputs": [
    {
     "data": {
      "text/plain": [
       "2.875"
      ]
     },
     "execution_count": 69,
     "metadata": {},
     "output_type": "execute_result"
    }
   ],
   "source": [
    "x = Symbol('x')\n",
    "f = (x - 4) ** 3\n",
    "L = -11\n",
    "R = 12\n",
    "iteration = 3\n",
    "\n",
    "for i in range(iteration):\n",
    "    mid = (L + R) /2\n",
    "    fL = f.subs(x,L)\n",
    "    fR = f.subs(x,R)\n",
    "    fmid = f.subs(x,mid)\n",
    "    if fL * fmid <= 0:\n",
    "        R = mid\n",
    "    else:\n",
    "        L = mid\n",
    "R - L"
   ]
  },
  {
   "cell_type": "markdown",
   "metadata": {},
   "source": [
    "<img src = 'Quiz5/5.jpg'>"
   ]
  },
  {
   "cell_type": "code",
   "execution_count": 22,
   "metadata": {},
   "outputs": [
    {
     "name": "stdout",
     "output_type": "stream",
     "text": [
      "1.201626123751156 8\n"
     ]
    }
   ],
   "source": [
    "# Sample Perform One Step of Golden Section Search\n",
    "def f(x):\n",
    "    return (x-6.7)**2\n",
    "gs = (np.sqrt(5) - 1) / 2\n",
    "a = -3\n",
    "b = 8\n",
    "m1 = a + (1 - gs) * (b - a)\n",
    "m2 = a + gs * (b - a)\n",
    "\n",
    "# Begin your modifications below here\n",
    "f1, f2 = f(m1), f(m2)\n",
    "if f1>= f2:\n",
    "    a = m1\n",
    "else:\n",
    "    b = m2\n",
    "m1 = a + (1 - gs) * (b - a)\n",
    "m2 = a + gs * (b - a)    \n",
    "if f1>= f2:\n",
    "    f1 = f2\n",
    "    f2 = f(m2)\n",
    "else:\n",
    "    f2 = f1\n",
    "    f1 = f(m1)\n",
    "print(a, b)"
   ]
  },
  {
   "cell_type": "markdown",
   "metadata": {},
   "source": [
    "<img src = 'Quiz5/6.jpg'>"
   ]
  },
  {
   "cell_type": "code",
   "execution_count": 27,
   "metadata": {},
   "outputs": [
    {
     "data": {
      "text/latex": [
       "$\\displaystyle -0.0658536585365854$"
      ],
      "text/plain": [
       "-0.0658536585365854"
      ]
     },
     "execution_count": 27,
     "metadata": {},
     "output_type": "execute_result"
    }
   ],
   "source": [
    "# Sample Carrying out Newton steps\n",
    "x0 = 0.3\n",
    "x = Symbol('x')\n",
    "f = -exp(-x**2)\n",
    "df = diff(f,x,1)\n",
    "d2f = diff(f, x, 2)\n",
    "x1 = x0 - (df/d2f).subs(x, x0)\n",
    "x1"
   ]
  },
  {
   "cell_type": "code",
   "execution_count": 112,
   "metadata": {},
   "outputs": [
    {
     "data": {
      "text/latex": [
       "$\\displaystyle -0.147647330090561$"
      ],
      "text/plain": [
       "-0.147647330090561"
      ]
     },
     "execution_count": 112,
     "metadata": {},
     "output_type": "execute_result"
    }
   ],
   "source": [
    "x0 = 0.35\n",
    "x = Symbol('x')\n",
    "f = 4*cos(x)**3\n",
    "df = diff(f,x,1)\n",
    "d2f = diff(f, x, 2)\n",
    "x1 = x0 - (df/d2f).subs(x, x0)\n",
    "x1"
   ]
  },
  {
   "cell_type": "markdown",
   "metadata": {},
   "source": [
    "<img src = 'Quiz5/7.jpg'>"
   ]
  },
  {
   "cell_type": "code",
   "execution_count": 39,
   "metadata": {},
   "outputs": [
    {
     "name": "stdout",
     "output_type": "stream",
     "text": [
      "[[ 18. -10.]\n",
      " [ 12.   4.]]\n"
     ]
    },
    {
     "data": {
      "text/plain": [
       "array([ 1.20833333, -0.125     ])"
      ]
     },
     "execution_count": 39,
     "metadata": {},
     "output_type": "execute_result"
    }
   ],
   "source": [
    "# Sample\n",
    "x, y = symbols('x y')\n",
    "E = Matrix([[6*x**3 + 5 * y**2 - 6], [3 * x**4 + 4 * y -5]])\n",
    "Y = Matrix([x, y])\n",
    "J = E.jacobian(Y)\n",
    "X0 = np.array([1, -1])\n",
    "J0 = np.array(J.subs({x:X0[0], y:X0[1]})).astype(np.float64)\n",
    "print(J0)\n",
    "E0 = np.array(E.subs({x:X0[0], y:X0[1]})).astype(np.float64)\n",
    "S = la.solve(J0, -E0)\n",
    "S.flatten()+X0"
   ]
  },
  {
   "cell_type": "code",
   "execution_count": 63,
   "metadata": {},
   "outputs": [
    {
     "name": "stdout",
     "output_type": "stream",
     "text": [
      "[[ 8.  0.]\n",
      " [24.  3.]]\n"
     ]
    },
    {
     "data": {
      "text/plain": [
       "array([ 1.25      , -2.33333333])"
      ]
     },
     "execution_count": 63,
     "metadata": {},
     "output_type": "execute_result"
    }
   ],
   "source": [
    "x, y = symbols('x y')\n",
    "E = Matrix([[4*x**2 + 2 * y**3 - 6], [6 * x**4 + 3 * y -5]])\n",
    "X0 = np.array([1, 0])\n",
    "\n",
    "Y = Matrix([x, y])\n",
    "J = E.jacobian(Y)\n",
    "J0 = np.array(J.subs({x:X0[0], y:X0[1]})).astype(np.float64)\n",
    "print(J0)\n",
    "E0 = np.array(E.subs({x:X0[0], y:X0[1]})).astype(np.float64)\n",
    "S = la.solve(J0, -E0)\n",
    "S.flatten()+X0"
   ]
  },
  {
   "cell_type": "markdown",
   "metadata": {},
   "source": [
    "<img src = 'Quiz5/8.jpg'>\n",
    "<img src = 'Quiz5/13.jpg'>"
   ]
  },
  {
   "cell_type": "markdown",
   "metadata": {},
   "source": [
    "<img src = 'Quiz5/9.jpg'>"
   ]
  },
  {
   "cell_type": "code",
   "execution_count": null,
   "metadata": {},
   "outputs": [],
   "source": [
    "import numpy as np\n",
    "\n",
    "def f(x):\n",
    "    return x[0]**3+x[1]**2+x[2]**5+x[3]**3+x[4]*x[6]+x[5]*x[6]+x[6]**2+x[7]**3\n",
    "n = 8\n",
    "h = 0.4\n",
    "y0 = f(xvec)\n",
    "gradient = []\n",
    "for i in range(n):\n",
    "    a = np.zeros(n)\n",
    "    a[i] = h\n",
    "    gradient.append((f(xvec+a) - y0) / h) # forward finite difference\n",
    "approx_gradient = np.array(gradient)"
   ]
  },
  {
   "cell_type": "markdown",
   "metadata": {},
   "source": [
    "<img src = 'Quiz5/10.jpg'>"
   ]
  },
  {
   "cell_type": "code",
   "execution_count": null,
   "metadata": {},
   "outputs": [],
   "source": [
    "import numpy as np\n",
    "from sympy import *\n",
    "\n",
    "x = Symbol('x')\n",
    "f = 160 - (x**3/60 + x**2 + 40*cos(x) + 50*x)\n",
    "df = diff(f,x)\n",
    "t = [t_initial]\n",
    "\n",
    "t.append(t_initial - (f/df).subs(x, t_initial))\n",
    "while abs(t[-1] - t[-2]) >= epsilon:\n",
    "    tnext = t[-1] - (f/df).subs(x, t[-1])\n",
    "    t.append(tnext)\n",
    "t = t[1:]"
   ]
  },
  {
   "cell_type": "markdown",
   "metadata": {},
   "source": [
    "<img src = 'Quiz5/11.jpg'>"
   ]
  },
  {
   "cell_type": "code",
   "execution_count": 46,
   "metadata": {},
   "outputs": [
    {
     "data": {
      "text/plain": [
       "array([[-0.125     ],\n",
       "       [ 3.14159265]])"
      ]
     },
     "execution_count": 46,
     "metadata": {},
     "output_type": "execute_result"
    }
   ],
   "source": [
    "# Sample Carrying out Newton steps (n-dimensional)\n",
    "x, y  = symbols('x y')\n",
    "f = exp(8*x) + 6 * cos(y)\n",
    "X0 = np.array([[0], [np.pi]])\n",
    "H = hessian(f, X0)\n",
    "g = gradient(f, X0)\n",
    "s = -la.solve(H, g)\n",
    "X_new = X0 + s\n",
    "X_new"
   ]
  },
  {
   "cell_type": "code",
   "execution_count": 113,
   "metadata": {},
   "outputs": [
    {
     "data": {
      "text/plain": [
       "array([[-0.11111111],\n",
       "       [ 3.14159265]])"
      ]
     },
     "execution_count": 113,
     "metadata": {},
     "output_type": "execute_result"
    }
   ],
   "source": [
    "x, y  = symbols('x y')\n",
    "f = exp(9*x) + 4 * cos(y)\n",
    "X0 = np.array([[0], [np.pi]])\n",
    "H = hessian(f, X0)\n",
    "g = gradient(f, X0)\n",
    "s = -la.solve(H, g)\n",
    "X_new = X0 + s\n",
    "X_new"
   ]
  },
  {
   "cell_type": "markdown",
   "metadata": {},
   "source": [
    "<img src = 'Quiz5/12.jpg'>"
   ]
  },
  {
   "cell_type": "code",
   "execution_count": 70,
   "metadata": {},
   "outputs": [
    {
     "data": {
      "text/plain": [
       "11.124611797498108"
      ]
     },
     "execution_count": 70,
     "metadata": {},
     "output_type": "execute_result"
    }
   ],
   "source": [
    "# Sample: Determine the length of the interval after one iteration\n",
    "L = -8\n",
    "R = 10\n",
    "length_0 = R - L\n",
    "length_1 = length_0 * (np.sqrt(5) - 1)/2\n",
    "length_1"
   ]
  },
  {
   "cell_type": "code",
   "execution_count": 115,
   "metadata": {},
   "outputs": [
    {
     "data": {
      "text/plain": [
       "4.944271909999159"
      ]
     },
     "execution_count": 115,
     "metadata": {},
     "output_type": "execute_result"
    }
   ],
   "source": [
    "# Same as Golden Section Interval\n",
    "L = -2\n",
    "R = 6\n",
    "length_0 = R - L\n",
    "length_1 = length_0 * (np.sqrt(5) - 1)/2\n",
    "length_1"
   ]
  },
  {
   "cell_type": "markdown",
   "metadata": {},
   "source": [
    "<img src = 'Quiz5/14.jpg'>"
   ]
  },
  {
   "cell_type": "code",
   "execution_count": 55,
   "metadata": {},
   "outputs": [
    {
     "name": "stdout",
     "output_type": "stream",
     "text": [
      "1.25\n",
      "1.025179856115108\n"
     ]
    }
   ],
   "source": [
    "# Sample Perform Two Steps of Newton's Method\n",
    "x = Symbol('x')\n",
    "f = x**3 + 4*x -5\n",
    "x0 = 0\n",
    "df = diff(f)\n",
    "for i in range(2):\n",
    "    # x_new = x0 - (f/df).subs(x,x0)\n",
    "    # x0 = np.float(x_new)\n",
    "    # print(x0)\n",
    "    x0 -= float((f/df).subs(x, x0))\n",
    "    print(x0)"
   ]
  },
  {
   "cell_type": "code",
   "execution_count": 114,
   "metadata": {},
   "outputs": [
    {
     "name": "stdout",
     "output_type": "stream",
     "text": [
      "-1.75\n",
      "-0.7168674698795181\n"
     ]
    }
   ],
   "source": [
    "x = Symbol('x')\n",
    "f = x**3 - 4*x -7\n",
    "x0 = 0\n",
    "df = diff(f)\n",
    "for i in range(2):\n",
    "    # x_new = x0 - (f/df).subs(x,x0)\n",
    "    # x0 = np.float(x_new)\n",
    "    # print(x0)\n",
    "    x0 -= float((f/df).subs(x, x0))\n",
    "    print(x0)"
   ]
  },
  {
   "cell_type": "markdown",
   "metadata": {},
   "source": [
    "<img src = 'Quiz5/15.jpg'>\n",
    "<img src = 'Quiz5/16.jpg'>\n",
    "<img src = 'Quiz5/25.jpg'>\n",
    "<img src = 'Quiz5/26.jpg'>\n"
   ]
  },
  {
   "cell_type": "markdown",
   "metadata": {},
   "source": [
    "<img src = 'Quiz5/17.jpg'>"
   ]
  },
  {
   "cell_type": "code",
   "execution_count": 73,
   "metadata": {},
   "outputs": [
    {
     "data": {
      "text/latex": [
       "$\\displaystyle -10.0335347731076$"
      ],
      "text/plain": [
       "-10.0335347731076"
      ]
     },
     "execution_count": 73,
     "metadata": {},
     "output_type": "execute_result"
    }
   ],
   "source": [
    "# Finite Difference: Calculation R -> R\n",
    "x = Symbol('x')\n",
    "y = -log(x)\n",
    "x0 = 0.1\n",
    "h = 0.01\n",
    "(y.subs(x, x0+h) - y.subs(x, x0-h))/2/h"
   ]
  },
  {
   "cell_type": "markdown",
   "metadata": {},
   "source": [
    "<img src = 'Quiz5/18.jpg'>"
   ]
  },
  {
   "cell_type": "code",
   "execution_count": null,
   "metadata": {},
   "outputs": [],
   "source": [
    "import numpy as np\n",
    "\n",
    "L = 0\n",
    "R = max_wood\n",
    "intervals = [(L, R)]\n",
    "T_L = get_temperature(L)\n",
    "T_R = get_temperature(R)\n",
    "\n",
    "while abs(T_L - 375) >= epsilon and abs(T_R - 375) >= epsilon:\n",
    "    mid = (L + R) / 2\n",
    "    T_mid = get_temperature(mid)\n",
    "    if T_mid - 375 < 0:\n",
    "        T_L = T_mid\n",
    "        L = mid\n",
    "        intervals.append((L,R))\n",
    "    else:\n",
    "        T_R = T_mid\n",
    "        R = mid\n",
    "        intervals.append((L,R))\n",
    "\n",
    "if abs(T_L - 375) < epsilon:\n",
    "    weight = L\n",
    "elif abs(T_R - 375) < epsilon:\n",
    "    weight = R"
   ]
  },
  {
   "cell_type": "markdown",
   "metadata": {},
   "source": [
    "<img src = 'Quiz5/20.jpg'>"
   ]
  },
  {
   "cell_type": "code",
   "execution_count": 72,
   "metadata": {},
   "outputs": [
    {
     "name": "stdout",
     "output_type": "stream",
     "text": [
      "[[-11.   7.]\n",
      " [  6.  -3.]]\n"
     ]
    },
    {
     "data": {
      "text/plain": [
       "array([0.88888889, 2.11111111])"
      ]
     },
     "execution_count": 72,
     "metadata": {},
     "output_type": "execute_result"
    }
   ],
   "source": [
    "# Sample Newton Solve\n",
    "x, y = symbols('x y')\n",
    "A = np.array([[3, -2, 2, 1, 3, -3],\n",
    "              [-1, 3, -1, 0, -1, 1]])\n",
    "X = np.array([x**2, x, 1, y**2, y, x*y])\n",
    "X0 = np.array([-2, -1])\n",
    "\n",
    "f = Matrix(A @ X)\n",
    "Y = Matrix([x, y])\n",
    "J = (f.jacobian(Y))\n",
    "\n",
    "J_ = np.array(J.subs({x:X0[0], y:X0[1]})).astype(np.float64)\n",
    "print(J_)\n",
    "f_ = np.array(f.subs({x:X0[0], y:X0[1]})).astype(np.float64)\n",
    "\n",
    "S = la.solve(J_, -f_)\n",
    "S.flatten()+X0"
   ]
  },
  {
   "cell_type": "markdown",
   "metadata": {},
   "source": [
    "<img src = 'Quiz5/21.jpg'>"
   ]
  },
  {
   "cell_type": "code",
   "execution_count": 92,
   "metadata": {},
   "outputs": [
    {
     "data": {
      "text/plain": [
       "array([[0.92916667, 0.7875    , 1.28333333],\n",
       "       [0.88707453, 0.69317586, 1.32086464],\n",
       "       [0.8782444 , 0.67719471, 1.3306098 ],\n",
       "       [0.87796599, 0.6767573 , 1.33085521],\n",
       "       [0.87796576, 0.67675697, 1.33085541]])"
      ]
     },
     "execution_count": 92,
     "metadata": {},
     "output_type": "execute_result"
    }
   ],
   "source": [
    "from sympy import *\n",
    "import numpy as np\n",
    "import numpy.linalg as la\n",
    "\n",
    "x, y, z = symbols('x y z')\n",
    "w = Matrix([x, y, z])\n",
    "X = Matrix([[16*x**4 + 16*y**4 + z**4 - 16],\n",
    "            [x**2    + y**2    + z**2 - 3],\n",
    "            [x**3    - y]])\n",
    "\n",
    "w0 = np.array([1, 1, 1])\n",
    "J = (X.jacobian(w))\n",
    "guesses = np.zeros((5,3))\n",
    "for i in range(5):\n",
    "    J_ = np.array(J.subs({x:w0[0], y:w0[1], z:w0[2]})).astype(np.float64)\n",
    "    X_ = np.array(X.subs({x:w0[0], y:w0[1], z:w0[2]})).astype(np.float64)\n",
    "    S = la.solve(J_, -X_)\n",
    "    guesses[i,:] = S.flatten()+w0\n",
    "    w0 = guesses[i, :]"
   ]
  },
  {
   "cell_type": "markdown",
   "metadata": {},
   "source": [
    "<img src = 'Quiz5/22.jpg'>"
   ]
  },
  {
   "cell_type": "code",
   "execution_count": 96,
   "metadata": {},
   "outputs": [
    {
     "name": "stdout",
     "output_type": "stream",
     "text": [
      "[[ 48.34551181]\n",
      " [-44.71311033]]\n"
     ]
    },
    {
     "data": {
      "text/plain": [
       "array([[-0.58272441],\n",
       "       [ 0.76434448]])"
      ]
     },
     "execution_count": 96,
     "metadata": {},
     "output_type": "execute_result"
    }
   ],
   "source": [
    "# Sample N-Dimension Optimization using Steepest Descent\n",
    "x, y = symbols('x y')\n",
    "f = 13*x**2 + 7*x*y + 13*y**2 + 13*sin(y)**2 + 7*cos(x*y)\n",
    "X0 = np.array([[-3], [3]])\n",
    "alpha = 0.05\n",
    "s0 = -gradient(f, X0)\n",
    "print(s0)\n",
    "X1 = X0 + alpha*s0\n",
    "X1"
   ]
  },
  {
   "cell_type": "markdown",
   "metadata": {},
   "source": [
    "<img src = 'Quiz5/23.jpg'>"
   ]
  },
  {
   "cell_type": "code",
   "execution_count": 101,
   "metadata": {},
   "outputs": [
    {
     "name": "stdout",
     "output_type": "stream",
     "text": [
      "2.5 12\n",
      "2.5 7.25\n"
     ]
    }
   ],
   "source": [
    "# Sample Perform Two Steps of Bisection\n",
    "f = lambda x: (x-6.7)**5\n",
    "L = -7\n",
    "R = 12\n",
    "f_L = f(L)\n",
    "f_R = f(R)\n",
    "\n",
    "for i in range(2):\n",
    "    mid = (L + R)/2\n",
    "    f_mid = f(mid)\n",
    "    if sign(f_L) == sign(f_mid):\n",
    "        L, f_L = mid, f_mid\n",
    "        print(L, R)\n",
    "    else:\n",
    "        R, f_R = mid, f_mid\n",
    "        print(L, R)\n"
   ]
  },
  {
   "cell_type": "markdown",
   "metadata": {},
   "source": [
    "<img src = 'Quiz5/24.jpg'>"
   ]
  },
  {
   "cell_type": "code",
   "execution_count": 110,
   "metadata": {},
   "outputs": [
    {
     "data": {
      "text/plain": [
       "array([-1.61538462,  1.19230769])"
      ]
     },
     "execution_count": 110,
     "metadata": {},
     "output_type": "execute_result"
    }
   ],
   "source": [
    "# Sample Newton Solve 2\n",
    "x, y = symbols('x y')\n",
    "x0 = np.array([-2, 1])\n",
    "X = Matrix([2*x*y+4, x**3 + y**2 + 2])\n",
    "Y = Matrix([x, y])\n",
    "J = f.jacobian(Y)\n",
    "J_ = np.array(J.subs({x:x0[0], y:x0[1]})).astype(np.float64)\n",
    "X_ = np.array(f.subs({x:x0[0], y:x0[1]})).astype(np.float64)\n",
    "S = la.solve(J_, -X_)\n",
    "S.flatten()+x0"
   ]
  },
  {
   "cell_type": "markdown",
   "metadata": {},
   "source": [
    "<img src = 'Quiz5/27.jpg'>\n",
    "<img src = 'Quiz5/29.jpg'>\n",
    "<img src = 'Quiz5/28.jpg'>"
   ]
  }
 ],
 "metadata": {
  "interpreter": {
   "hash": "07efdcd4b820c98a756949507a4d29d7862823915ec7477944641bea022f4f62"
  },
  "kernelspec": {
   "display_name": "Python 3.8.10 ('base')",
   "language": "python",
   "name": "python3"
  },
  "language_info": {
   "codemirror_mode": {
    "name": "ipython",
    "version": 3
   },
   "file_extension": ".py",
   "mimetype": "text/x-python",
   "name": "python",
   "nbconvert_exporter": "python",
   "pygments_lexer": "ipython3",
   "version": "3.8.10"
  },
  "orig_nbformat": 4
 },
 "nbformat": 4,
 "nbformat_minor": 2
}
