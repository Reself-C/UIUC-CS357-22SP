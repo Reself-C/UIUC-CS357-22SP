{
 "cells": [
  {
   "cell_type": "code",
   "execution_count": 1,
   "metadata": {},
   "outputs": [],
   "source": [
    "import numpy as np\n",
    "import numpy.linalg as la"
   ]
  },
  {
   "cell_type": "markdown",
   "metadata": {},
   "source": [
    "Number of Nonzero singular value\n",
    "<img src = 'Quiz6/1.jpg'>"
   ]
  },
  {
   "cell_type": "markdown",
   "metadata": {},
   "source": [
    "Singular value decomposition\n",
    "<img src = 'Quiz6/2.jpg'>"
   ]
  },
  {
   "cell_type": "markdown",
   "metadata": {},
   "source": [
    "<img src = 'Quiz6/3.jpg'>"
   ]
  },
  {
   "cell_type": "code",
   "execution_count": 6,
   "metadata": {},
   "outputs": [
    {
     "data": {
      "text/plain": [
       "2.0"
      ]
     },
     "execution_count": 6,
     "metadata": {},
     "output_type": "execute_result"
    }
   ],
   "source": [
    "# Error of low-rank approximation\n",
    "sigma = np.array([[8.00, 0.00, 0.00, 0.00], \n",
    "                  [0.00, 5.00, 0.00, 0.00], \n",
    "                  [0.00, 0.00, 4.00, 0.00], \n",
    "                  [0.00, 0.00, 0.00, 2.00],\n",
    "                  [0.00, 0.00, 0.00, 0.00],\n",
    "                  [0.00, 0.00, 0.00, 0.00]])\n",
    "r = 3\n",
    "sigma[r][r]"
   ]
  },
  {
   "cell_type": "markdown",
   "metadata": {},
   "source": [
    "<img src = Quiz6/4.jpg>"
   ]
  },
  {
   "cell_type": "code",
   "execution_count": 7,
   "metadata": {},
   "outputs": [
    {
     "data": {
      "text/plain": [
       "6"
      ]
     },
     "execution_count": 7,
     "metadata": {},
     "output_type": "execute_result"
    }
   ],
   "source": [
    "# Maximum coefficient count for unique solution\n",
    "x = np.array([5.5, 10.5, 6.5, 11.5, 9.5, 11.0, 9.5, 6.5])\n",
    "len(np.unique(x))"
   ]
  },
  {
   "cell_type": "code",
   "execution_count": 15,
   "metadata": {},
   "outputs": [
    {
     "data": {
      "text/plain": [
       "3"
      ]
     },
     "execution_count": 15,
     "metadata": {},
     "output_type": "execute_result"
    }
   ],
   "source": [
    "x = np.array([11.0, 11, 7, 7, 8, 11])\n",
    "len(np.unique(x))"
   ]
  },
  {
   "cell_type": "markdown",
   "metadata": {},
   "source": [
    "<img src= Quiz6/5.jpg>"
   ]
  },
  {
   "cell_type": "code",
   "execution_count": 8,
   "metadata": {},
   "outputs": [
    {
     "name": "stderr",
     "output_type": "stream",
     "text": [
      "<ipython-input-8-4a52f90376ff>:16: RuntimeWarning: divide by zero encountered in true_divide\n",
      "  Sigma_p = 1 / Sigma.T\n"
     ]
    },
    {
     "data": {
      "text/plain": [
       "array([ 0.36      ,  0.8225    ,  0.93      , -0.01166667])"
      ]
     },
     "execution_count": 8,
     "metadata": {},
     "output_type": "execute_result"
    }
   ],
   "source": [
    "# Least-squares minimum norm solution\n",
    "U = np.array([[0, 0, 1, 0],\n",
    "              [0, 0, 0, 0],\n",
    "              [1, 0, 0, 0],\n",
    "              [0, 0, 0, 1],\n",
    "              [0, 1, 0, 0]])\n",
    "Sigma = np.array([[9, 0, 0, 0],\n",
    "                  [0, 8, 0, 0],\n",
    "                  [0, 0, 4, 0],\n",
    "                  [0, 0, 0, 0]])\n",
    "VT = np.array([[0.00, 0.42, 0.00, 0.91],\n",
    "               [0.00, 0.91, 0.00, -0.42],\n",
    "               [0.36, 0.00, 0.93, 0.00],\n",
    "               [0.93, 0.00, -0.36, 0.00]])\n",
    "b = np.array([4, 2, 3, 1, 6])\n",
    "\n",
    "Sigma_p = 1 / Sigma.T\n",
    "Sigma_p[Sigma_p == np.inf] = 0\n",
    "x = VT.T @ Sigma_p @ U.T @ b\n",
    "x"
   ]
  },
  {
   "cell_type": "code",
   "execution_count": 17,
   "metadata": {},
   "outputs": [
    {
     "name": "stderr",
     "output_type": "stream",
     "text": [
      "<ipython-input-17-926ae8c70e32>:16: RuntimeWarning: divide by zero encountered in true_divide\n",
      "  Sigma_p = 1 / Sigma.T\n"
     ]
    },
    {
     "data": {
      "text/plain": [
       "array([ 0.4    , -0.3175 ,  0.95375,  1.1875 ])"
      ]
     },
     "execution_count": 17,
     "metadata": {},
     "output_type": "execute_result"
    }
   ],
   "source": [
    "U = np.array([[0, 0, 0, 0],\n",
    "              [0, 0, 1, 0],\n",
    "              [1, 0, 0, 0],\n",
    "              [0, 1, 0, 0],\n",
    "              [0, 0, 0, 1]])\n",
    "Sigma = np.array([[8, 0, 0, 0],\n",
    "                  [0, 7, 0, 0],\n",
    "                  [0, 0, 4, 0],\n",
    "                  [0, 0, 0, 0]])\n",
    "VT = np.array([[0.00, 0.90, 0.43, 0.00],\n",
    "               [0.00, -0.43, 0.90, 0.00],\n",
    "               [0.32, 0.00, 0.00, 0.95],\n",
    "               [-0.95, 0.00, 0.00, 0.32]])\n",
    "b = np.array([2, 5, 1, 7, 5])\n",
    "\n",
    "Sigma_p = 1 / Sigma.T\n",
    "Sigma_p[Sigma_p == np.inf] = 0\n",
    "x = VT.T @ Sigma_p @ U.T @ b\n",
    "x"
   ]
  },
  {
   "cell_type": "markdown",
   "metadata": {},
   "source": [
    "<img src = Quiz6/6.jpg>"
   ]
  },
  {
   "cell_type": "code",
   "execution_count": 9,
   "metadata": {},
   "outputs": [
    {
     "data": {
      "text/plain": [
       "16"
      ]
     },
     "execution_count": 9,
     "metadata": {},
     "output_type": "execute_result"
    }
   ],
   "source": [
    "# Determine the norm-2\n",
    "sigma = np.array([16, 10, 8, 3])\n",
    "sigma.max()"
   ]
  },
  {
   "cell_type": "markdown",
   "metadata": {},
   "source": [
    "<img src = Quiz6/7.jpg>"
   ]
  },
  {
   "cell_type": "code",
   "execution_count": 34,
   "metadata": {},
   "outputs": [
    {
     "name": "stdout",
     "output_type": "stream",
     "text": [
      "n array([318.        ,   4.04841996])\n",
      "M array([[2.67300000e+03, 2.48183252e+01],\n",
      "       [2.48183252e+01, 1.16879678e+00]])\n"
     ]
    }
   ],
   "source": [
    "# Find RHS of normal equation / Find LHS of normal equation\n",
    "t = np.array([2, 4, 7])\n",
    "b = np.array([-2, 2, 6])\n",
    "A = np.vstack([t**2, np.cos(t)]).T\n",
    "\n",
    "n = A.T @ b\n",
    "M = A.T @ A\n",
    "print('n', repr(n))\n",
    "print('M', repr(M))"
   ]
  },
  {
   "cell_type": "code",
   "execution_count": 35,
   "metadata": {},
   "outputs": [
    {
     "name": "stdout",
     "output_type": "stream",
     "text": [
      "n array([ 5.07600778, -0.20440937])\n",
      "M array([[12.        , -0.91208963],\n",
      "       [-0.91208963,  1.47764485]])\n"
     ]
    }
   ],
   "source": [
    "t = np.array([2, 4, 6])\n",
    "b = np.array([0.74, 0.79, 1])\n",
    "A = np.vstack([np.sqrt(t), np.sin(t)]).T\n",
    "\n",
    "n = A.T @ b\n",
    "M = A.T @ A\n",
    "print('n', repr(n))\n",
    "print('M', repr(M))"
   ]
  },
  {
   "cell_type": "markdown",
   "metadata": {},
   "source": [
    "<img src = Quiz6/8.jpg>"
   ]
  },
  {
   "cell_type": "code",
   "execution_count": null,
   "metadata": {},
   "outputs": [],
   "source": [
    "# Estimate sales\n",
    "import numpy as np\n",
    "import numpy.linalg as la\n",
    "\n",
    "A = np.vstack([given_year, np.ones(len(given_year))]).T\n",
    "c1, c0 = la.lstsq(A, given_sales)[0]\n",
    "\n",
    "pred_sales = np.vstack([pred_year, np.ones(len(pred_year))]).T @ np.array([c1, c0])"
   ]
  },
  {
   "cell_type": "markdown",
   "metadata": {},
   "source": [
    "<img src = Quiz6/9.jpg>"
   ]
  },
  {
   "cell_type": "code",
   "execution_count": null,
   "metadata": {},
   "outputs": [],
   "source": [
    "# Solve linear system using SVD\n",
    "x = left_multiply_with_V(right_multiply_with_U(b)/sigma)"
   ]
  },
  {
   "cell_type": "markdown",
   "metadata": {},
   "source": [
    "<img src = Quiz6/10.jpg>"
   ]
  },
  {
   "cell_type": "code",
   "execution_count": null,
   "metadata": {},
   "outputs": [],
   "source": [
    "import numpy as np\n",
    "import numpy.linalg as la\n",
    "\n",
    "A = np.vstack([(study_time+2)**2.5, np.exp(study_time+1), study_time, np.ones(len(study_time))]).T\n",
    "coeffs = la.lstsq(A, scores)[0]"
   ]
  },
  {
   "cell_type": "markdown",
   "metadata": {},
   "source": [
    "Pseudoinverse conditions\n",
    "<img src = Quiz6/11.jpg>\n",
    "<img src = Quiz6/17.jpg>\n"
   ]
  },
  {
   "cell_type": "markdown",
   "metadata": {},
   "source": [
    "<img src = Quiz6/12.jpg>"
   ]
  },
  {
   "cell_type": "code",
   "execution_count": 16,
   "metadata": {},
   "outputs": [
    {
     "name": "stderr",
     "output_type": "stream",
     "text": [
      "<ipython-input-16-502a3a655ec7>:5: FutureWarning: `rcond` parameter will change to the default of machine precision times ``max(M, N)`` where M and N are the input matrix dimensions.\n",
      "To use the future default and silence this warning we advise to pass `rcond=None`, to keep using the old, explicitly pass `rcond=-1`.\n",
      "  coeffs = la.lstsq(A, y)[0]\n"
     ]
    },
    {
     "data": {
      "text/plain": [
       "array([2.31800073, 1.10366545])"
      ]
     },
     "execution_count": 16,
     "metadata": {},
     "output_type": "execute_result"
    }
   ],
   "source": [
    "# Quadratic Fit\n",
    "t = np.array([-3.0, 1.8, -4.9])\n",
    "y = np.array([3.3, 7.9, 15])\n",
    "A = np.vstack([t, t**2]).T\n",
    "coeffs = la.lstsq(A, y)[0]\n",
    "coeffs"
   ]
  },
  {
   "cell_type": "markdown",
   "metadata": {},
   "source": [
    "<img src = Quiz6/13.jpg>"
   ]
  },
  {
   "cell_type": "code",
   "execution_count": 20,
   "metadata": {},
   "outputs": [
    {
     "data": {
      "text/plain": [
       "0.16666666666666666"
      ]
     },
     "execution_count": 20,
     "metadata": {},
     "output_type": "execute_result"
    }
   ],
   "source": [
    "# Mixed application SVD\n",
    "sigma = np.array([8, 6])\n",
    "(1/sigma).max()"
   ]
  },
  {
   "cell_type": "markdown",
   "metadata": {},
   "source": [
    "<img src = Quiz6/14.jpg>"
   ]
  },
  {
   "cell_type": "code",
   "execution_count": null,
   "metadata": {},
   "outputs": [],
   "source": [
    "# Modeling rabbit population\n",
    "import numpy as np\n",
    "import numpy.linalg as la\n",
    "\n",
    "day = np.arange(len(population))\n",
    "A = np.vstack([np.ones(len(day)), day]).T\n",
    "coeff = la.lstsq(A, np.log(population))[0]\n",
    "c0 = np.exp(coeff[0])\n",
    "c1 = coeff[1]"
   ]
  },
  {
   "cell_type": "markdown",
   "metadata": {},
   "source": [
    "<img src = Quiz6/15.jpg>"
   ]
  },
  {
   "cell_type": "code",
   "execution_count": 22,
   "metadata": {},
   "outputs": [
    {
     "data": {
      "text/plain": [
       "0.7"
      ]
     },
     "execution_count": 22,
     "metadata": {},
     "output_type": "execute_result"
    }
   ],
   "source": [
    "# Error in Low-Rank Approximation\n",
    "sigma = np.array([1.9, 1.1, 0.7, 0.5, 0.0])\n",
    "k = 2\n",
    "sigma[k]"
   ]
  },
  {
   "cell_type": "markdown",
   "metadata": {},
   "source": [
    "<img src = Quiz6/23.jpg>\n",
    "<img src = Quiz6/16.jpg>"
   ]
  },
  {
   "cell_type": "code",
   "execution_count": 26,
   "metadata": {},
   "outputs": [
    {
     "data": {
      "text/plain": [
       "array([[-0.87, -0.49],\n",
       "       [-0.49,  0.87]])"
      ]
     },
     "execution_count": 26,
     "metadata": {},
     "output_type": "execute_result"
    }
   ],
   "source": [
    "# Obtain the SVD from eigendecomposition\n",
    "A1 = np.array([[-0.87, -0.49],\n",
    "               [-0.49, 0.87]])\n",
    "A2 = np.array([[11, 0],\n",
    "               [0, 7]])\n",
    "A3 = np.array([[-0.87, -0.49],\n",
    "               [-0.49, 0.87]])\n",
    "ATA = A1 @ A2 @ A3\n",
    "V = la.eig(ATA)\n",
    "V\n",
    "A1          "
   ]
  },
  {
   "cell_type": "markdown",
   "metadata": {},
   "source": [
    "Compare Time complexity\n",
    "<img src = Quiz6/18.jpg>"
   ]
  },
  {
   "cell_type": "markdown",
   "metadata": {},
   "source": [
    "<img src = Quiz6/19.jpg>"
   ]
  },
  {
   "cell_type": "code",
   "execution_count": 28,
   "metadata": {},
   "outputs": [
    {
     "data": {
      "text/plain": [
       "585"
      ]
     },
     "execution_count": 28,
     "metadata": {},
     "output_type": "execute_result"
    }
   ],
   "source": [
    "# Size of low-rank approximation\n",
    "m = 87\n",
    "n = 29\n",
    "r = 5\n",
    "\n",
    "r*m+r*n+r"
   ]
  },
  {
   "cell_type": "code",
   "execution_count": 29,
   "metadata": {},
   "outputs": [
    {
     "data": {
      "text/plain": [
       "604"
      ]
     },
     "execution_count": 29,
     "metadata": {},
     "output_type": "execute_result"
    }
   ],
   "source": [
    "m = 90\n",
    "n = 60\n",
    "r = 4\n",
    "\n",
    "r*m+r*n+r"
   ]
  },
  {
   "cell_type": "markdown",
   "metadata": {},
   "source": [
    "SVD and rank-1 approximation\n",
    "<img src = Quiz6/20.jpg>"
   ]
  },
  {
   "cell_type": "markdown",
   "metadata": {},
   "source": [
    "<img src = Quiz6/21.jpg>"
   ]
  },
  {
   "cell_type": "code",
   "execution_count": 30,
   "metadata": {},
   "outputs": [
    {
     "data": {
      "text/plain": [
       "45"
      ]
     },
     "execution_count": 30,
     "metadata": {},
     "output_type": "execute_result"
    }
   ],
   "source": [
    "# Singular values\n",
    "m = 45\n",
    "n = 58\n",
    "\n",
    "min(m,n)"
   ]
  },
  {
   "cell_type": "markdown",
   "metadata": {},
   "source": [
    "<img src = Quiz6/22.jpg>"
   ]
  },
  {
   "cell_type": "code",
   "execution_count": 31,
   "metadata": {},
   "outputs": [
    {
     "name": "stderr",
     "output_type": "stream",
     "text": [
      "<ipython-input-31-1534b878945b>:6: FutureWarning: `rcond` parameter will change to the default of machine precision times ``max(M, N)`` where M and N are the input matrix dimensions.\n",
      "To use the future default and silence this warning we advise to pass `rcond=None`, to keep using the old, explicitly pass `rcond=-1`.\n",
      "  m, b = la.lstsq(A, y)[0]\n"
     ]
    },
    {
     "data": {
      "text/plain": [
       "(3.003144851877476, 0.1508648342663057)"
      ]
     },
     "execution_count": 31,
     "metadata": {},
     "output_type": "execute_result"
    }
   ],
   "source": [
    "# find the best line\n",
    "t = np.array([5, -2, -3.2, -0.9])\n",
    "y = np.array([15.3, -6.1, -9, -2.9])\n",
    "A = np.vstack([t, np.ones(len(t))]).T\n",
    "\n",
    "m, b = la.lstsq(A, y)[0]\n",
    "m,b"
   ]
  },
  {
   "cell_type": "markdown",
   "metadata": {},
   "source": [
    "<img src =Quiz6/24.jpg>"
   ]
  },
  {
   "cell_type": "code",
   "execution_count": 33,
   "metadata": {},
   "outputs": [
    {
     "data": {
      "text/plain": [
       "array([0.31426968, 0.31426968])"
      ]
     },
     "execution_count": 33,
     "metadata": {},
     "output_type": "execute_result"
    }
   ],
   "source": [
    "# calculate least squares solution using SVD\n",
    "U = np.array([[1, 0],\n",
    "              [0, -1]])\n",
    "S = np.array([9])\n",
    "VT = np.array([[1, 1],\n",
    "               [-1, 1]]) / np.sqrt(2)\n",
    "b = np.array([4, 0])        \n",
    "temp1 = np.divide(np.dot(U.T, b), S)\n",
    "weights_linear = np.dot(VT.T, temp1)\n",
    "weights_linear"
   ]
  }
 ],
 "metadata": {
  "interpreter": {
   "hash": "07efdcd4b820c98a756949507a4d29d7862823915ec7477944641bea022f4f62"
  },
  "kernelspec": {
   "display_name": "Python 3.8.10 ('base')",
   "language": "python",
   "name": "python3"
  },
  "language_info": {
   "codemirror_mode": {
    "name": "ipython",
    "version": 3
   },
   "file_extension": ".py",
   "mimetype": "text/x-python",
   "name": "python",
   "nbconvert_exporter": "python",
   "pygments_lexer": "ipython3",
   "version": "3.8.10"
  },
  "orig_nbformat": 4
 },
 "nbformat": 4,
 "nbformat_minor": 2
}
