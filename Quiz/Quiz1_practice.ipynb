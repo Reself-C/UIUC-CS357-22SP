{
 "cells": [
  {
   "cell_type": "code",
   "execution_count": 1,
   "metadata": {},
   "outputs": [],
   "source": [
    "import numpy as np"
   ]
  },
  {
   "cell_type": "code",
   "execution_count": 4,
   "metadata": {},
   "outputs": [
    {
     "name": "stdout",
     "output_type": "stream",
     "text": [
      "012345678\n",
      "(0, 1, 2, 3, 4, 5, 6, 7, 8)\n",
      "(0, 1, 2, 3, 4, 5, 6, 7, 8, 9, 10)\n"
     ]
    }
   ],
   "source": [
    "a = \"012345678\"\n",
    "b = a\n",
    "b += \"910\"\n",
    "print(a)\n",
    "\n",
    "a = (0, 1, 2, 3, 4, 5, 6, 7, 8)\n",
    "b = a\n",
    "b += (9,10)\n",
    "print(a)\n",
    "print(b)"
   ]
  },
  {
   "cell_type": "code",
   "execution_count": 2,
   "metadata": {},
   "outputs": [
    {
     "name": "stdout",
     "output_type": "stream",
     "text": [
      "[[-3 -1 -1]\n",
      " [ 0 -3  2]\n",
      " [ 0 -1 -6]]\n",
      "(array([-3., -4., -5.]), array([[ 1.00000000e+00,  4.08248290e-01,  8.77708367e-18],\n",
      "       [ 0.00000000e+00,  8.16496581e-01, -7.07106781e-01],\n",
      "       [ 0.00000000e+00, -4.08248290e-01,  7.07106781e-01]]))\n"
     ]
    }
   ],
   "source": [
    "A = np.array([[-3, -1, -1],\n",
    "              [0, -3, 2], \n",
    "              [0, -1, -6]])\n",
    "eigen = np.linalg.eig(A)\n",
    "print(A)\n",
    "print(eigen)"
   ]
  },
  {
   "cell_type": "code",
   "execution_count": 15,
   "metadata": {},
   "outputs": [
    {
     "data": {
      "text/plain": [
       "144.0"
      ]
     },
     "execution_count": 15,
     "metadata": {},
     "output_type": "execute_result"
    }
   ],
   "source": [
    "6912/4/12"
   ]
  },
  {
   "cell_type": "code",
   "execution_count": 17,
   "metadata": {},
   "outputs": [
    {
     "name": "stdout",
     "output_type": "stream",
     "text": [
      "23.076923076923073\n"
     ]
    }
   ],
   "source": [
    "relative_error = 0.48\n",
    "estimated_time = 12\n",
    "true_value = 1 /(1- relative_error)*estimated_time\n",
    "print(true_value)"
   ]
  },
  {
   "cell_type": "code",
   "execution_count": 18,
   "metadata": {},
   "outputs": [
    {
     "name": "stdout",
     "output_type": "stream",
     "text": [
      "[2, 3, 4, 6, 7, 8, 9]\n"
     ]
    }
   ],
   "source": [
    "A = [2, 3, 4, 5, 6, 7, 8, 9]\n",
    "A.pop(3)\n",
    "print(A)"
   ]
  },
  {
   "cell_type": "code",
   "execution_count": 15,
   "metadata": {},
   "outputs": [
    {
     "name": "stdout",
     "output_type": "stream",
     "text": [
      "[ 0.00003398870  0.00006601130  0.00005601130  0.00001601130\n",
      "  0.00004601130]\n"
     ]
    }
   ],
   "source": [
    "phi = 1.6180339887\n",
    "phi_est = np.array([1.61800, 1.61810, 1.618090, 1.618050, 1.618080])\n",
    "np.set_printoptions(formatter={'float': '{: 0.11f}'.format})\n",
    "print(abs(phi_est - phi))"
   ]
  },
  {
   "cell_type": "code",
   "execution_count": 33,
   "metadata": {},
   "outputs": [],
   "source": [
    "def comparator(A, B):\n",
    "    ind = []\n",
    "    for i in range(len(A)):\n",
    "        if type(A[i]) == type(B[i]):\n",
    "            if A[i] < B[i]:\n",
    "                ind.append(i)\n",
    "    return ind"
   ]
  },
  {
   "cell_type": "code",
   "execution_count": 34,
   "metadata": {},
   "outputs": [
    {
     "name": "stdout",
     "output_type": "stream",
     "text": [
      "[3]\n"
     ]
    }
   ],
   "source": [
    "A = [10, 'four', 'ten', 'eight']\n",
    "B = [7, 'eight', 10, 'one']\n",
    "ind = comparator(A,B)\n",
    "print(ind)"
   ]
  },
  {
   "cell_type": "code",
   "execution_count": 39,
   "metadata": {},
   "outputs": [
    {
     "name": "stdout",
     "output_type": "stream",
     "text": [
      "[ 1  9 25 36 49]\n",
      "2.718281828459045\n",
      "[5, 4, 3, 2, 1]\n"
     ]
    }
   ],
   "source": [
    "def square(a):\n",
    "    return a ** 2\n",
    "A = np.array([1,3,5,6,7])\n",
    "print(square(A))\n",
    "print(np.e)\n",
    "k = 5\n",
    "print([i for i in range(k, 0, -1)])"
   ]
  },
  {
   "cell_type": "code",
   "execution_count": 91,
   "metadata": {},
   "outputs": [
    {
     "name": "stdout",
     "output_type": "stream",
     "text": [
      "[ 0.36787944117  0.26424111766  0.20727664703  0.17089341189\n",
      "  0.14553294057  0.12680235656  0.11238350407  0.10093196745\n",
      "  0.09161229299  0.08387707006]\n",
      "[ 0.36787946429  0.26424107143  0.20727678571  0.17089285714\n",
      "  0.14553571429  0.12678571429  0.11250000000  0.10000000000\n",
      "  0.10000000000  0.00000000000]\n",
      "0.36787944117144233\n",
      "\n",
      "[9 8 7 6 5 4 3 2 1]\n"
     ]
    }
   ],
   "source": [
    "k = 10\n",
    "If = np.zeros(k) # Initialize the If and Ib\n",
    "Ib = np.zeros(k)\n",
    "#I = func_int(k)  # Get the true value of I by func_int()\n",
    "I_0 = 1 - 1 / np.e\n",
    "If[0] = 1 - 1 * I_0\n",
    "for i in range(1, k):\n",
    "    If[i] = 1 - (i + 1) * If[i - 1]\n",
    "for i in range(k - 1, 0, -1):\n",
    "    Ib[i - 1] = (1 -Ib[i]) / (i + 1)\n",
    "print(If) \n",
    "print(Ib)\n",
    "print(1- I_0)\n",
    "print()\n",
    "print(np.array([i for i in range(k - 1, 0, -1)]))"
   ]
  },
  {
   "cell_type": "code",
   "execution_count": 60,
   "metadata": {},
   "outputs": [
    {
     "name": "stdout",
     "output_type": "stream",
     "text": [
      "19\n"
     ]
    }
   ],
   "source": [
    "a = [i for i in range(19, 0, -1)]\n",
    "print(len(a))"
   ]
  },
  {
   "cell_type": "code",
   "execution_count": 73,
   "metadata": {},
   "outputs": [
    {
     "name": "stdout",
     "output_type": "stream",
     "text": [
      "<class 'float'>\n",
      "<class 'int'>\n",
      "<class 'float'>\n",
      "<class 'int'>\n"
     ]
    }
   ],
   "source": [
    "A = 10.89\n",
    "B = 5\n",
    "C = 3\n",
    "D = C + A\n",
    "E = B - 6\n",
    "print(type(A))\n",
    "print(type(B))\n",
    "print(type(D))\n",
    "print(type(E))"
   ]
  },
  {
   "cell_type": "code",
   "execution_count": 74,
   "metadata": {},
   "outputs": [
    {
     "data": {
      "text/plain": [
       "7.4766355140186915"
      ]
     },
     "execution_count": 74,
     "metadata": {},
     "output_type": "execute_result"
    }
   ],
   "source": [
    "8/1.07"
   ]
  },
  {
   "cell_type": "code",
   "execution_count": 76,
   "metadata": {},
   "outputs": [
    {
     "data": {
      "text/plain": [
       "array([0, 1, 2, 3, 4, 5, 6, 7, 8, 9])"
      ]
     },
     "execution_count": 76,
     "metadata": {},
     "output_type": "execute_result"
    }
   ],
   "source": [
    "A = [12, 17, -5, 2, -3, 1, 16, 5, 18, 15]\n",
    "A.index(16, 2)\n",
    "np.arange(10)"
   ]
  },
  {
   "cell_type": "code",
   "execution_count": 78,
   "metadata": {},
   "outputs": [
    {
     "name": "stdout",
     "output_type": "stream",
     "text": [
      "[8 6 4 2 0]\n",
      "[0 1 2 3 4 5 6 7 8]\n"
     ]
    }
   ],
   "source": [
    "nums = np.arange(9)\n",
    "A = nums[::-2]\n",
    "print(A)\n",
    "print(nums)"
   ]
  },
  {
   "cell_type": "code",
   "execution_count": 83,
   "metadata": {},
   "outputs": [
    {
     "name": "stdout",
     "output_type": "stream",
     "text": [
      "[0 0 0 0 0]\n",
      "[10, 8, 6, 4, 2]\n"
     ]
    }
   ],
   "source": [
    "nums = np.arange(10)\n",
    "A = np.zeros(5, dtype = int)\n",
    "for i in range(10, 1, 2):\n",
    "    A[i] = nums[i]\n",
    "print(A)\n",
    "print([i for i in range(10, 1, -2)])"
   ]
  },
  {
   "cell_type": "code",
   "execution_count": 86,
   "metadata": {},
   "outputs": [
    {
     "name": "stdout",
     "output_type": "stream",
     "text": [
      "[8 6 4 2 0]\n",
      "[8 6 4 2]\n"
     ]
    }
   ],
   "source": [
    "nums = np.arange(0, 10, 2)\n",
    "A = nums[::-1]\n",
    "print(A)\n",
    "print(np.arange(8,0, -2))"
   ]
  },
  {
   "cell_type": "code",
   "execution_count": 90,
   "metadata": {},
   "outputs": [
    {
     "name": "stdout",
     "output_type": "stream",
     "text": [
      "[8 6 4 2]\n",
      "8\n",
      "6\n",
      "4\n",
      "2\n"
     ]
    }
   ],
   "source": [
    "nums = np.arange(8,0, -2)\n",
    "print(nums)\n",
    "for i in nums:\n",
    "    print(i)"
   ]
  },
  {
   "cell_type": "code",
   "execution_count": 2,
   "metadata": {},
   "outputs": [],
   "source": [
    "python_list = [10, 20, 30, 40, 50, 50]\n",
    "np_array = np.array(python_list)"
   ]
  },
  {
   "cell_type": "code",
   "execution_count": 8,
   "metadata": {},
   "outputs": [
    {
     "name": "stdout",
     "output_type": "stream",
     "text": [
      "[ 5. 10. 15. 20. 25. 25.]\n"
     ]
    }
   ],
   "source": [
    "result = np.zeros(6)\n",
    "for i in range(6):\n",
    "    result[i] = np_array[i] /2\n",
    "print(result)"
   ]
  },
  {
   "cell_type": "code",
   "execution_count": 10,
   "metadata": {},
   "outputs": [
    {
     "name": "stdout",
     "output_type": "stream",
     "text": [
      "[5.0, 10.0, 15.0, 20.0, 25.0, 25.0]\n"
     ]
    }
   ],
   "source": [
    "result= []\n",
    "for i in range(6):\n",
    "    result.append(python_list[i] /2)\n",
    "print(result)"
   ]
  },
  {
   "cell_type": "code",
   "execution_count": 7,
   "metadata": {},
   "outputs": [
    {
     "name": "stdout",
     "output_type": "stream",
     "text": [
      "[ 5. 10. 15. 20. 25. 25.]\n"
     ]
    }
   ],
   "source": [
    "result = np_array / 2\n",
    "print(result)"
   ]
  },
  {
   "cell_type": "code",
   "execution_count": 11,
   "metadata": {},
   "outputs": [
    {
     "data": {
      "text/plain": [
       "6.60377358490566"
      ]
     },
     "execution_count": 11,
     "metadata": {},
     "output_type": "execute_result"
    }
   ],
   "source": [
    "7/1.06"
   ]
  },
  {
   "cell_type": "code",
   "execution_count": 13,
   "metadata": {},
   "outputs": [
    {
     "data": {
      "text/plain": [
       "[21, 22, 23, 24, 25]"
      ]
     },
     "execution_count": 13,
     "metadata": {},
     "output_type": "execute_result"
    }
   ],
   "source": [
    "a = [i for i in range(10,26)]\n",
    "a[-5:]"
   ]
  },
  {
   "cell_type": "code",
   "execution_count": 14,
   "metadata": {},
   "outputs": [
    {
     "data": {
      "text/plain": [
       "array([-3.39887e-05,  6.60113e-05,  5.60113e-05,  1.60113e-05,\n",
       "        4.60113e-05])"
      ]
     },
     "execution_count": 14,
     "metadata": {},
     "output_type": "execute_result"
    }
   ],
   "source": [
    "a = 1.6180339887\n",
    "a1 = 1.61800\n",
    "a2 = 1.61810\n",
    "a3 = 1.618090\n",
    "a4 = 1.618050\n",
    "a5 = 1.618080\n",
    "A = np.array([a1, a2, a3, a4, a5])\n",
    "A - a"
   ]
  },
  {
   "cell_type": "code",
   "execution_count": 16,
   "metadata": {},
   "outputs": [
    {
     "data": {
      "text/plain": [
       "0.0003686400000000001"
      ]
     },
     "execution_count": 16,
     "metadata": {},
     "output_type": "execute_result"
    }
   ],
   "source": [
    "(0.004/0.01)**6*0.09"
   ]
  },
  {
   "cell_type": "code",
   "execution_count": 25,
   "metadata": {},
   "outputs": [
    {
     "data": {
      "text/plain": [
       "28.722900390625"
      ]
     },
     "execution_count": 25,
     "metadata": {},
     "output_type": "execute_result"
    }
   ],
   "source": [
    "0.2872/0.01\n",
    "(7/4)**6"
   ]
  },
  {
   "cell_type": "code",
   "execution_count": 26,
   "metadata": {},
   "outputs": [
    {
     "data": {
      "text/plain": [
       "182.0"
      ]
     },
     "execution_count": 26,
     "metadata": {},
     "output_type": "execute_result"
    }
   ],
   "source": [
    "36/4*(3+2)*4+2"
   ]
  },
  {
   "cell_type": "code",
   "execution_count": 33,
   "metadata": {},
   "outputs": [
    {
     "name": "stdout",
     "output_type": "stream",
     "text": [
      "[0 1 2 3 4]\n"
     ]
    },
    {
     "data": {
      "text/plain": [
       "array([8, 6, 4, 2])"
      ]
     },
     "execution_count": 33,
     "metadata": {},
     "output_type": "execute_result"
    }
   ],
   "source": [
    "nums = np.arange(9)\n",
    "A = np.zeros(5, dtype = int)\n",
    "for i in range(5):\n",
    "    A[i] = nums[i]\n",
    "print(A)\n",
    "nums[::-2]\n",
    "np.arange(8,0,-2)    "
   ]
  },
  {
   "cell_type": "code",
   "execution_count": 34,
   "metadata": {},
   "outputs": [
    {
     "name": "stdout",
     "output_type": "stream",
     "text": [
      "0\n",
      "2\n",
      "1\n",
      "3\n",
      "2\n",
      "4\n"
     ]
    }
   ],
   "source": [
    "i = 0\n",
    "while i < 3:\n",
    "    print(i)\n",
    "    i += 1\n",
    "    print(i+1)"
   ]
  },
  {
   "cell_type": "code",
   "execution_count": 35,
   "metadata": {},
   "outputs": [
    {
     "data": {
      "text/plain": [
       "0.5319148936170213"
      ]
     },
     "execution_count": 35,
     "metadata": {},
     "output_type": "execute_result"
    }
   ],
   "source": [
    "0.5/0.94"
   ]
  },
  {
   "cell_type": "code",
   "execution_count": 77,
   "metadata": {},
   "outputs": [],
   "source": [
    "from random import shuffle, choice\n",
    "\n",
    "# Sample data\n",
    "names = [\"Li\", \"Fatima\", \"Jaime\", \"Jamila\", \"Vincentius\", \"Nike\", \"Jean\", \"Sheila\"]\n",
    "unpermitted_pairs = [{\"Li\", \"Sheila\"},{\"Fatima\", \"Jaime\"},{\"Jamila\", \"Vincentius\"}]\n",
    "\n",
    "\n",
    "def assign_pairs(names, unpermitted_pairs):\n",
    "    # write some code here\n",
    "    result_dict = dict()\n",
    "    gifters = names.copy()\n",
    "    recipients = names.copy()\n",
    "    while len(gifters) > 0:\n",
    "        gifter = choice(gifters)\n",
    "        recipient = choice(recipients)\n",
    "        while {gifter, recipient} in unpermitted_pairs or len({gifter, recipient}) == 1:\n",
    "            recipient = choice(recipients)\n",
    "        result_dict.update({gifter: recipient})\n",
    "        gifters.remove(gifter)\n",
    "        recipients.remove(recipient)\n",
    "    return result_dict\n",
    "\n",
    "\n",
    "            \n",
    "\n"
   ]
  },
  {
   "cell_type": "code",
   "execution_count": 78,
   "metadata": {},
   "outputs": [
    {
     "name": "stdout",
     "output_type": "stream",
     "text": [
      "{'Sheila': 'Jean', 'Jamila': 'Jaime', 'Vincentius': 'Fatima', 'Jaime': 'Sheila', 'Fatima': 'Jamila', 'Nike': 'Li', 'Jean': 'Nike', 'Li': 'Vincentius'}\n"
     ]
    }
   ],
   "source": [
    "names = [\"Li\", \"Fatima\", \"Jaime\", \"Jamila\", \"Vincentius\", \"Nike\", \"Jean\", \"Sheila\"]\n",
    "unpermitted_pairs = [{\"Li\", \"Sheila\"},{\"Fatima\", \"Jaime\"},{\"Jamila\", \"Vincentius\"}]\n",
    "result_dict = assign_pairs(names, unpermitted_pairs)\n",
    "print(result_dict)"
   ]
  }
 ],
 "metadata": {
  "interpreter": {
   "hash": "07efdcd4b820c98a756949507a4d29d7862823915ec7477944641bea022f4f62"
  },
  "kernelspec": {
   "display_name": "Python 3.8.10 64-bit ('base': conda)",
   "language": "python",
   "name": "python3"
  },
  "language_info": {
   "codemirror_mode": {
    "name": "ipython",
    "version": 3
   },
   "file_extension": ".py",
   "mimetype": "text/x-python",
   "name": "python",
   "nbconvert_exporter": "python",
   "pygments_lexer": "ipython3",
   "version": "3.8.10"
  },
  "orig_nbformat": 4
 },
 "nbformat": 4,
 "nbformat_minor": 2
}
