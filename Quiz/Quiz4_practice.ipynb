{
 "cells": [
  {
   "cell_type": "code",
   "execution_count": 2,
   "metadata": {},
   "outputs": [],
   "source": [
    "import numpy as np\n",
    "import scipy.linalg as la"
   ]
  },
  {
   "cell_type": "markdown",
   "metadata": {},
   "source": [
    "<img src ='Quiz4/1.jpg'>"
   ]
  },
  {
   "cell_type": "code",
   "execution_count": 2,
   "metadata": {},
   "outputs": [
    {
     "data": {
      "text/plain": [
       "array([0.35294118, 0.47058824, 0.17647059])"
      ]
     },
     "execution_count": 2,
     "metadata": {},
     "output_type": "execute_result"
    }
   ],
   "source": [
    "a = np.array([6, 8, 3])\n",
    "a / la.norm(a, 1)"
   ]
  },
  {
   "cell_type": "markdown",
   "metadata": {},
   "source": [
    "<img src = 'Quiz4/2.jpg'>"
   ]
  },
  {
   "cell_type": "code",
   "execution_count": 5,
   "metadata": {},
   "outputs": [
    {
     "data": {
      "text/plain": [
       "4"
      ]
     },
     "execution_count": 5,
     "metadata": {},
     "output_type": "execute_result"
    }
   ],
   "source": [
    "lamda1 = 4\n",
    "lamda2 = -1\n",
    "x = abs(lamda2 / lamda1)\n",
    "if x > 1:\n",
    "    x = 1/x\n",
    "factor = x\n",
    "count = 1\n",
    "while x > 1e-2:\n",
    "    x *= factor\n",
    "    count += 1\n",
    "count"
   ]
  },
  {
   "cell_type": "code",
   "execution_count": 4,
   "metadata": {},
   "outputs": [
    {
     "data": {
      "text/plain": [
       "10"
      ]
     },
     "execution_count": 4,
     "metadata": {},
     "output_type": "execute_result"
    }
   ],
   "source": [
    "lamda1 = -3\n",
    "lamda2 = 5\n",
    "x = abs(lamda2 / lamda1)\n",
    "if x > 1:\n",
    "    x = 1/x\n",
    "factor = x\n",
    "count = 1\n",
    "while x > 1e-2:\n",
    "    x *= factor\n",
    "    count += 1\n",
    "count\n"
   ]
  },
  {
   "cell_type": "markdown",
   "metadata": {},
   "source": [
    "<img src = 'Quiz4/3.jpg'>"
   ]
  },
  {
   "cell_type": "code",
   "execution_count": 9,
   "metadata": {},
   "outputs": [
    {
     "data": {
      "text/plain": [
       "0.0064"
      ]
     },
     "execution_count": 9,
     "metadata": {},
     "output_type": "execute_result"
    }
   ],
   "source": [
    "A = 4\n",
    "B = 16\n",
    "factor = 1e-4\n",
    "A*B*factor"
   ]
  },
  {
   "cell_type": "markdown",
   "metadata": {},
   "source": [
    "<img src = 'Quiz4/15.jpg'>"
   ]
  },
  {
   "cell_type": "code",
   "execution_count": 11,
   "metadata": {},
   "outputs": [
    {
     "data": {
      "text/plain": [
       "-6.0"
      ]
     },
     "execution_count": 11,
     "metadata": {},
     "output_type": "execute_result"
    }
   ],
   "source": [
    "np.log10(1e-10*1e4)"
   ]
  },
  {
   "cell_type": "markdown",
   "metadata": {},
   "source": [
    "<img src = 'Quiz4/4.jpg'>"
   ]
  },
  {
   "cell_type": "markdown",
   "metadata": {},
   "source": [
    "<img src = 'Quiz4/5.jpg'>"
   ]
  },
  {
   "cell_type": "code",
   "execution_count": 11,
   "metadata": {},
   "outputs": [
    {
     "data": {
      "text/plain": [
       "3.0"
      ]
     },
     "execution_count": 11,
     "metadata": {},
     "output_type": "execute_result"
    }
   ],
   "source": [
    "x1 = 2\n",
    "x2 = 4 \n",
    "x3 = 6\n",
    "Ax1 = 40\n",
    "Ax2 = 40\n",
    "Ax3 = 180\n",
    "\n",
    "X = np.array([x1, x2, x3])\n",
    "AX = np.array([Ax1, Ax2, Ax3])\n",
    "A = AX/X\n",
    "np.max(A) / np.min(A)"
   ]
  },
  {
   "cell_type": "code",
   "execution_count": 60,
   "metadata": {},
   "outputs": [
    {
     "data": {
      "text/plain": [
       "6.0"
      ]
     },
     "execution_count": 60,
     "metadata": {},
     "output_type": "execute_result"
    }
   ],
   "source": [
    "x1 = 2\n",
    "x2 = 3\n",
    "x3 = 6\n",
    "Ax1 = 60\n",
    "Ax2 = 60\n",
    "Ax3 = 30\n",
    "\n",
    "X = np.array([x1, x2, x3])\n",
    "AX = np.array([Ax1, Ax2, Ax3])\n",
    "A = AX/X\n",
    "np.max(A) / np.min(A)"
   ]
  },
  {
   "cell_type": "markdown",
   "metadata": {},
   "source": [
    "<img src = 'Quiz4/6.jpg'>"
   ]
  },
  {
   "cell_type": "code",
   "execution_count": 18,
   "metadata": {},
   "outputs": [
    {
     "data": {
      "text/plain": [
       "array([[0.08333333, 0.45833333, 0.83333333],\n",
       "       [0.08333333, 0.08333333, 0.08333333],\n",
       "       [0.83333333, 0.45833333, 0.08333333]])"
      ]
     },
     "execution_count": 18,
     "metadata": {},
     "output_type": "execute_result"
    }
   ],
   "source": [
    "def convert(B):\n",
    "    index = np.where(~B.any(axis=0))[0]\n",
    "    B[:,index] += 1\n",
    "    Mb = B / np.sum(B, axis = 0)\n",
    "    return Mb\n",
    "A = np.array([[0, 1, 1],\n",
    "              [0, 0, 0],\n",
    "              [1, 1, 0]])\n",
    "alpha = 0.75\n",
    "S = convert(A)\n",
    "G = alpha * S + (1-alpha)/A.shape[0]\n",
    "G"
   ]
  },
  {
   "cell_type": "code",
   "execution_count": 2,
   "metadata": {},
   "outputs": [
    {
     "data": {
      "text/plain": [
       "array([[0.0625, 0.4375, 0.4375, 0.4375],\n",
       "       [0.4375, 0.0625, 0.0625, 0.0625],\n",
       "       [0.0625, 0.0625, 0.0625, 0.4375],\n",
       "       [0.4375, 0.4375, 0.4375, 0.0625]])"
      ]
     },
     "execution_count": 2,
     "metadata": {},
     "output_type": "execute_result"
    }
   ],
   "source": [
    "def convert(B):\n",
    "    index = np.where(~B.any(axis=0))[0]\n",
    "    B[:,index] += 1\n",
    "    Mb = B / np.sum(B, axis = 0)\n",
    "    return Mb\n",
    "\n",
    "A = np.array([[0, 1, 1, 1],\n",
    "              [1, 0, 0, 0],\n",
    "              [0, 0, 0, 1],\n",
    "              [1, 1, 1, 0]])\n",
    "alpha = 0.75\n",
    "S = convert(A)\n",
    "G = alpha * S + (1-alpha)/A.shape[0]\n",
    "G"
   ]
  },
  {
   "cell_type": "markdown",
   "metadata": {},
   "source": [
    "<img src = 'Quiz4/7.jpg'>"
   ]
  },
  {
   "cell_type": "code",
   "execution_count": 7,
   "metadata": {},
   "outputs": [
    {
     "name": "stdout",
     "output_type": "stream",
     "text": [
      "larger eigen = -1\n",
      "smaller eigen = -2\n"
     ]
    }
   ],
   "source": [
    "lama1 = 3\n",
    "lama2 = 2\n",
    "coeff = 1\n",
    "sigma = 4\n",
    "\n",
    "lama = np.array([lama1, lama2])\n",
    "lamb = lama - sigma\n",
    "print('larger eigen = %s' %np.max(lamb))\n",
    "print('smaller eigen = %s' %np.min(lamb))"
   ]
  },
  {
   "cell_type": "code",
   "execution_count": 6,
   "metadata": {},
   "outputs": [
    {
     "name": "stdout",
     "output_type": "stream",
     "text": [
      "larger eigen = 21\n",
      "smaller eigen = 9\n"
     ]
    }
   ],
   "source": [
    "lama1 = 8\n",
    "lama2 = 4\n",
    "coeff = 3\n",
    "sigma = 3\n",
    "\n",
    "lama = np.array([lama1, lama2])\n",
    "lamb = coeff * lama - sigma\n",
    "print('larger eigen = %s' %np.max(lamb))\n",
    "print('smaller eigen = %s' %np.min(lamb))"
   ]
  },
  {
   "cell_type": "markdown",
   "metadata": {},
   "source": [
    "<img src = 'Quiz4/8.jpg'>"
   ]
  },
  {
   "cell_type": "code",
   "execution_count": 35,
   "metadata": {},
   "outputs": [
    {
     "name": "stderr",
     "output_type": "stream",
     "text": [
      "<ipython-input-35-ac2e08e29dec>:9: ComplexWarning: Casting complex values to real discards the imaginary part\n",
      "  a = np.linalg.eig(mat)[1][:, 0].astype(np.float64)\n"
     ]
    }
   ],
   "source": [
    "import numpy as np\n",
    "\n",
    "mat = np.array([[0, 1, 1, 1, 0],\n",
    "                [1, 0, 0, 1, 0],\n",
    "                [1, 1, 0, 1, 0],\n",
    "                [1, 0, 0, 0, 1],\n",
    "                [1, 0, 1, 0, 0]])\n",
    "mat = mat / np.sum(mat, axis = 0)\n",
    "a = np.linalg.eig(mat)[1][:, 0].astype(np.float64)\n",
    "prob = a/np.sum(a)"
   ]
  },
  {
   "cell_type": "markdown",
   "metadata": {},
   "source": [
    "<img src = 'Quiz4/9.jpg'>"
   ]
  },
  {
   "cell_type": "code",
   "execution_count": 33,
   "metadata": {},
   "outputs": [
    {
     "name": "stdout",
     "output_type": "stream",
     "text": [
      "0\n",
      "1\n",
      "2\n",
      "3\n",
      "4\n"
     ]
    }
   ],
   "source": [
    "import numpy as np\n",
    "\n",
    "A = np.zeros(A_csr.shape)\n",
    "\n",
    "for i in range(1, A_csr.indptr.shape[0]):\n",
    "    count = A_csr.indptr[i] - A_csr.indptr[i - 1]\n",
    "    for j in range(count):\n",
    "        column = A_csr.indices[A_csr.indptr[i - 1] + j]\n",
    "        value = A_csr.data[A_csr.indptr[i - 1] + j]\n",
    "        A[i-1][column] = value"
   ]
  },
  {
   "cell_type": "markdown",
   "metadata": {},
   "source": [
    "<img src = 'Quiz4/10.jpg'>"
   ]
  },
  {
   "cell_type": "code",
   "execution_count": null,
   "metadata": {},
   "outputs": [],
   "source": [
    "import numpy as np\n",
    "import numpy.linalg as la\n",
    "\n",
    "err_xhat = xtrue - xhat\n",
    "rel_err_xhat = la.norm(err_xhat, 2) / la.norm(xtrue, 2)\n",
    "err_Axhat = A @ err_xhat\n",
    "rel_err_Axhat = la.norm(err_Axhat, 2) / la.norm(A @ xtrue, 2)\n",
    "cond_A = la.norm(A, 2) * la.norm(la.inv(A), 2)\n",
    "bound_rel_err_Axhat = cond_A * rel_err_xhat"
   ]
  },
  {
   "cell_type": "markdown",
   "metadata": {},
   "source": [
    "<img src = 'Quiz4/11.jpg'>"
   ]
  },
  {
   "cell_type": "markdown",
   "metadata": {},
   "source": [
    "<img src = 'Quiz4/12.jpg'>\n",
    "<img src = 'Quiz4/13.jpg'>"
   ]
  },
  {
   "cell_type": "markdown",
   "metadata": {},
   "source": [
    "<img src = 'Quiz4/14.jpg'>"
   ]
  },
  {
   "cell_type": "code",
   "execution_count": 4,
   "metadata": {},
   "outputs": [
    {
     "data": {
      "text/plain": [
       "-3"
      ]
     },
     "execution_count": 4,
     "metadata": {},
     "output_type": "execute_result"
    }
   ],
   "source": [
    "lam = 2\n",
    "lamb = lam**3 -2 * lam**2 - 9* lam + 15\n",
    "lamb"
   ]
  },
  {
   "cell_type": "markdown",
   "metadata": {},
   "source": [
    "<img src = 'Quiz4/16.jpg'>\n",
    "<img src = 'Quiz4/17.jpg'>"
   ]
  },
  {
   "cell_type": "code",
   "execution_count": null,
   "metadata": {},
   "outputs": [],
   "source": [
    "import numpy as np\n",
    "import numpy.linalg as la\n",
    "\n",
    "A_complete = A.copy()\n",
    "A_complete[missing_row_index] = 1 - np.sum(A, axis = 0)\n",
    "A_complete[missing_row_index][missing_col_index] = 0\n",
    "col = (comp2 - A_complete @ comp1) / comp1[missing_col_index]\n",
    "A_complete[:, missing_col_index] = col\n",
    "\n",
    "\n",
    "\n",
    "def final_comp(A):\n",
    "    # complete your function\n",
    "    # return 1d numpy array with final ingredient composition\n",
    "    '''\n",
    "    eig = la.eig(A)\n",
    "    arr = eig[0]\n",
    "    idx = np.argmin(abs(arr-1))\n",
    "    x = eig[1][idx]\n",
    "    '''\n",
    "    comp = np.random.rand(A.shape[0])\n",
    "    comp /= la.norm(comp,1)\n",
    "    while not np.array_equal(A @ comp, comp):\n",
    "        comp = A @ comp\n",
    "    return comp"
   ]
  },
  {
   "cell_type": "markdown",
   "metadata": {},
   "source": [
    "<img src = 'Quiz4/18.jpg'>"
   ]
  },
  {
   "cell_type": "markdown",
   "metadata": {},
   "source": [
    "<img src = 'Quiz4/19.jpg'>"
   ]
  },
  {
   "cell_type": "code",
   "execution_count": 10,
   "metadata": {},
   "outputs": [
    {
     "name": "stdout",
     "output_type": "stream",
     "text": [
      "Number 0\n",
      "2.9000000000000057 76.1\n",
      "0.038107752956636085\n",
      "0.038107752956636085\n",
      "Number 1\n",
      "4 13\n",
      "0.3076923076923077\n",
      "0.038107752956636085\n",
      "Number 2\n",
      "3 82\n",
      "0.036585365853658534\n",
      "0.036585365853658534\n",
      "Number 3\n",
      "94.1 103.1\n",
      "0.9127061105722599\n",
      "0.036585365853658534\n",
      "Number 4\n",
      "4 5\n",
      "0.8\n",
      "0.036585365853658534\n",
      "Number 5\n",
      "1 8\n",
      "0.125\n",
      "0.036585365853658534\n"
     ]
    },
    {
     "data": {
      "text/plain": [
       "-94"
      ]
     },
     "execution_count": 10,
     "metadata": {},
     "output_type": "execute_result"
    }
   ],
   "source": [
    "lam = np.array([3, 12, 91])\n",
    "sigmas = [-88.1, 1, -94, 91.1, -7, -4]\n",
    "temp = np.inf\n",
    "idx = 0\n",
    "for i in range(len(sigmas)):\n",
    "    sigma = sigmas[i]\n",
    "    lam_new = abs(lam+sigma)\n",
    "    lam_new = np.sort(lam_new)\n",
    "    print(\"Number %s\" %i)\n",
    "    print(lam_new[0],lam_new[1])\n",
    "    e = lam_new[0]/lam_new[1]\n",
    "    print(e)\n",
    "    if e < temp:\n",
    "        temp = e\n",
    "        idx = i\n",
    "    print(temp)\n",
    "sigmas[idx]"
   ]
  },
  {
   "cell_type": "code",
   "execution_count": 4,
   "metadata": {},
   "outputs": [
    {
     "name": "stdout",
     "output_type": "stream",
     "text": [
      "0.1111111111111111\n",
      "0.1111111111111111\n",
      "0.07692307692307693\n",
      "0.07692307692307693\n",
      "0.2222222222222222\n",
      "0.07692307692307693\n",
      "0.6923076923076923\n",
      "0.07692307692307693\n",
      "0.5\n",
      "0.07692307692307693\n"
     ]
    },
    {
     "data": {
      "text/plain": [
       "array([-13,   7,  -7])"
      ]
     },
     "execution_count": 4,
     "metadata": {},
     "output_type": "execute_result"
    }
   ],
   "source": [
    "sigma = 6\n",
    "lams = np.array([[15, 7, -7],\n",
    "                 [-13, 7, -7],\n",
    "                 [-7, 8, 15],\n",
    "                 [15, -13, -7],\n",
    "                 [8, 7, 15]])\n",
    "temp = np.inf\n",
    "idx = 0\n",
    "for i in range(lams.shape[0]):\n",
    "    lam = lams[i]\n",
    "    lam_new = abs(lam-sigma)\n",
    "    lam_new = np.sort(lam_new)\n",
    "    e = lam_new[0] / lam_new[1]\n",
    "    print(e)\n",
    "    if e < temp:\n",
    "        temp = e\n",
    "        idx = i\n",
    "    print(temp)\n",
    "lams[idx]"
   ]
  },
  {
   "cell_type": "code",
   "execution_count": 8,
   "metadata": {},
   "outputs": [
    {
     "data": {
      "text/plain": [
       "3.0625"
      ]
     },
     "execution_count": 8,
     "metadata": {},
     "output_type": "execute_result"
    }
   ],
   "source": [
    "A = np.zeros((4,4))\n",
    "value = [1.8, 2, -4.9, -1.6]\n",
    "for i in range(len(value)):\n",
    "    A[i,i] = value[i]\n",
    "np.linalg.cond(A, 2)"
   ]
  },
  {
   "cell_type": "code",
   "execution_count": 13,
   "metadata": {},
   "outputs": [
    {
     "data": {
      "text/plain": [
       "(0.8192000000000002, 0.39506172839506165)"
      ]
     },
     "execution_count": 13,
     "metadata": {},
     "output_type": "execute_result"
    }
   ],
   "source": [
    "lam1, lam2, lam3 = -6,5,4\n",
    "u = np.array([1, 0, -1])\n",
    "x0 = np.array([-1, -1, -1])\n",
    "sigma = 2\n",
    "n = 4\n",
    "\n",
    "e0 = la.norm(x0 - u, np.inf)\n",
    "lams = np.array([lam1, lam2, lam3])\n",
    "def find_convergence(lams, sigma= 0):\n",
    "    new_lams = list(lams - sigma)\n",
    "    new_lams.sort(key = abs)\n",
    "    return abs(new_lams[0] / new_lams[1])\n",
    "find_convergence(lams) ** (n) * e0, find_convergence(lams, sigma) ** (n) *e0"
   ]
  },
  {
   "cell_type": "code",
   "execution_count": 4,
   "metadata": {},
   "outputs": [
    {
     "data": {
      "text/plain": [
       "array([[1. , 0.5],\n",
       "       [0. , 0.5]])"
      ]
     },
     "execution_count": 4,
     "metadata": {},
     "output_type": "execute_result"
    }
   ],
   "source": [
    "A = np.array([[8, -5],\n",
    "              [0, 3]])\n",
    "a = la.eig(A)[1]\n",
    "ans = np.zeros(a.shape)\n",
    "for i in range(A.shape[1]):\n",
    "    vector = a[:, i] / la.norm(a[:, i],1)\n",
    "    ans[:,i] = vector\n",
    "ans"
   ]
  }
 ],
 "metadata": {
  "interpreter": {
   "hash": "07efdcd4b820c98a756949507a4d29d7862823915ec7477944641bea022f4f62"
  },
  "kernelspec": {
   "display_name": "Python 3.8.10 ('base')",
   "language": "python",
   "name": "python3"
  },
  "language_info": {
   "codemirror_mode": {
    "name": "ipython",
    "version": 3
   },
   "file_extension": ".py",
   "mimetype": "text/x-python",
   "name": "python",
   "nbconvert_exporter": "python",
   "pygments_lexer": "ipython3",
   "version": "3.8.10"
  },
  "orig_nbformat": 4
 },
 "nbformat": 4,
 "nbformat_minor": 2
}
