{
 "cells": [
  {
   "cell_type": "markdown",
   "metadata": {},
   "source": []
  },
  {
   "cell_type": "code",
   "execution_count": 8,
   "metadata": {},
   "outputs": [],
   "source": [
    "import numpy as np\n",
    "import numpy.linalg as la\n",
    "import scipy.linalg as sla"
   ]
  },
  {
   "cell_type": "markdown",
   "metadata": {},
   "source": [
    "<img src = 'Quiz3/1.png'>"
   ]
  },
  {
   "cell_type": "code",
   "execution_count": 23,
   "metadata": {},
   "outputs": [
    {
     "data": {
      "text/plain": [
       "7250.0"
      ]
     },
     "execution_count": 23,
     "metadata": {},
     "output_type": "execute_result"
    }
   ],
   "source": [
    "# LU Solve Time Complexity\n",
    "N_M = 800\n",
    "t1 = 10\n",
    "t2 = 6\n",
    "\n",
    "N_A = 4000\n",
    "b = 40\n",
    "t_factorization = N_A**3/N_M**3 * t1\n",
    "t_solve = N_A ** 2 / N_M **2 * t2 *b\n",
    "t = t_factorization + t_solve\n",
    "t"
   ]
  },
  {
   "cell_type": "markdown",
   "metadata": {},
   "source": [
    "<img src = 'Quiz3/2.jpg'>"
   ]
  },
  {
   "cell_type": "code",
   "execution_count": 54,
   "metadata": {},
   "outputs": [
    {
     "name": "stdout",
     "output_type": "stream",
     "text": [
      "abs_error:3.2869787749816357 rel_error1.0462778397529402\n"
     ]
    }
   ],
   "source": [
    "# Estimate Error from Monte Carlo\n",
    "\n",
    "def check(xy):\n",
    "    x = xy[0]\n",
    "    y = xy[1]\n",
    "    n = 1.5\n",
    "    c = 1\n",
    "    if np.cbrt((x-n) ** 2) + (1 - (x - n)**2)**0.5 + c >= y and np.cbrt((x-n) ** 2) - (1 - (x - n)**2)**0.5 + c <= y:\n",
    "        return 1\n",
    "    else:\n",
    "        return 0\n",
    "\n",
    "\n",
    "x = 3\n",
    "y = 3\n",
    "sample = [(2.0, 2.0), (2.0, 1.0), (1.5, 1.5), (0.5, 0.5), (1.5, 2.5), (1.0, 2.0), (1.0, 1.5)]\n",
    "n_in = sum([check(i) for i in sample])\n",
    "area = n_in / len(sample) * x * y\n",
    "abs_error = abs(area - np.pi)\n",
    "rel_error = abs_error / np.pi\n",
    "print(\"abs_error:\" + str(abs_error), \"rel_error\" + str(rel_error))"
   ]
  },
  {
   "cell_type": "markdown",
   "metadata": {},
   "source": [
    "<img src = 'Quiz3/3.jpg'>"
   ]
  },
  {
   "cell_type": "code",
   "execution_count": 11,
   "metadata": {},
   "outputs": [
    {
     "data": {
      "text/plain": [
       "41.0"
      ]
     },
     "execution_count": 11,
     "metadata": {},
     "output_type": "execute_result"
    }
   ],
   "source": [
    "array = np.array([ [0, 13, 0, 5, -13, 0, 0],\n",
    "                   [0, 2, 0, -6, 4, 0, 7],\n",
    "                   [-14, 0, 0, 0, 0, 0, 14],\n",
    "                   [0, 0, 0, 0, 0, -6, 0],\n",
    "                   [0, 0, 0, -10, -9, 0, 0],\n",
    "                   [-12, -3, -11, 0, 0, 14, 0],\n",
    "                   [-15, 0, -6, 0, 0, -12, -9]])\n",
    "la.norm(array,1)\n",
    "# np.max(np.sum(np.abs(array), axis = 0)) "
   ]
  },
  {
   "cell_type": "markdown",
   "metadata": {},
   "source": [
    "<img src = 'Quiz3/4.jpg'>\n",
    "\n",
    "\n",
    "Entry with largest abs_value in the first column"
   ]
  },
  {
   "cell_type": "markdown",
   "metadata": {},
   "source": [
    "<img src = 'Quiz3/5.jpg'>"
   ]
  },
  {
   "cell_type": "code",
   "execution_count": 51,
   "metadata": {},
   "outputs": [
    {
     "data": {
      "text/plain": [
       "80000000000.00002"
      ]
     },
     "execution_count": 51,
     "metadata": {},
     "output_type": "execute_result"
    }
   ],
   "source": [
    "n = 800\n",
    "error = 1e-3\n",
    "objective_error = 1e-7\n",
    "(error * np.sqrt(n) / objective_error)**2"
   ]
  },
  {
   "cell_type": "markdown",
   "metadata": {},
   "source": [
    "<img src = 'Quiz3/6.jpg'>"
   ]
  },
  {
   "cell_type": "markdown",
   "metadata": {},
   "source": [
    "<img src = 'Quiz3/7.jpg'>"
   ]
  },
  {
   "cell_type": "code",
   "execution_count": 38,
   "metadata": {},
   "outputs": [
    {
     "data": {
      "text/plain": [
       "(array([[1., 0.],\n",
       "        [5., 1.]]),\n",
       " array([[ 5.,  6.],\n",
       "        [ 0., 12.]]))"
      ]
     },
     "execution_count": 38,
     "metadata": {},
     "output_type": "execute_result"
    }
   ],
   "source": [
    "A = np.array([[5, 6],[25,42]])\n",
    "\n",
    "def lu_decomp(A):\n",
    "    \"\"\"(L, U) = lu_decomp(A) is the LU decomposition A = L U\n",
    "       A is any matrix\n",
    "       L will be a lower-triangular matrix with 1 on the diagonal, the same shape as A\n",
    "       U will be an upper-triangular matrix, the same shape as A\n",
    "    \"\"\"\n",
    "    n = A.shape[0]\n",
    "    if n == 1:\n",
    "        L = np.array([[1]])\n",
    "        U = A.copy()\n",
    "        return (L, U)\n",
    "\n",
    "    A11 = A[0,0]\n",
    "    A12 = A[0,1:]\n",
    "    A21 = A[1:,0]\n",
    "    A22 = A[1:,1:]\n",
    "\n",
    "    L11 = 1\n",
    "    U11 = A11\n",
    "\n",
    "    L12 = np.zeros(n-1)\n",
    "    U12 = A12.copy()\n",
    "\n",
    "    L21 = A21.copy() / U11\n",
    "    U21 = np.zeros(n-1)\n",
    "\n",
    "    S22 = A22 - np.outer(L21, U12)\n",
    "    (L22, U22) = lu_decomp(S22)\n",
    "\n",
    "    L = np.block([[L11, L12], [L21, L22]])\n",
    "    U = np.block([[U11, U12], [U21, U22]])\n",
    "    return (L, U)\n",
    "lu_decomp(A)\n"
   ]
  },
  {
   "cell_type": "markdown",
   "metadata": {},
   "source": [
    "<img src = 'Quiz3/8.jpg'>"
   ]
  },
  {
   "cell_type": "code",
   "execution_count": 14,
   "metadata": {},
   "outputs": [
    {
     "ename": "NameError",
     "evalue": "name 'x1' is not defined",
     "output_type": "error",
     "traceback": [
      "\u001b[1;31m---------------------------------------------------------------------------\u001b[0m",
      "\u001b[1;31mNameError\u001b[0m                                 Traceback (most recent call last)",
      "\u001b[1;32m<ipython-input-14-66ee3ec72835>\u001b[0m in \u001b[0;36m<module>\u001b[1;34m\u001b[0m\n\u001b[0;32m      2\u001b[0m \u001b[1;32mimport\u001b[0m \u001b[0mnumpy\u001b[0m\u001b[1;33m.\u001b[0m\u001b[0mlinalg\u001b[0m \u001b[1;32mas\u001b[0m \u001b[0mla\u001b[0m\u001b[1;33m\u001b[0m\u001b[1;33m\u001b[0m\u001b[0m\n\u001b[0;32m      3\u001b[0m \u001b[1;33m\u001b[0m\u001b[0m\n\u001b[1;32m----> 4\u001b[1;33m \u001b[0mrelErr\u001b[0m \u001b[1;33m=\u001b[0m \u001b[0mla\u001b[0m\u001b[1;33m.\u001b[0m\u001b[0mnorm\u001b[0m\u001b[1;33m(\u001b[0m\u001b[0mx1\u001b[0m\u001b[1;33m-\u001b[0m\u001b[0mx2\u001b[0m\u001b[1;33m,\u001b[0m\u001b[0mp\u001b[0m\u001b[1;33m)\u001b[0m \u001b[1;33m/\u001b[0m \u001b[0mla\u001b[0m\u001b[1;33m.\u001b[0m\u001b[0mnorm\u001b[0m\u001b[1;33m(\u001b[0m\u001b[0mx1\u001b[0m\u001b[1;33m,\u001b[0m\u001b[0mp\u001b[0m\u001b[1;33m)\u001b[0m\u001b[1;33m\u001b[0m\u001b[1;33m\u001b[0m\u001b[0m\n\u001b[0m",
      "\u001b[1;31mNameError\u001b[0m: name 'x1' is not defined"
     ]
    }
   ],
   "source": [
    "import numpy.linalg as la\n",
    "\n",
    "relErr = la.norm(x1-x2,p) / la.norm(x1,p)"
   ]
  },
  {
   "cell_type": "markdown",
   "metadata": {},
   "source": [
    "<img src = 'Quiz3/9.jpg'>"
   ]
  },
  {
   "cell_type": "code",
   "execution_count": null,
   "metadata": {},
   "outputs": [
    {
     "data": {
      "text/plain": [
       "(50,)"
      ]
     },
     "execution_count": 59,
     "metadata": {},
     "output_type": "execute_result"
    }
   ],
   "source": [
    "def genRandomVect():\n",
    "    # define return numpy array\n",
    "    arr = np.arange(100)\n",
    "    np.random.shuffle(arr)\n",
    "    \n",
    "    return arr[:50]\n",
    "genRandomVect().shape"
   ]
  },
  {
   "cell_type": "code",
   "execution_count": 35,
   "metadata": {},
   "outputs": [],
   "source": [
    "def forward_sub(L, b):\n",
    "    \"\"\"x = forward_sub(L, b) is the solution to L x = b\n",
    "       L must be a lower-triangular matrix\n",
    "       b must be a vector of the same leading dimension as L\n",
    "    \"\"\"\n",
    "    n = L.shape[0]\n",
    "    x = np.zeros(n)\n",
    "    for i in range(n):\n",
    "        tmp = b[i]\n",
    "        for j in range(i):\n",
    "            tmp -= L[i,j] * x[j]\n",
    "        x[i] = tmp / L[i,i]\n",
    "    return x\n",
    "\n",
    "def back_sub(U, b):\n",
    "    \"\"\"x = back_sub(U, b) is the solution to U x = b\n",
    "       U must be an upper-triangular matrix\n",
    "       b must be a vector of the same leading dimension as U\n",
    "    \"\"\"\n",
    "    n = U.shape[0]\n",
    "    x = np.zeros(n)\n",
    "    for i in range(n-1, -1, -1):\n",
    "        tmp = b[i]\n",
    "        for j in range(i+1, n):\n",
    "            tmp -= U[i,j] * x[j]\n",
    "        x[i] = tmp / U[i,i]\n",
    "    return x\n",
    "\n",
    "def lu_solve(L, U, b):\n",
    "    \"\"\"x = lu_solve(L, U, b) is the solution to L U x = b\n",
    "       L must be a lower-triangular matrix\n",
    "       U must be an upper-triangular matrix of the same size as L\n",
    "       b must be a vector of the same leading dimension as L\n",
    "    \"\"\"\n",
    "    y = forward_sub(L, b)\n",
    "    x = back_sub(U, y)\n",
    "    return x"
   ]
  },
  {
   "cell_type": "code",
   "execution_count": 52,
   "metadata": {},
   "outputs": [
    {
     "data": {
      "text/plain": [
       "array([  0.5, -63. ,  13.5])"
      ]
     },
     "execution_count": 52,
     "metadata": {},
     "output_type": "execute_result"
    }
   ],
   "source": [
    "L = np.array([[1, 0, 0],\n",
    "            [8, 1, 0],\n",
    "            [0, 9, 1]])\n",
    "U = np.array([[4, 0, 0],\n",
    "            [0, 1, 4],\n",
    "            [0, 0, 6]])\n",
    "b = np.array([2, 7, 0])\n",
    "x = lu_solve(L, U, b)\n",
    "x"
   ]
  },
  {
   "cell_type": "code",
   "execution_count": null,
   "metadata": {},
   "outputs": [
    {
     "data": {
      "text/plain": [
       "array([-0.248757  ,  2.88472812, -2.48550598, -1.26783462,  1.62932789,\n",
       "       -2.38658379, -2.96965764, -0.6040536 ,  0.93694768, -1.46779776])"
      ]
     },
     "execution_count": 99,
     "metadata": {},
     "output_type": "execute_result"
    }
   ],
   "source": [
    "import numpy as np\n",
    "n = 100000\n",
    "V = 6 * 6 * 2\n",
    "x = 6 * np.random.rand(n) - 3\n",
    "y = 6 * np.random.rand(n) - 3\n",
    "z = 2 * np.random.rand(n)\n",
    "\n",
    "def check_in(x, y, z):\n",
    "    if abs(x) + abs(y) < 3 and z > 0 and z < f(x,y):\n",
    "        return 1\n",
    "    return 0\n",
    "\n",
    "n_in = np.sum(np.array([check_in(x[i], y[i], z[i]) for i in range(n)]))\n",
    "volume = V * n_in/n"
   ]
  },
  {
   "cell_type": "markdown",
   "metadata": {},
   "source": [
    "<img src = 'Quiz3/10.jpg'>"
   ]
  },
  {
   "cell_type": "code",
   "execution_count": 49,
   "metadata": {},
   "outputs": [
    {
     "data": {
      "text/plain": [
       "0.3"
      ]
     },
     "execution_count": 49,
     "metadata": {},
     "output_type": "execute_result"
    }
   ],
   "source": [
    "a = np.array([32,10,24,22,20,27,26,29,33,25])\n",
    "L = 26\n",
    "U = 30.5\n",
    "b = a[a<=U]\n",
    "c = b[b>=L]\n",
    "len(c)/len(a)"
   ]
  },
  {
   "cell_type": "markdown",
   "metadata": {},
   "source": [
    "<img src = 'Quiz3/11.jpg'>"
   ]
  },
  {
   "cell_type": "code",
   "execution_count": 55,
   "metadata": {},
   "outputs": [
    {
     "data": {
      "text/plain": [
       "1e-06"
      ]
     },
     "execution_count": 55,
     "metadata": {},
     "output_type": "execute_result"
    }
   ],
   "source": [
    "n = 800\n",
    "error = 1e-2\n",
    "total = 8e10\n",
    "error * np.sqrt(n) / np.sqrt(total)"
   ]
  },
  {
   "cell_type": "code",
   "execution_count": 34,
   "metadata": {},
   "outputs": [
    {
     "data": {
      "text/plain": [
       "array([27, 55, 59, 77, 41,  5, 95, 68, 58, 29, 36, 44, 94, 16, 26,  3, 70,\n",
       "       96, 19, 37, 99, 42,  9, 62, 80, 76,  0, 49,  7, 12, 72, 35,  8, 65,\n",
       "       71, 54, 85, 43, 24, 20, 81, 14, 46, 60,  2, 88, 64, 52, 98, 53])"
      ]
     },
     "execution_count": 34,
     "metadata": {},
     "output_type": "execute_result"
    }
   ],
   "source": [
    "arr = np.arange(100)\n",
    "np.random.shuffle(arr)\n",
    "arr[:50]"
   ]
  },
  {
   "cell_type": "code",
   "execution_count": null,
   "metadata": {},
   "outputs": [],
   "source": [
    "import numpy as np\n",
    "import numpy.linalg as la\n",
    "\n",
    "attr = np.array([get_movie_attr(j) for j in range(k)])\n",
    "rates = np.array([get_ratings(i) for i in range(n)]).T\n",
    "prefs = la.solve(attr, rates)"
   ]
  },
  {
   "cell_type": "code",
   "execution_count": 53,
   "metadata": {},
   "outputs": [
    {
     "data": {
      "text/plain": [
       "array([[ 4,  0,  0],\n",
       "       [32,  1,  4],\n",
       "       [ 0,  9, 42]])"
      ]
     },
     "execution_count": 53,
     "metadata": {},
     "output_type": "execute_result"
    }
   ],
   "source": [
    "L = np.array([[1, 0, 0],\n",
    "            [8, 1, 0],\n",
    "            [0, 9, 1]])\n",
    "U = np.array([[4, 0, 0],\n",
    "            [0, 1, 4],\n",
    "            [0, 0, 6]])\n",
    "L@U"
   ]
  },
  {
   "cell_type": "code",
   "execution_count": 58,
   "metadata": {},
   "outputs": [
    {
     "name": "stdout",
     "output_type": "stream",
     "text": [
      "Area 3.0\n"
     ]
    }
   ],
   "source": [
    "def check(xy):\n",
    "    x = xy[0]\n",
    "    y = xy[1]\n",
    "\n",
    "    if abs(x-0.5)<=y and np.sqrt(x)+0.5 >= y:\n",
    "        return 1\n",
    "    else:\n",
    "        return 0\n",
    "\n",
    "\n",
    "x = 3\n",
    "y = 3\n",
    "sample = [(2.0, 0.5), (1.0, 1.0), (2.0, 1.0), (1.5, 0.5), (0.5, 0.5), (1.5, 2.0)]\n",
    "n_in = sum([check(i) for i in sample])\n",
    "area = n_in / len(sample) * x * y\n",
    "\n",
    "print(\"Area \" + str(area))"
   ]
  }
 ],
 "metadata": {
  "interpreter": {
   "hash": "07efdcd4b820c98a756949507a4d29d7862823915ec7477944641bea022f4f62"
  },
  "kernelspec": {
   "display_name": "Python 3.8.10 ('base')",
   "language": "python",
   "name": "python3"
  },
  "language_info": {
   "codemirror_mode": {
    "name": "ipython",
    "version": 3
   },
   "file_extension": ".py",
   "mimetype": "text/x-python",
   "name": "python",
   "nbconvert_exporter": "python",
   "pygments_lexer": "ipython3",
   "version": "3.8.10"
  },
  "orig_nbformat": 4
 },
 "nbformat": 4,
 "nbformat_minor": 2
}
