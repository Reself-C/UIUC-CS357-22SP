{
 "cells": [
  {
   "cell_type": "code",
   "execution_count": 1,
   "metadata": {},
   "outputs": [
    {
     "data": {
      "text/plain": [
       "0"
      ]
     },
     "execution_count": 1,
     "metadata": {},
     "output_type": "execute_result"
    }
   ],
   "source": [
    "# MP 1.1\n",
    "import numpy as np\n",
    "\n",
    "def cardNameToInt(card):\n",
    "    \"\"\"\n",
    "    Argument:\n",
    "    card -- input string with \"RankSuit\" format\n",
    "\n",
    "    Return:\n",
    "    rank -- an integer between 0 and 51 that represents the ranking of given card\n",
    "    \"\"\"\n",
    "    card_order = card[0]\n",
    "    card_suit = card[1]\n",
    "    order_list = ['2', '3', '4', '5', '6', '7', '8', '9', 'T', 'J', 'Q', 'K', 'A']\n",
    "    suits_list = ['c', 'd', 'h', 's']\n",
    "    \n",
    "    rank = order_list.index(card_order) * 4 + suits_list.index(card_suit)\n",
    "    \n",
    "    return rank\n",
    "    \n",
    "start_cards = np.array([cardNameToInt(card) for card in starting_hand])"
   ]
  },
  {
   "cell_type": "code",
   "execution_count": 2,
   "metadata": {},
   "outputs": [],
   "source": [
    "import numpy as np"
   ]
  },
  {
   "cell_type": "code",
   "execution_count": 56,
   "metadata": {},
   "outputs": [
    {
     "data": {
      "text/plain": [
       "5"
      ]
     },
     "execution_count": 56,
     "metadata": {},
     "output_type": "execute_result"
    }
   ],
   "source": [
    "# MP 1.2\n",
    "import numpy as np\n",
    "\n",
    "def generatePlayersCards(n_players, available_deck):\n",
    "    \"\"\"\n",
    "    Arguments:\n",
    "    n_players -- integer that reprents the number of players\n",
    "    available_deck -- np 1d array of integers for the available cards in a deck\n",
    "\n",
    "    Returns:\n",
    "    players_cards -- np.ndarray with shape (n_players, 2), other players' two starting cards\n",
    "    updated_card_deck --  1d np.array, cards in deck after other players get their cards\n",
    "    \"\"\"\n",
    "    deck = available_deck.tolist()\n",
    "    players_cards = np.zeros((n_players, 2))\n",
    "    for i in range(n_players):\n",
    "        card1 = np.random.choice(deck)\n",
    "        deck.remove(card1)\n",
    "        card2 = np.random.choice(deck)\n",
    "        deck.remove(card2)\n",
    "        players_cards[i] = np.array([card1, card2])\n",
    "    players_cards = players_cards.astype('int64')\n",
    "    updated_card_deck = np.array(deck)\n",
    "    return players_cards, updated_card_deck\n",
    "\n",
    "def generateDealerCards(available_deck):\n",
    "    \"\"\"\n",
    "    Argument:\n",
    "    available_deck --  1d np.array of integers for the available cards in a deck\n",
    "\n",
    "    Returns:\n",
    "    dealer_cards -- 1d np.array of 5 community cards\n",
    "    updated_cards -- 1d np.array, cards in deck without community cards\n",
    "    \"\"\"\n",
    "    deck = available_deck.tolist()\n",
    "    dealer_cards_list = []\n",
    "    for i in range(5):\n",
    "        card = np.random.choice(deck)\n",
    "        deck.remove(card)\n",
    "        dealer_cards_list.append(card)\n",
    "    dealer_cards = np.array(dealer_cards_list)\n",
    "    updated_card_deck = np.array(deck)\n",
    "    return dealer_cards, updated_card_deck"
   ]
  },
  {
   "cell_type": "code",
   "execution_count": 53,
   "metadata": {},
   "outputs": [
    {
     "name": "stdout",
     "output_type": "stream",
     "text": [
      "[29  7 43 37 46]\n",
      "[ 2  4  6  9 20 23 25 31 33 35 36 38 44 45 47]\n"
     ]
    }
   ],
   "source": [
    "# MP 1.3\n",
    "import numpy as np\n",
    "\n",
    "def whoWin(start_cards, players_cards, dealer_cards):\n",
    "    \"\"\"\n",
    "    Arguments:\n",
    "    start_cards -- list of strings in \"RankSuits\" format\n",
    "    players_cards -- 2d numpy array returned from the function generatePlayersCards\n",
    "    dealer_cards -- 1d numpy array returned from the function generateDealerCards\n",
    "\n",
    "    Returns:\n",
    "    np.array([1, 0, 0]) -- starting hand wins\n",
    "    np.array([0, 1, 0]) -- another player wins\n",
    "    np.array([0, 0, 1]) -- starting hand ties with another player\n",
    "    \"\"\"\n",
    "    results = []\n",
    "    for i in range(players_cards.shape[0]):\n",
    "        compare_result = compareTwoPlayers(start_cards,players_cards[i], dealer_cards)\n",
    "        results.append(compare_result)\n",
    "        while compare_result == 1:\n",
    "            return np.array([0, 1, 0])\n",
    "    if sum(results) == 0:\n",
    "        return np.array([1, 0, 0])\n",
    "    else:\n",
    "        return np.array([0, 0, 1])\n",
    "\n",
    "start_cards = np.array([cardNameToInt(card) for card in starting_hand])\n",
    "game_result = whoWin(start_cards, players_cards, dealer_cards)"
   ]
  },
  {
   "cell_type": "code",
   "execution_count": null,
   "metadata": {},
   "outputs": [],
   "source": [
    "# MP 1.4\n",
    "import numpy as np\n",
    "\n",
    "start_cards = np.array([cardNameToInt(card) for card in starting_hand])\n",
    "deck = [i for i in range(52)]\n",
    "deck.remove(start_cards[0])\n",
    "deck.remove(start_cards[1])\n",
    "available_deck = np.array(deck)\n",
    "\n",
    "def whoWin(start_cards, players_cards, dealer_cards):\n",
    "    \"\"\"\n",
    "    Arguments:\n",
    "    start_cards -- list of strings in \"RankSuits\" format\n",
    "    players_cards -- 2d numpy array returned from the function generatePlayersCards\n",
    "    dealer_cards -- 1d numpy array returned from the function generateDealerCards\n",
    "\n",
    "    Returns:\n",
    "    np.array([1, 0, 0]) -- starting hand wins\n",
    "    np.array([0, 1, 0]) -- another player wins\n",
    "    np.array([0, 0, 1]) -- starting hand ties with another player\n",
    "    \"\"\"\n",
    "    results = []\n",
    "    for i in range(players_cards.shape[0]):\n",
    "        compare_result = compareTwoPlayers(start_cards,players_cards[i], dealer_cards)\n",
    "        results.append(compare_result)\n",
    "        while compare_result == 1:\n",
    "            return np.array([0, 1, 0])\n",
    "    if sum(results) == 0:\n",
    "        return np.array([1, 0, 0])\n",
    "    else:\n",
    "        return np.array([0, 0, 1])\n",
    "\n",
    "game_results = np.zeros((N, 3))\n",
    "\n",
    "for i in range(N):\n",
    "    players_cards, updated_card_deck = generatePlayersCards(n_players, available_deck)\n",
    "    dealer_cards, updated_card_deck = generateDealerCards(updated_card_deck)\n",
    "    game_result = whoWin(start_cards, players_cards, dealer_cards)\n",
    "    game_results[i] = game_result\n",
    "    \n",
    "result_summation = game_results.sum(axis = 0)\n",
    "win_probability = result_summation[0] / N\n",
    "lose_probability = result_summation[1] / N\n",
    "tie_probability = result_summation[2] / N"
   ]
  },
  {
   "cell_type": "code",
   "execution_count": null,
   "metadata": {},
   "outputs": [],
   "source": [
    "# MP 1.5\n",
    "import numpy as np\n",
    "\n",
    "def monteCarloSimulation(M, N, n_players, starting_hand):\n",
    "    \"\"\"\n",
    "    Arguments:\n",
    "    M -- number of numerical experiments\n",
    "    N -- number of games\n",
    "    n_players -- number of players\n",
    "    starting_hand -- list of strings in \"RankSuits\" format\n",
    "\n",
    "    Returns:\n",
    "    win_prob -- 1d numpy array that contains the probability of winning for each numerical experiment\n",
    "    \"\"\"\n",
    "    start_cards = np.array([cardNameToInt(card) for card in starting_hand])\n",
    "    deck = [i for i in range(52)]\n",
    "    deck.remove(start_cards[0])\n",
    "    deck.remove(start_cards[1])\n",
    "    available_deck = np.array(deck)\n",
    "    \n",
    "    win_prob = np.zeros((M,))\n",
    "    \n",
    "    for i in range(M):\n",
    "        game_results = np.zeros((N, 3))\n",
    "        for j in range(N):\n",
    "            players_cards, updated_card_deck = generatePlayersCards(n_players, available_deck)\n",
    "            dealer_cards, updated_card_deck = generateDealerCards(updated_card_deck)\n",
    "            game_result = whoWin(start_cards, players_cards, dealer_cards)\n",
    "            game_results[j] = game_result\n",
    "        result_summation = game_results.sum(axis = 0)\n",
    "        win_probability = result_summation[0] / N\n",
    "        win_prob[i] = win_probability\n",
    "    \n",
    "    return win_prob "
   ]
  },
  {
   "cell_type": "code",
   "execution_count": null,
   "metadata": {},
   "outputs": [],
   "source": [
    "# MP 1.6\n",
    "import numpy as np\n",
    "import matplotlib.pyplot as plt\n",
    "\n",
    "win_prob_20 = monteCarloSimulation(100, 20, 1, starting_hand)\n",
    "win_prob_50 = monteCarloSimulation(100, 50, 1, starting_hand)\n",
    "\n",
    "mean_20 = np.mean(win_prob_20)\n",
    "mean_50 = np.mean(win_prob_50)\n",
    "\n",
    "std_20 = np.std(win_prob_20)\n",
    "std_50 = np.std(win_prob_50)\n",
    "\n",
    "plt.hist(win_prob_20,alpha=0.5, label='20 games')\n",
    "plt.hist(win_prob_50,alpha=0.5, label='50 games')\n",
    "plt.title('Starting hand ' + str(starting_hand))\n",
    "plt.legend(loc='upper left')\n",
    "plt.xlabel('Probability of winning')\n",
    "plt.ylabel('# of occurances')\n",
    "plt.show()"
   ]
  }
 ],
 "metadata": {
  "interpreter": {
   "hash": "07efdcd4b820c98a756949507a4d29d7862823915ec7477944641bea022f4f62"
  },
  "kernelspec": {
   "display_name": "Python 3.8.10 ('base')",
   "language": "python",
   "name": "python3"
  },
  "language_info": {
   "codemirror_mode": {
    "name": "ipython",
    "version": 3
   },
   "file_extension": ".py",
   "mimetype": "text/x-python",
   "name": "python",
   "nbconvert_exporter": "python",
   "pygments_lexer": "ipython3",
   "version": "3.8.10"
  },
  "orig_nbformat": 4
 },
 "nbformat": 4,
 "nbformat_minor": 2
}
