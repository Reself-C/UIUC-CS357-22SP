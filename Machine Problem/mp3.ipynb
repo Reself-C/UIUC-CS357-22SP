{
 "cells": [
  {
   "cell_type": "code",
   "execution_count": 1,
   "metadata": {},
   "outputs": [],
   "source": [
    "import numpy as np"
   ]
  },
  {
   "cell_type": "code",
   "execution_count": null,
   "metadata": {},
   "outputs": [],
   "source": [
    "# 3.1\n",
    "import numpy as np\n",
    "\n",
    "team_names = list(set(home_team))    # list team names here\n",
    "n = len(team_names)\n",
    "A = np.zeros((n,n))                  # the rows and columns should have the same order as your team_names\n",
    "games = list(zip(home_team, away_team))\n",
    "scores = list(zip(home_score, away_score))\n",
    "for i in range(len(games)):\n",
    "    winning_team_index = np.argmax(scores[i])\n",
    "    losing_team_index = np.argmin(scores[i])\n",
    "    winning_team = games[i][winning_team_index]\n",
    "    losing_team = games[i][losing_team_index]\n",
    "    winning_idx_A = team_names.index(winning_team)\n",
    "    losing_idx_A = team_names.index(losing_team)\n",
    "    A[winning_idx_A][losing_idx_A] += abs(scores[i][0] - scores[i][1])\n"
   ]
  },
  {
   "cell_type": "code",
   "execution_count": null,
   "metadata": {},
   "outputs": [],
   "source": [
    "# 3.2\n",
    "import numpy as np\n",
    "\n",
    "def transition(A):\n",
    "    # construct the matrix M\n",
    "    M = np.zeros(A.shape)\n",
    "    for i in range(len(M)):\n",
    "        s = sum(A[:,i])\n",
    "        if (s == 0):\n",
    "            M[:, i]=1 / (M.shape[0])\n",
    "        else:\n",
    "            M[:, i]=A[:,i] / s\n",
    "    return M\n",
    "\n",
    "M = transition(A)"
   ]
  },
  {
   "cell_type": "code",
   "execution_count": null,
   "metadata": {},
   "outputs": [],
   "source": [
    "# 3.3\n",
    "import numpy as np\n",
    "import scipy.linalg as la\n",
    "\n",
    "def power_iteration(M,tol):\n",
    "    # compute things!\n",
    "    n = M.shape[0]\n",
    "    x0 = np.random.uniform(size = n)\n",
    "    x0 = x0/la.norm(x0, 1)\n",
    "    x_i = x0.copy()\n",
    "    x_i_1 = M @ x_i\n",
    "    x_i_1 /= la.norm(x_i_1, 1)\n",
    "    while la.norm(x_i_1 - x_i, 2) > tol:\n",
    "        x_i = x_i_1\n",
    "        x_i_1 = M @ x_i_1\n",
    "        x_i_1 /= la.norm(x_i_1, 1)\n",
    "    x = x_i\n",
    "    return x\n",
    "\n",
    "xstar = power_iteration(M, tol)"
   ]
  },
  {
   "cell_type": "code",
   "execution_count": null,
   "metadata": {},
   "outputs": [],
   "source": [
    "# 3.4\n",
    "import numpy as np\n",
    "import matplotlib.pyplot as plt\n",
    "\n",
    "m = power_iteration(M,tol)\n",
    "l = list(zip(team_names,m))\n",
    "l.sort(key = lambda i:i[1],reverse = True)\n",
    "team_ranks = [i[0] for i in l]\n",
    "bar_height = [i[1] for i in l]\n",
    "\n",
    "y_label = team_ranks\n",
    "\n",
    "\n",
    "f, axs = plt.subplots(1,1,figsize=(8,10))\n",
    "plt.subplots_adjust(left=0.25)\n",
    "y_axis = range(len(team_ranks))\n",
    "plt.barh(y_axis, bar_height)\n",
    "plt.yticks(y_axis, y_label)\n",
    "plt.title(season_name + ' season NBA teams ranking based on first 150 games')\n",
    "axs.invert_yaxis()"
   ]
  },
  {
   "cell_type": "code",
   "execution_count": 7,
   "metadata": {},
   "outputs": [
    {
     "data": {
      "text/plain": [
       "0"
      ]
     },
     "execution_count": 7,
     "metadata": {},
     "output_type": "execute_result"
    }
   ],
   "source": [
    "a = np.array(['23','23','323'])\n",
    "b = np.array([1,3,4])\n",
    "list(zip(a,b))\n",
    "list(a).index('23')"
   ]
  },
  {
   "cell_type": "code",
   "execution_count": 17,
   "metadata": {},
   "outputs": [
    {
     "name": "stdout",
     "output_type": "stream",
     "text": [
      "[[-2.35956528 -0.50943754  1.68894352  1.83268122  0.91407127]\n",
      " [ 1.8594649  -1.58025671 -0.82472949 -1.71948695  0.46479111]\n",
      " [ 0.42610678  1.55035717 -1.82339381 -1.23428464 -1.2605956 ]\n",
      " [-0.48520254  1.70497789 -0.1607629  -2.01735171  1.4439421 ]\n",
      " [-0.57524662  0.91254852  0.0443131   1.10072082 -2.04241149]]\n",
      "[[-2.35956528  0.0444672   1.68894352  1.83268122  0.91407127]\n",
      " [ 1.8594649   0.01524014 -0.82472949 -1.71948695  0.46479111]\n",
      " [ 0.42610678  0.34881667 -1.82339381 -1.23428464 -1.2605956 ]\n",
      " [-0.48520254  0.40714411 -0.1607629  -2.01735171  1.4439421 ]\n",
      " [-0.57524662  0.18433188  0.0443131   1.10072082 -2.04241149]]\n"
     ]
    }
   ],
   "source": [
    "A = np.zeros((5,5))\n",
    "B = A - np.eye(5) - np.random.uniform(-2,2,(5,5))\n",
    "print(B)\n",
    "x = B[:,1]\n",
    "f_x = np.exp(x) / np.sum(np.exp(x))\n",
    "B[:,1] = f_x\n",
    "print(B)"
   ]
  },
  {
   "cell_type": "code",
   "execution_count": 100,
   "metadata": {},
   "outputs": [
    {
     "name": "stdout",
     "output_type": "stream",
     "text": [
      "[(0, 1), (4, 2), (1, 3), (5, 4), (2, 5), (3, 6)]\n"
     ]
    },
    {
     "data": {
      "text/plain": [
       "(6,)"
      ]
     },
     "execution_count": 100,
     "metadata": {},
     "output_type": "execute_result"
    }
   ],
   "source": [
    "x = np.arange(6)+1\n",
    "np.random.shuffle(x)\n",
    "x = list(enumerate(x))\n",
    "x.sort(key = lambda x: x[1])\n",
    "print(x)\n",
    "idx = np.array(list(list(zip(*x))[0]))\n",
    "idx.shape"
   ]
  }
 ],
 "metadata": {
  "interpreter": {
   "hash": "07efdcd4b820c98a756949507a4d29d7862823915ec7477944641bea022f4f62"
  },
  "kernelspec": {
   "display_name": "Python 3.8.10 ('base')",
   "language": "python",
   "name": "python3"
  },
  "language_info": {
   "codemirror_mode": {
    "name": "ipython",
    "version": 3
   },
   "file_extension": ".py",
   "mimetype": "text/x-python",
   "name": "python",
   "nbconvert_exporter": "python",
   "pygments_lexer": "ipython3",
   "version": "3.8.10"
  },
  "orig_nbformat": 4
 },
 "nbformat": 4,
 "nbformat_minor": 2
}
