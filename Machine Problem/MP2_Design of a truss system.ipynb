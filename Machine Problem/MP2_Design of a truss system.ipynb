{
 "cells": [
  {
   "cell_type": "code",
   "execution_count": null,
   "metadata": {},
   "outputs": [],
   "source": [
    "# 2.1\n",
    "import numpy as np\n",
    "\n",
    "u3 = 1\n",
    "u5 = 2\n",
    "u6 = -3\n",
    "F6 = -20\n",
    "u1, u2, u4 = 0, 0, 0\n",
    "F1, F2, F3, F4, F5 = 0, 0, 0, 0, 0\n",
    "\n",
    "x = np.array([u1,u2,u3,u4,u5,u6])\n",
    "F = np.array([F1,F2,F3,F4,F5,F6])"
   ]
  },
  {
   "cell_type": "code",
   "execution_count": null,
   "metadata": {},
   "outputs": [],
   "source": [
    "# 2.3\n",
    "import numpy as np\n",
    "\n",
    "def reorder_rows_columns(K, equation_numbers):\n",
    "    # construct the matrix Khat\n",
    "    Khat_row = np.zeros_like(K)\n",
    "    Khat = np.zeros_like(K)\n",
    "    for i, j in enumerate(equation_numbers):\n",
    "        Khat_row[i] = K[j-1]\n",
    "    print(Khat_row)\n",
    "    for i, j in enumerate(equation_numbers):\n",
    "        Khat[:,i] = Khat_row[:, j-1]\n",
    "    return Khat\n",
    "\n",
    "K = np.array([\n",
    "    [1, 2, 3],\n",
    "    [1, 2, 3],\n",
    "    [1, 2, 3]\n",
    "])\n",
    "\n",
    "equation_numbers = [1, 3, 2]\n",
    "\n",
    "reorder_rows_columns(K, equation_numbers)"
   ]
  },
  {
   "cell_type": "code",
   "execution_count": null,
   "metadata": {},
   "outputs": [],
   "source": [
    "# 2.4\n",
    "\n",
    "import numpy as np\n",
    "\n",
    "def partition_stiffness_matrix(K,equation_numbers,nk):\n",
    "    # construct the smaller matrices\n",
    "    Khat = reorder_rows_columns(K, equation_numbers)\n",
    "    Kpp = Khat[:nk, :nk]\n",
    "    Kpf = Khat[:nk, nk:]\n",
    "    Kfp = Khat[nk:, :nk]\n",
    "    Kff = Khat[nk:, nk:]\n",
    "    return  Kpp,Kpf,Kfp,Kff"
   ]
  },
  {
   "cell_type": "code",
   "execution_count": null,
   "metadata": {},
   "outputs": [],
   "source": [
    "# 2.5\n",
    "\n",
    "import numpy as np\n",
    "import scipy.linalg as la\n",
    "import matplotlib.pyplot as plt\n",
    "\n",
    "def fea_solve(Kpp,Kpf,Kfp,Kff,xp,Ff):\n",
    "    # do stuff here\n",
    "    xf = la.solve(Kff, Ff-Kfp @ xp)\n",
    "    Fp = Kpp @ xp + Kpf @ xf\n",
    "    return xf, Fp\n",
    "    \n",
    "nk = 3\n",
    "xp = np.zeros(3)\n",
    "Ff = np.array([0, 0, -10.0])\n",
    "\n",
    "Kpp,Kpf,Kfp,Kff = partition_stiffness_matrix(K,equation_numbers,nk)\n",
    "\n",
    "xf, Fp = fea_solve(Kpp,Kpf,Kfp,Kff,xp,Ff)\n",
    "\n",
    "image_xf = plot_truss(xf)"
   ]
  },
  {
   "cell_type": "code",
   "execution_count": null,
   "metadata": {},
   "outputs": [],
   "source": []
  }
 ],
 "metadata": {
  "interpreter": {
   "hash": "d30f2eae29d172888ee9c1ee28f70a4e8225fd9a8a138830c03a950ad069ae1c"
  },
  "kernelspec": {
   "display_name": "Python 3.8.12 ('data')",
   "language": "python",
   "name": "python3"
  },
  "language_info": {
   "codemirror_mode": {
    "name": "ipython",
    "version": 3
   },
   "file_extension": ".py",
   "mimetype": "text/x-python",
   "name": "python",
   "nbconvert_exporter": "python",
   "pygments_lexer": "ipython3",
   "version": "3.8.12"
  },
  "orig_nbformat": 4
 },
 "nbformat": 4,
 "nbformat_minor": 2
}
