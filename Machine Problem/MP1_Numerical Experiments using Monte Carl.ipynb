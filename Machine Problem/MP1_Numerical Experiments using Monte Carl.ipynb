{
 "cells": [
  {
   "cell_type": "code",
   "execution_count": 1,
   "metadata": {},
   "outputs": [],
   "source": [
    "# Wenhao Chai\n",
    "import numpy as np"
   ]
  },
  {
   "cell_type": "code",
   "execution_count": 2,
   "metadata": {},
   "outputs": [],
   "source": [
    "def cardNameToInt(card):\n",
    "  # card: string following the \"Rank Suit format\"\n",
    "  # write code to convert hand to an integer 0-51 as described above\n",
    "  rank_map = {\n",
    "      '2': 0,\n",
    "      '3': 1,\n",
    "      '4': 2,\n",
    "      '5': 3,\n",
    "      '6': 4,\n",
    "      '7': 5,\n",
    "      '8': 6,\n",
    "      '9': 7,\n",
    "      'T': 8,\n",
    "      'J': 9,\n",
    "      'Q': 10,\n",
    "      'K': 11,\n",
    "      'A': 12\n",
    "  }\n",
    "  suit_map = {\n",
    "      'c': 0,\n",
    "      'd': 1,\n",
    "      'h': 2,\n",
    "      's': 3\n",
    "  }\n",
    "  return 4 * rank_map[card[0]] + suit_map[card[1]]\n"
   ]
  },
  {
   "cell_type": "code",
   "execution_count": 3,
   "metadata": {},
   "outputs": [
    {
     "data": {
      "text/plain": [
       "array([34, 13])"
      ]
     },
     "execution_count": 3,
     "metadata": {},
     "output_type": "execute_result"
    }
   ],
   "source": [
    "# Test\n",
    "starting_hand = ['Th','5d']\n",
    "start_cards = np.array([cardNameToInt(card) for card in starting_hand])\n",
    "start_cards"
   ]
  },
  {
   "cell_type": "code",
   "execution_count": 4,
   "metadata": {},
   "outputs": [],
   "source": [
    "def generatePlayersCards(n_players, available_deck):\n",
    "    index = np.random.choice(np.arange(0, available_deck.size, dtype=int), n_players*2, replace=False)\n",
    "    players_cards = available_deck[index].reshape(-1,2)\n",
    "    updated_card_deck = np.delete(available_deck, index)\n",
    "    return players_cards, updated_card_deck\n",
    "\n",
    "def generateDealerCards(available_deck):\n",
    "    index = np.random.choice(np.arange(0, available_deck.size, dtype=int), 5, replace=False)\n",
    "    dealer_cards = available_deck[index]\n",
    "    updated_card_deck = np.delete(available_deck, index)\n",
    "    return dealer_cards, updated_card_deck"
   ]
  },
  {
   "cell_type": "code",
   "execution_count": 5,
   "metadata": {},
   "outputs": [
    {
     "name": "stdout",
     "output_type": "stream",
     "text": [
      "[[ 2 29]\n",
      " [ 9 23]\n",
      " [35  6]] [ 4  7 20 25 31 33 36 37 38 43 44 45 46 47]\n"
     ]
    }
   ],
   "source": [
    "# Test\n",
    "available_deck = np.array([2, 4, 6, 7, 9, 20, 23, 25, 29, 31, 33, 35, 36, 37, 38, 43, 44, 45, 46, 47])\n",
    "players_cards, updated_card_deck = generatePlayersCards(3, available_deck)\n",
    "print(players_cards, updated_card_deck)"
   ]
  },
  {
   "cell_type": "code",
   "execution_count": 34,
   "metadata": {},
   "outputs": [],
   "source": [
    "def compareTwoPlayers(player1_cards, player2_cards, dealer_cards):\n",
    "    # player1_cards and player2_cards: 1d numpy array of shape (2,)\n",
    "    # dealer_cards: 1d numpy array of shape (5,)\n",
    "    # do things here...\n",
    "    # Return 0 if player1 cards are better\n",
    "    # Return 1 if player2 cards are better\n",
    "    # Return 2 if equal\n",
    "    pass\n",
    "\n",
    "def whoWin(start_cards, players_cards, dealer_cards):\n",
    "    # number of players\n",
    "    n = players_cards.shape[0]\n",
    "    result_set = np.array([compareTwoPlayers(start_cards, players_cards[i], dealer_cards) for i in range(n)])\n",
    "    if np.sum(result_set) == 0:\n",
    "        game_result = np.array([1, 0, 0])\n",
    "    elif np.any(result_set==1):\n",
    "        game_result = np.array([0, 1, 0])\n",
    "    else:\n",
    "        game_result = np.array([0, 0, 1])\n",
    "    return game_result"
   ]
  },
  {
   "cell_type": "code",
   "execution_count": 35,
   "metadata": {},
   "outputs": [],
   "source": [
    "def games_N(N, n_players, starting_hand):\n",
    "    game_result = np.zeros((3,), dtype=np.float)\n",
    "    for i in range(N):\n",
    "        initialCardDeck = np.arange(0, 52)\n",
    "        start_cards = np.array([cardNameToInt(card) for card in starting_hand])\n",
    "        available_deck = np.setdiff1d(initialCardDeck, start_cards)\n",
    "        players_cards, available_deck = generatePlayersCards(n_players-1, available_deck)\n",
    "        dealer_cards, _ = generateDealerCards(available_deck)\n",
    "        game_result += whoWin(start_cards, players_cards, dealer_cards)\n",
    "    win_probability, lose_probability, tie_probability = game_result/N\n",
    "    return win_probability, lose_probability, tie_probability"
   ]
  },
  {
   "cell_type": "code",
   "execution_count": null,
   "metadata": {},
   "outputs": [],
   "source": []
  }
 ],
 "metadata": {
  "interpreter": {
   "hash": "cf151ee0d5d4bd6519c08d7976dcef72e9a178a9dc773adc57d522f57ddd0fc2"
  },
  "kernelspec": {
   "display_name": "Python 3.8.10 ('py38')",
   "language": "python",
   "name": "python3"
  },
  "language_info": {
   "codemirror_mode": {
    "name": "ipython",
    "version": 3
   },
   "file_extension": ".py",
   "mimetype": "text/x-python",
   "name": "python",
   "nbconvert_exporter": "python",
   "pygments_lexer": "ipython3",
   "version": "3.8.10"
  },
  "orig_nbformat": 4
 },
 "nbformat": 4,
 "nbformat_minor": 2
}
