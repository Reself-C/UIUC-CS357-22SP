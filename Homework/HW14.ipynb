{
 "cells": [
  {
   "cell_type": "code",
   "execution_count": 4,
   "metadata": {},
   "outputs": [],
   "source": [
    "import numpy as np\n",
    "from sympy import *"
   ]
  },
  {
   "cell_type": "code",
   "execution_count": 2,
   "metadata": {},
   "outputs": [],
   "source": [
    "def f(x):\n",
    "    x1, x2 = x[0], x[1]\n",
    "    return 10*x1 + 10 * x2 + 2 *x1 * x2\n",
    "    "
   ]
  },
  {
   "cell_type": "code",
   "execution_count": 3,
   "metadata": {},
   "outputs": [
    {
     "data": {
      "text/plain": [
       "12.0"
      ]
     },
     "execution_count": 3,
     "metadata": {},
     "output_type": "execute_result"
    }
   ],
   "source": [
    "h = 0.5\n",
    "x = np.array([1,1])\n",
    "delta = np.array([0,1])\n",
    "(f(x+h*delta) - f(x))/h"
   ]
  },
  {
   "cell_type": "code",
   "execution_count": 15,
   "metadata": {},
   "outputs": [
    {
     "data": {
      "text/plain": [
       "0.09565201734338973"
      ]
     },
     "execution_count": 15,
     "metadata": {},
     "output_type": "execute_result"
    }
   ],
   "source": [
    "# 14.2\n",
    "a = 4\n",
    "b = 2\n",
    "x0 = 0.6\n",
    "h = 0.09\n",
    "x = Symbol('x')\n",
    "f = a * exp(b * x)\n",
    "true = diff(f).subs(x, x0)\n",
    "fd = (f.subs(x, x0+h) - f.subs(x, x0))/h\n",
    "error = abs(fd - true) / true\n",
    "error"
   ]
  },
  {
   "cell_type": "code",
   "execution_count": 47,
   "metadata": {},
   "outputs": [
    {
     "name": "stdout",
     "output_type": "stream",
     "text": [
      "1.00000000000000\n",
      "0\n",
      "2.00000000000000\n"
     ]
    }
   ],
   "source": [
    "# 14.3\n",
    "x = Symbol('x')\n",
    "y = Symbol('y')\n",
    "z = Symbol('z')\n",
    "\n",
    "\n",
    "v = x*z + z + 1\n",
    "h = 0.1\n",
    "method = \"central\"\n",
    "\n",
    "[x0, y0, z0] = [1, 1, 1]\n",
    "X0 = np.array([x0, y0, z0])\n",
    "true = v.subs([(x, X0[0]), (y, X0[1]), (z, X0[2])])\n",
    "\n",
    "if method == \"forward\": \n",
    "    for i in range(3):\n",
    "        perturbation = np.zeros(3)\n",
    "        perturbation[i] = h\n",
    "        X_new = X0 + perturbation\n",
    "        print(((v.subs([(x, X_new[0]), (y, X_new[1]), (z, X_new[2])]) - true) / h))\n",
    "elif method == 'backward':\n",
    "    for i in range(3):\n",
    "        perturbation = np.zeros(3)\n",
    "        perturbation[i] = h\n",
    "        X_new = X0 - perturbation\n",
    "        print((true - v.subs([(x, X_new[0]), (y, X_new[1]), (z, X_new[2])])) / h)\n",
    "elif method == 'central':\n",
    "    for i in range(3):\n",
    "        perturbation = np.zeros(3)\n",
    "        perturbation[i] = h\n",
    "        X1 = X0 - perturbation\n",
    "        X2 = X0 + perturbation\n",
    "        v1 = v.subs([(x, X1[0]), (y, X1[1]), (z, X1[2])])\n",
    "        v2 = v.subs([(x, X2[0]), (y, X2[1]), (z, X2[2])])\n",
    "        print((v2 - v1)/ 2/ h)"
   ]
  },
  {
   "cell_type": "code",
   "execution_count": 52,
   "metadata": {},
   "outputs": [
    {
     "data": {
      "text/latex": [
       "$\\displaystyle 1.82287811146501$"
      ],
      "text/plain": [
       "1.82287811146501"
      ]
     },
     "execution_count": 52,
     "metadata": {},
     "output_type": "execute_result"
    }
   ],
   "source": [
    "# 14.4\n",
    "t = Symbol('t')\n",
    "x = exp(t)\n",
    "t0 = 0.6\n",
    "h = 0.05\n",
    "t1 = t0 - h\n",
    "t2 = t0 + h\n",
    "(x.subs(t, t2) - x.subs(t, t1)) / 2/ h"
   ]
  },
  {
   "cell_type": "code",
   "execution_count": null,
   "metadata": {},
   "outputs": [],
   "source": [
    "# 14.5\n",
    "\n",
    "import numpy as np\n",
    "import matplotlib.pyplot as plt\n",
    "\n",
    "def func(x):\n",
    "    '''\n",
    "    Parameters\n",
    "    x: 1D numpy array\n",
    "    Returns\n",
    "    f: scalar function value\n",
    "    '''\n",
    "    # WRITE YOUR CODE HERE\n",
    "    return 2*x[0]**2 - 0.5*x[0]*x[1] + 5*x[1]**3 \n",
    "    \n",
    "\n",
    "def dfunc(x):\n",
    "    '''\n",
    "    Parameters\n",
    "    x: 1D numpy array\n",
    "    Returns\n",
    "    df: 1D numpy array containing first derivatives wrt x\n",
    "    '''\n",
    "    # WRITE YOUR CODE HERE\n",
    "    df1 = 4 * x[0] - 0.5*x[1]\n",
    "    df2 = -0.5 * x[0] + 15 * x[1]**2\n",
    "    return np.array([df1, df2])\n",
    "\n",
    "def fd(x,dx):\n",
    "    '''\n",
    "    Parameters\n",
    "    x: 1D numpy array\n",
    "    dx: small perturbation (increment in x)  (scalar)\n",
    "    Returns\n",
    "    df: 1D numpy array containing approximations for the first derivatives wrt x\n",
    "    '''\n",
    "    # WRITE YOUR CODE HERE\n",
    "    true = func(x)\n",
    "    fd = np.zeros(2)\n",
    "    for i in range(2):\n",
    "        a = np.zeros(2)\n",
    "        a[i] = dx\n",
    "        x_forward = x + a\n",
    "        fd[i] = (func(x+a) - true) / dx\n",
    "    return fd\n",
    "        \n",
    "\n",
    "# COMPUTE FINITE DIFFERENCE APPROXIMATIONS FOR DECREASING VALUES OF dx\n",
    "error_list = list()\n",
    "for dx in dxvec:\n",
    "    # compute df_approx (using df function)\n",
    "    # compute df_exact (using dfunc)\n",
    "    # update variable error\n",
    "    df_approx = fd(xvec, dx)\n",
    "    df_exact = dfunc(xvec)\n",
    "    error = np.linalg.norm(df_exact - df_approx, np.inf)\n",
    "    error_list.append(error)\n",
    "\n",
    "error = np.array(error_list)\n",
    "\n",
    "\n",
    "plt.figure()\n",
    "## Plot the error as a function of the perturbation dx\n",
    "plt.plot(dxvec, error)\n",
    "plt.ylabel('dxvec')\n",
    "plt.xlabel('error')\n",
    "plt.title('dxvec vs. error')\n",
    "plt.show()"
   ]
  }
 ],
 "metadata": {
  "interpreter": {
   "hash": "07efdcd4b820c98a756949507a4d29d7862823915ec7477944641bea022f4f62"
  },
  "kernelspec": {
   "display_name": "Python 3.8.10 ('base')",
   "language": "python",
   "name": "python3"
  },
  "language_info": {
   "codemirror_mode": {
    "name": "ipython",
    "version": 3
   },
   "file_extension": ".py",
   "mimetype": "text/x-python",
   "name": "python",
   "nbconvert_exporter": "python",
   "pygments_lexer": "ipython3",
   "version": "3.8.10"
  },
  "orig_nbformat": 4
 },
 "nbformat": 4,
 "nbformat_minor": 2
}
