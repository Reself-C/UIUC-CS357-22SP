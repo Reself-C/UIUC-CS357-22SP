{
 "cells": [
  {
   "cell_type": "code",
   "execution_count": 2,
   "metadata": {},
   "outputs": [],
   "source": [
    "import numpy as np\n",
    "import numpy.linalg as la\n",
    "import sympy as sp"
   ]
  },
  {
   "cell_type": "code",
   "execution_count": 39,
   "metadata": {},
   "outputs": [],
   "source": [
    "def subs_all(formula, variables, values):\n",
    "    '''\n",
    "    You know what, it's getting to the point where this function\n",
    "    is necessary\n",
    "    '''\n",
    "    result = formula\n",
    "    for i in range(len(values)):\n",
    "        result = result.subs(variables[i], values[i])\n",
    "    return float(result.evalf())\n",
    "\n",
    "def calculated_jacobian(fs, variables, x_k):\n",
    "    '''\n",
    "    fs need to EQUAL TO ZERO!\n",
    "    '''\n",
    "    size = len(fs)\n",
    "    result = np.zeros((size, size))\n",
    "    for i in range(size):\n",
    "        for j in range(size):\n",
    "            result[i][j] = subs_all(sp.diff(fs[i], variables[j]), variables, x_k)\n",
    "    return result\n",
    "\n",
    "def Newton_nd_step(x_prev, f_strs, var_str):\n",
    "    '''\n",
    "    Given x_k, string of functions equal to 0, and string for\n",
    "    variables, calculate the parameter for the next iteration\n",
    "    of Newton's method for solving ND non-linear system of equations\n",
    "    '''\n",
    "    fs = [sp.sympify(f_str) for f_str in f_strs]\n",
    "    variables = sp.symbols(var_str)\n",
    "    jac = calculated_jacobian(fs, variables, x_prev)\n",
    "    f_vals = np.array([subs_all(f, variables, x_prev) for f in fs])\n",
    "    s = la.solve(jac, -1*f_vals)\n",
    "    return jac, x_prev+s"
   ]
  },
  {
   "cell_type": "code",
   "execution_count": 47,
   "metadata": {},
   "outputs": [
    {
     "data": {
      "text/plain": [
       "(array([[ -8.,  -6.],\n",
       "        [  3., -15.]]),\n",
       " array([ 0.32608696, -0.93478261]))"
      ]
     },
     "execution_count": 47,
     "metadata": {},
     "output_type": "execute_result"
    }
   ],
   "source": [
    "Newton_nd_step([1, -2], \n",
    "               ['(-1)*x**2+(0)*x+(-2)+(2)*y**2+(-1)*y+(3)*x*y',\n",
    "                '(-2)*x**2+(1)*x+(1)+(3)*y**2+(0)*y+(-3)*x*y'],\n",
    "               'x y')"
   ]
  },
  {
   "cell_type": "code",
   "execution_count": 22,
   "metadata": {},
   "outputs": [],
   "source": [
    "# 15.2\n",
    "\n",
    "def Bisection_n_step(f_str, var_str, bound, step_num):\n",
    "    f = sp.sympify(f_str)\n",
    "    variable = sp.symbols(var_str)\n",
    "    for i in range(step_num):\n",
    "        value = [f.subs(variable, value) for value in bound]\n",
    "        mid_point = sum(bound)/2\n",
    "        mid_value = f.subs(variable, mid_point)\n",
    "        if mid_value * value[0] > 0:\n",
    "            bound[0] = mid_point\n",
    "            continue\n",
    "        else:\n",
    "            bound[1] = mid_point\n",
    "    return bound\n"
   ]
  },
  {
   "cell_type": "code",
   "execution_count": 35,
   "metadata": {},
   "outputs": [
    {
     "data": {
      "text/plain": [
       "[-0.5, 0.25]"
      ]
     },
     "execution_count": 35,
     "metadata": {},
     "output_type": "execute_result"
    }
   ],
   "source": [
    "Bisection_n_step(f_str = 'sin(x/6)',\n",
    "                 var_str = 'x',\n",
    "                 bound = [-2, 4],\n",
    "                 step_num = 3)"
   ]
  },
  {
   "cell_type": "code",
   "execution_count": 7,
   "metadata": {},
   "outputs": [],
   "source": [
    "def Newton_1D_step_aux(x_prev, f, df, var):\n",
    "    '''\n",
    "    Given x_k, function, differentiation of the function, and the variable\n",
    "    Return the numerical value of x_{k+1}\n",
    "    Operate as a lighter weighted version of Newton_1D_step\n",
    "    '''\n",
    "    return float(x_prev - f.subs(var, x_prev) / df.subs(var, x_prev))\n",
    "\n",
    "def Newton_1D(x_0, f_str, var_str, err_bound):\n",
    "    '''\n",
    "    Given initial value x_0, string representation of function, string representation of variable\n",
    "    as well as the error bound\n",
    "    Return the number of iterations it takes to get to the error bound\n",
    "    And the final value\n",
    "    '''\n",
    "    f = sp.sympify(f_str)\n",
    "    var = sp.symbols(var_str)\n",
    "    df = sp.diff(f, var)\n",
    "    x_curr = x_0\n",
    "    iterations = 0\n",
    "    while abs(float(f.subs(var, x_curr))) > err_bound:\n",
    "        x_curr = Newton_1D_step_aux(x_curr, f, df, var)\n",
    "        iterations += 1\n",
    "    return iterations, x_curr"
   ]
  },
  {
   "cell_type": "code",
   "execution_count": 8,
   "metadata": {},
   "outputs": [
    {
     "data": {
      "text/plain": [
       "(9, 1.1858764201470775e-09)"
      ]
     },
     "execution_count": 8,
     "metadata": {},
     "output_type": "execute_result"
    }
   ],
   "source": [
    "err_bound = 10**-5\n",
    "Newton_1D(3.5, 'x*E**x', 'x', err_bound)"
   ]
  },
  {
   "cell_type": "code",
   "execution_count": 36,
   "metadata": {},
   "outputs": [
    {
     "data": {
      "text/plain": [
       "-0.07752129706345294"
      ]
     },
     "execution_count": 36,
     "metadata": {},
     "output_type": "execute_result"
    }
   ],
   "source": [
    "x_curr = 2\n",
    "f = sp.sympify('sin(x/6)')\n",
    "var = sp.symbols('x')\n",
    "df = sp.diff(f, var)\n",
    "Newton_1D_step_aux(x_curr, f, df, var)"
   ]
  },
  {
   "cell_type": "code",
   "execution_count": 50,
   "metadata": {},
   "outputs": [],
   "source": [
    "def Secant_n_step(f_str, var_str, x0, x1, step_num):\n",
    "    f = sp.sympify(f_str)\n",
    "    variable = sp.symbols(var_str)\n",
    "    xold = x1\n",
    "    xoold = x0\n",
    "    for i in range(step_num):\n",
    "        slope = (f.subs(variable, xold) - f.subs(variable, xoold))/(x1-x0)\n",
    "        xnew = xold - f.subs(variable, xold)/slope\n",
    "        xoold = xold\n",
    "        xold = xnew\n",
    "    return float(xnew.evalf())"
   ]
  },
  {
   "cell_type": "code",
   "execution_count": 51,
   "metadata": {},
   "outputs": [
    {
     "data": {
      "text/plain": [
       "-0.028503468808001618"
      ]
     },
     "execution_count": 51,
     "metadata": {},
     "output_type": "execute_result"
    }
   ],
   "source": [
    "Secant_n_step(f_str = 'sin(x/6)', \n",
    "              var_str = 'x', \n",
    "              x0 = 1,\n",
    "              x1 = 2, \n",
    "              step_num = 1)"
   ]
  },
  {
   "cell_type": "code",
   "execution_count": null,
   "metadata": {},
   "outputs": [],
   "source": [
    "def Bisection_Method_for_Root_Finding_in_1D(function, intervals, epsilon, n_iter):\n",
    "    roots = []\n",
    "    for interval in intervals:\n",
    "        xl, xr = interval\n",
    "        for i in range(n_iter):\n",
    "            yl, yr = function(xl), function(xr)\n",
    "            if yl * yr >= 0:\n",
    "                roots.append(None)\n",
    "                break\n",
    "            xm = (xl + xr) / 2\n",
    "            ym = function(xm)\n",
    "            if abs(ym) < epsilon:\n",
    "                roots.append(xm)\n",
    "                break\n",
    "            elif yl * ym > 0:\n",
    "                xl = xm\n",
    "            elif yr * ym > 0:\n",
    "                xr = xm\n",
    "            continue\n",
    "    return roots\n",
    "            \n",
    "\n",
    "roots = Bisection_Method_for_Root_Finding_in_1D(function, intervals, epsilon, n_iter)"
   ]
  },
  {
   "cell_type": "code",
   "execution_count": null,
   "metadata": {},
   "outputs": [],
   "source": [
    "import numpy as np\n",
    "\n",
    "def Implementing_Secant_Method_for_1D_Problem(f, xks):\n",
    "    roots = []\n",
    "    x0, x1 = xks\n",
    "    x = x1\n",
    "    for i in range(5):\n",
    "        x -= f(x) / ((f(x1) - f(x0)) / (x1 - x0))\n",
    "        x0, x1 = x1, x\n",
    "        roots.append(x)\n",
    "    return np.array(roots)\n",
    "\n",
    "roots = Implementing_Secant_Method_for_1D_Problem(f, xks)"
   ]
  },
  {
   "cell_type": "code",
   "execution_count": null,
   "metadata": {},
   "outputs": [],
   "source": [
    "import numpy as np\n",
    "import numpy.linalg as la\n",
    "import sympy as sp\n",
    "\n",
    "\n",
    "def subs_all(formula, variables, values):\n",
    "    '''\n",
    "    You know what, it's getting to the point where this function\n",
    "    is necessary\n",
    "    '''\n",
    "    result = formula\n",
    "    for i in range(len(values)):\n",
    "        result = result.subs(variables[i], values[i])\n",
    "    return float(result.evalf())\n",
    "\n",
    "def calculated_jacobian(fs, variables, x_k):\n",
    "    '''\n",
    "    fs need to EQUAL TO ZERO!\n",
    "    '''\n",
    "    size = len(fs)\n",
    "    result = np.zeros((size, size))\n",
    "    for i in range(size):\n",
    "        for j in range(size):\n",
    "            result[i][j] = subs_all(sp.diff(fs[i], variables[j]), variables, x_k)\n",
    "    return result\n",
    "\n",
    "def Newton_nd_step(x_prev, f_strs, var_str):\n",
    "    '''\n",
    "    Given x_k, string of functions equal to 0, and string for\n",
    "    variables, calculate the parameter for the next iteration\n",
    "    of Newton's method for solving ND non-linear system of equations\n",
    "    '''\n",
    "    fs = [sp.sympify(f_str) for f_str in f_strs]\n",
    "    variables = sp.symbols(var_str)\n",
    "    jac = calculated_jacobian(fs, variables, x_prev)\n",
    "    f_vals = np.array([subs_all(f, variables, x_prev) for f in fs])\n",
    "    s = la.solve(jac, -1*f_vals)\n",
    "    res = la.norm(f_vals)\n",
    "    return x_prev+s, res\n",
    "    \n",
    "    \n",
    "f_strs = ['x**3 - y**2', 'x+y*x**2 - 2']\n",
    "var_str = 'x y'\n",
    "res = np.inf\n",
    "root = xi\n",
    "\n",
    "while res > tol:\n",
    "    root, res = Newton_nd_step(root, f_strs, var_str)"
   ]
  },
  {
   "cell_type": "code",
   "execution_count": null,
   "metadata": {},
   "outputs": [],
   "source": [
    "import numpy as np\n",
    "import matplotlib.pyplot as plt\n",
    "\n",
    "iterations_to_converge = []\n",
    "Xs = np.zeros((len(X0), 10))\n",
    "iteration_limit = 100\n",
    "\n",
    "def f(x):\n",
    "    return 0.5 * x * np.sin(2 * x) - 0.8 * x + 1\n",
    "\n",
    "def dx(x):\n",
    "    return 0.5 * np.sin(2 * x) + 0.5 * x * 2 * np.cos(2 * x) - 0.8\n",
    "    \n",
    "    \n",
    "for j in range(len(X0)):\n",
    "    x_old = X0[j]\n",
    "    x_new = np.inf\n",
    "    for i in range(1, iteration_limit+1):\n",
    "        x_new = x_old - f(x_old)/dx(x_old)\n",
    "        if i <= 10:\n",
    "            Xs[j][i-1] = x_new\n",
    "        if abs(x_old-x_new) < tol or i == iteration_limit:\n",
    "            iterations_to_converge.append(i)\n",
    "            break\n",
    "        x_old = x_new\n",
    "\n",
    "# Use the following code to plot the result.\n",
    "plt.figure(figsize = (8,6))\n",
    "plot_x = np.linspace(-5, 5, 500)\n",
    "plt.plot(plot_x, f(plot_x), label = \"fx = 0.5x * sin(2x) - 0.8 * x + 1\")\n",
    "plt.plot(plot_x, [0 for i in range(len(plot_x))], label=\"f(x) = 0\")\n",
    "plt.scatter(X0, f(X0), c = [1 - t/100 for t in iterations_to_converge], label = \"heat-map of times to converge\")\n",
    "for i in range(len(X0)):\n",
    "    plt.text(X0[i], f(X0[i])+ (-1)**(i+1) * 0.5, str(iterations_to_converge[i]), ha=\"center\", va=\"center\", color=\"black\")\n",
    "plt.legend()\n",
    "plt.title(\"Local convergence of Newton's method\")\n",
    "plt.show()"
   ]
  }
 ],
 "metadata": {
  "interpreter": {
   "hash": "d30f2eae29d172888ee9c1ee28f70a4e8225fd9a8a138830c03a950ad069ae1c"
  },
  "kernelspec": {
   "display_name": "Python 3.8.12 ('data')",
   "language": "python",
   "name": "python3"
  },
  "language_info": {
   "codemirror_mode": {
    "name": "ipython",
    "version": 3
   },
   "file_extension": ".py",
   "mimetype": "text/x-python",
   "name": "python",
   "nbconvert_exporter": "python",
   "pygments_lexer": "ipython3",
   "version": "3.8.10"
  },
  "orig_nbformat": 4
 },
 "nbformat": 4,
 "nbformat_minor": 2
}
