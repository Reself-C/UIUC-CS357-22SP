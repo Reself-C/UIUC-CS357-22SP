{
 "cells": [
  {
   "cell_type": "code",
   "execution_count": 2,
   "metadata": {},
   "outputs": [],
   "source": [
    "import numpy as np\n",
    "import numpy.linalg as la"
   ]
  },
  {
   "cell_type": "code",
   "execution_count": 3,
   "metadata": {},
   "outputs": [],
   "source": [
    "# 18a.5\n",
    "A = np.array([[2.05650, 4.33830, -2.44230], [-1.74620, 4.06100, 4.43900], [5.80360, 0.67640, 2.77910]])\n",
    "X = np.array([[-0.63000, 0.77000, 0.11000], [-0.61000, -0.40000, -0.69000], [-0.49000, -0.50000, 0.72000]])\n",
    "D = np.array([[49,  0,  0], [ 0, 36,  0], [ 0,  0, 25]])"
   ]
  },
  {
   "cell_type": "code",
   "execution_count": 4,
   "metadata": {},
   "outputs": [
    {
     "name": "stdout",
     "output_type": "stream",
     "text": [
      "[[-0.63  0.77  0.11]\n",
      " [-0.61 -0.4  -0.69]\n",
      " [-0.49 -0.5   0.72]]\n",
      "[[7. 0. 0.]\n",
      " [0. 6. 0.]\n",
      " [0. 0. 5.]]\n",
      "[[-2.745231  1.069335 -4.525668]\n",
      " [-3.552214 -5.188474  0.201908]\n",
      " [-5.430631  2.808662  2.172632]]\n",
      "[[-0.39217586  0.1782225  -0.9051336 ]\n",
      " [-0.50745914 -0.86474567  0.0403816 ]\n",
      " [-0.77580443  0.46811033  0.4345264 ]]\n"
     ]
    }
   ],
   "source": [
    "V = X\n",
    "print(V)\n",
    "Sigma = np.sqrt(D)\n",
    "print(Sigma)\n",
    "Sigma\n",
    "print(A @ V)\n",
    "U =  A @ V @ la.inv(Sigma)\n",
    "print(U)"
   ]
  },
  {
   "cell_type": "code",
   "execution_count": 9,
   "metadata": {},
   "outputs": [],
   "source": [
    "# 18a.6\n",
    "AV = np.array([[-0.863, 4.405, 1.383, 0.092], [-5.991, -0.324, 0.149, -0.656], [-3.909, 1.237, -2.031, 0.496], [-3.441, -2.009, 1.702, 0.561]])\n",
    "X = np.array([[-0.870, 0.450, 0.130, -0.140], [-0.170, -0.600, 0.100, -0.780], [-0.450, -0.580, -0.480, 0.480], [-0.100, -0.320, 0.860, 0.380]])\n",
    "D = np.array([[64,  0,  0,  0], [ 0, 25,  0,  0], [ 0,  0,  9,  0], [ 0,  0,  0,  1]])"
   ]
  },
  {
   "cell_type": "code",
   "execution_count": 10,
   "metadata": {},
   "outputs": [
    {
     "data": {
      "text/plain": [
       "array([[-0.107875  ,  0.881     ,  0.461     ,  0.092     ],\n",
       "       [-0.748875  , -0.0648    ,  0.04966667, -0.656     ],\n",
       "       [-0.488625  ,  0.2474    , -0.677     ,  0.496     ],\n",
       "       [-0.430125  , -0.4018    ,  0.56733333,  0.561     ]])"
      ]
     },
     "execution_count": 10,
     "metadata": {},
     "output_type": "execute_result"
    }
   ],
   "source": [
    "Sigma = np.sqrt(D)\n",
    "U = AV @ la.inv(Sigma)\n",
    "U"
   ]
  },
  {
   "cell_type": "code",
   "execution_count": 15,
   "metadata": {},
   "outputs": [
    {
     "data": {
      "text/plain": [
       "array([25, 16,  9], dtype=int32)"
      ]
     },
     "execution_count": 15,
     "metadata": {},
     "output_type": "execute_result"
    }
   ],
   "source": [
    "# 18a.7\n",
    "np.sort(np.power([5,3,4],2))[::-1]"
   ]
  },
  {
   "cell_type": "code",
   "execution_count": 17,
   "metadata": {},
   "outputs": [
    {
     "data": {
      "text/plain": [
       "array([3.16227766, 2.44948974, 2.        ])"
      ]
     },
     "execution_count": 17,
     "metadata": {},
     "output_type": "execute_result"
    }
   ],
   "source": [
    "# 18a.8\n",
    "np.sort(np.sqrt([10,6,4]))[::-1]"
   ]
  },
  {
   "cell_type": "code",
   "execution_count": null,
   "metadata": {},
   "outputs": [],
   "source": [
    "# 18a.9\n",
    "import numpy as np\n",
    "\n",
    "V = X\n",
    "Vtransp = V.T\n",
    "Sigma = np.sqrt(s)\n",
    "U = A @ V @ np.linalg.inv(np.diag(Sigma))"
   ]
  },
  {
   "cell_type": "code",
   "execution_count": null,
   "metadata": {},
   "outputs": [],
   "source": [
    "# 18a.10\n",
    "x = left_multiply_with_V(right_multiply_with_U(b)/sigma)"
   ]
  }
 ],
 "metadata": {
  "interpreter": {
   "hash": "07efdcd4b820c98a756949507a4d29d7862823915ec7477944641bea022f4f62"
  },
  "kernelspec": {
   "display_name": "Python 3.8.10 ('base')",
   "language": "python",
   "name": "python3"
  },
  "language_info": {
   "codemirror_mode": {
    "name": "ipython",
    "version": 3
   },
   "file_extension": ".py",
   "mimetype": "text/x-python",
   "name": "python",
   "nbconvert_exporter": "python",
   "pygments_lexer": "ipython3",
   "version": "3.8.10"
  },
  "orig_nbformat": 4
 },
 "nbformat": 4,
 "nbformat_minor": 2
}
