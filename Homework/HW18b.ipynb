{
 "cells": [
  {
   "cell_type": "code",
   "execution_count": 1,
   "metadata": {},
   "outputs": [],
   "source": [
    "import numpy as np\n",
    "import numpy.linalg as la"
   ]
  },
  {
   "cell_type": "code",
   "execution_count": 5,
   "metadata": {},
   "outputs": [
    {
     "data": {
      "text/plain": [
       "array([[ 0.0428    ,  0.0347875 , -0.0061125 ,  0.0530625 ],\n",
       "       [ 0.03275   ,  0.0361125 ,  0.0143625 ,  0.0329375 ],\n",
       "       [ 0.04143333,  0.06148333,  0.04985   ,  0.02891667],\n",
       "       [ 0.01765   , -0.0488875 , -0.1293375 ,  0.0729375 ]])"
      ]
     },
     "execution_count": 5,
     "metadata": {},
     "output_type": "execute_result"
    }
   ],
   "source": [
    "U = np.array([[-0.56, 0.01, -0.80, 0.19],\n",
    "              [-0.51, -0.41, 0.17, -0.74],\n",
    "              [-0.03, -0.84, 0.13, 0.52],\n",
    "              [-0.65, 0.35, 0.56, 0.38]])\n",
    "Sigma = np.diag([8, 6, 0, 0])\n",
    "VT = np.array([[-0.61, -0.47, -0.60, -0.23],\n",
    "               [0.06, -0.09, -0.34, 0.93],\n",
    "               [0.76, -0.12, -0.58, -0.27],\n",
    "               [-0.22, 0.87, -0.44, -0.07]])\n",
    "A_pinv = VT.T @ la.pinv(Sigma) @ U.T\n",
    "A_pinv"
   ]
  },
  {
   "cell_type": "code",
   "execution_count": 34,
   "metadata": {},
   "outputs": [
    {
     "name": "stdout",
     "output_type": "stream",
     "text": [
      "[[-2.64 -4.86 -2.4 ]\n",
      " [ 3.04 -2.28  1.24]\n",
      " [-0.48 -0.17  0.86]\n",
      " [ 0.    0.    0.  ]]\n",
      "array([[1.5312, 2.8188, 1.392 ],\n",
      "       [1.32  , 2.43  , 1.2   ],\n",
      "       [1.6896, 3.1104, 1.536 ],\n",
      "       [0.0264, 0.0486, 0.024 ]])\n",
      "array([[ 3.7504,  1.1544,  2.2972],\n",
      "       [-0.6864,  3.9348,  0.3816],\n",
      "       [ 1.2336,  3.4524,  1.35  ],\n",
      "       [-0.1256,  0.1626, -0.038 ]])\n"
     ]
    }
   ],
   "source": [
    "# 18b.4\n",
    "U = np.array([[-0.58, 0.73, 0.20, -0.29], [-0.50, -0.66, 0.25, -0.51], [-0.64, -0.15, -0.39, 0.64], [-0.01, -0.05, 0.87, 0.50]])\n",
    "sigma = np.array([[6.00, 0.00, 0.00], [0.00, 4.00, 0.00], [0.00, 0.00, 1.00], [0.00, 0.00, 0.00]])\n",
    "Vt = np.array([[-0.44, -0.81, -0.40], [0.76, -0.57, 0.31], [-0.48, -0.17, 0.86]])\n",
    "sigmaV = (sigma@Vt)\n",
    "print(sigmaV)\n",
    "A_1 = np.outer(U[:,0], sigmaV[0])\n",
    "print(repr(A_1))\n",
    "A_2 = A_1 + np.outer(U[:, 1], sigmaV[1])\n",
    "print(repr(A_2))"
   ]
  },
  {
   "cell_type": "code",
   "execution_count": 35,
   "metadata": {},
   "outputs": [],
   "source": [
    "# 18b.9\n",
    "def solve_SVD(U, sigma, V, b):\n",
    "    y = la.solve(sigma, U.T @ b)\n",
    "    x = V @ y\n",
    "    return x"
   ]
  },
  {
   "cell_type": "code",
   "execution_count": 37,
   "metadata": {},
   "outputs": [
    {
     "data": {
      "text/plain": [
       "array([2.02930727e-17, 5.00000000e-01, 1.42857143e-01])"
      ]
     },
     "execution_count": 37,
     "metadata": {},
     "output_type": "execute_result"
    }
   ],
   "source": [
    "U = np.array([[0, 1/np.sqrt(2), 1/np.sqrt(2)],\n",
    "              [0, 1/np.sqrt(2), -1/np.sqrt(2)],\n",
    "              [1, 0, 0]])\n",
    "sigma = np.diag([7, 4, 1])\n",
    "V = np.array([[0, 0, 1],\n",
    "              [0, 1, 0],\n",
    "              [1, 0, 0]])\n",
    "b = np.array([np.sqrt(2), np.sqrt(2), 1])\n",
    "solve_SVD(U, sigma, V, b)"
   ]
  },
  {
   "cell_type": "code",
   "execution_count": 45,
   "metadata": {},
   "outputs": [
    {
     "data": {
      "text/plain": [
       "238976"
      ]
     },
     "execution_count": 45,
     "metadata": {},
     "output_type": "execute_result"
    }
   ],
   "source": [
    "# 18b.10\n",
    "a = 87\n",
    "b = 46\n",
    "k = 2\n",
    "\n",
    "(a*b-(a*k +k+ k * b))*64"
   ]
  },
  {
   "cell_type": "code",
   "execution_count": null,
   "metadata": {},
   "outputs": [],
   "source": [
    "# 18b.11\n",
    "import numpy as np\n",
    "\n",
    "print(U.shape, sigmavec.shape, V.shape)\n",
    "\n",
    "sigma_plus = np.zeros((V.shape[0], U.shape[0]))\n",
    "for i in range(len(sigmavec)):\n",
    "    sigma_plus[i][i] = 1/sigmavec[i]\n",
    "A_plus = V @ sigma_plus @ U.T"
   ]
  },
  {
   "cell_type": "code",
   "execution_count": null,
   "metadata": {},
   "outputs": [],
   "source": [
    "# 18b.12\n",
    "import numpy as np\n",
    "\n",
    "sigmaV = sigma@V.T\n",
    "A_k = 0\n",
    "for i in range(k):\n",
    "    A_k += np.outer(U[:,i], sigmaV[i])"
   ]
  },
  {
   "cell_type": "code",
   "execution_count": null,
   "metadata": {},
   "outputs": [],
   "source": [
    "# 18b.13\n",
    "import numpy as np\n",
    "import matplotlib.pyplot as plt\n",
    "import numpy.linalg as la\n",
    "\n",
    "u, s, vt = la.svd(image, full_matrices = False)\n",
    "# plt.plot(np.arange(50), s[:50])\n",
    "# plt.xlabel('number')\n",
    "# plt.ylabel('singular values')\n",
    "# plt.title('xxx')\n",
    "\n",
    "lower_bound = f*np.sum(s)\n",
    "k = 0\n",
    "for i in range(len(s)):\n",
    "    if np.sum(s[:i])>lower_bound:\n",
    "        k = i\n",
    "        break\n",
    "\n",
    "image_compressed = 0\n",
    "sV = np.diag(s)@vt\n",
    "for i in range(k):\n",
    "    image_compressed += np.outer(u[:,i], sV[i])\n",
    "\n",
    "plt.imshow(image_compressed, cmap = 'gray')"
   ]
  }
 ],
 "metadata": {
  "interpreter": {
   "hash": "07efdcd4b820c98a756949507a4d29d7862823915ec7477944641bea022f4f62"
  },
  "kernelspec": {
   "display_name": "Python 3.8.10 ('base')",
   "language": "python",
   "name": "python3"
  },
  "language_info": {
   "codemirror_mode": {
    "name": "ipython",
    "version": 3
   },
   "file_extension": ".py",
   "mimetype": "text/x-python",
   "name": "python",
   "nbconvert_exporter": "python",
   "pygments_lexer": "ipython3",
   "version": "3.8.10"
  },
  "orig_nbformat": 4
 },
 "nbformat": 4,
 "nbformat_minor": 2
}
