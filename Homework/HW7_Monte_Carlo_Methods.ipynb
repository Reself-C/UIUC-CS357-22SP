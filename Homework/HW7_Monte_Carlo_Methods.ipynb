{
 "cells": [
  {
   "cell_type": "code",
   "execution_count": 2,
   "metadata": {},
   "outputs": [
    {
     "name": "stdout",
     "output_type": "stream",
     "text": [
      "Period = 1\n",
      "[1]\n"
     ]
    }
   ],
   "source": [
    "# HW 7.2\n",
    "a = 3\n",
    "c = 2\n",
    "m = 4\n",
    "x0 = 1              # seed\n",
    "T = 0\n",
    "nlist = [x0]\n",
    "x = (a * x0 + c) % m\n",
    "while x != x0:\n",
    "    nlist.append(x)\n",
    "    x = (a * x + c) % m\n",
    "    T += 1\n",
    "print(\"Period = \" + str(T+1))\n",
    "print(nlist)"
   ]
  },
  {
   "cell_type": "code",
   "execution_count": 3,
   "metadata": {},
   "outputs": [],
   "source": [
    "import numpy as np"
   ]
  },
  {
   "cell_type": "code",
   "execution_count": 7,
   "metadata": {},
   "outputs": [
    {
     "data": {
      "text/plain": [
       "1"
      ]
     },
     "execution_count": 7,
     "metadata": {},
     "output_type": "execute_result"
    }
   ],
   "source": [
    "# HW 7.5\n",
    "p1 = [0, 0, 1]\n",
    "p2 = [0, np.pi/2, 1]\n",
    "p3 = [0.5, np.pi/4, 0.8]\n",
    "p4 = [0.9, 0.1, 0.5]\n",
    "P = np.array([p1, p2, p3, p4])\n",
    "counter = 0\n",
    "for i in range(4):\n",
    "    x = P[i][0]\n",
    "    y = P[i][1]\n",
    "    z = P[i][2]\n",
    "    if 0 <= x <= 1 and 0 <= y <= 1 and  0<= z <= 1 and x**2 + np.sin(y) <= z and x - z + np.exp(y) <= 1:\n",
    "        counter += 1\n",
    "counter"
   ]
  },
  {
   "cell_type": "code",
   "execution_count": 9,
   "metadata": {},
   "outputs": [
    {
     "name": "stdout",
     "output_type": "stream",
     "text": [
      "5.05 4.95\n"
     ]
    }
   ],
   "source": [
    "# HW 7.7\n",
    "err = 5\n",
    "s_sample = 100\n",
    "b_sample = 1000000\n",
    "abs_diff = err / np.sqrt(b_sample) * np.sqrt(s_sample)\n",
    "upper = err + abs_diff\n",
    "lower = err - abs_diff\n",
    "print(upper,lower)\n"
   ]
  },
  {
   "cell_type": "code",
   "execution_count": 11,
   "metadata": {},
   "outputs": [
    {
     "data": {
      "text/plain": [
       "1000000000000.0"
      ]
     },
     "execution_count": 11,
     "metadata": {},
     "output_type": "execute_result"
    }
   ],
   "source": [
    "# HW 7.8\n",
    "err = 1e-1\n",
    "sample = 1e6\n",
    "desired_err = 1e-4\n",
    "(np.sqrt(sample)*err/desired_err)**2"
   ]
  },
  {
   "cell_type": "code",
   "execution_count": 27,
   "metadata": {},
   "outputs": [
    {
     "data": {
      "text/plain": [
       "array([3, 5, 6, 7])"
      ]
     },
     "execution_count": 27,
     "metadata": {},
     "output_type": "execute_result"
    }
   ],
   "source": [
    "# Hw 7.9\n",
    "import numpy as np\n",
    "import matplotlib.pyplot as plt\n",
    "\n",
    "def calculate_pi(xs, ys):\n",
    "    d = xs ** 2 + ys ** 2\n",
    "    sector = d[d<=1]\n",
    "    return sector.size / d.size * 4\n",
    "\n",
    "pi = np.zeros(7)\n",
    "N = np.zeros(7)\n",
    "for i in range(7):\n",
    "    x_sample = xs[:10**i]\n",
    "    y_sample = ys[:10**i]\n",
    "    pi[i] = calculate_pi(x_sample, y_sample)\n",
    "    N[i] = 10 ** i\n",
    "abs_error = np.abs(pi - np.pi)\n",
    "plt.plot(N,abs_error)\n",
    "plt.loglog()\n",
    "plt.xlabel('Sample Size')\n",
    "plt.ylabel('Absolute Error')\n",
    "plt.title('Estimation of pi')\n",
    "# Save plot for grading\n",
    "plot = plt.gca()"
   ]
  },
  {
   "cell_type": "code",
   "execution_count": 51,
   "metadata": {},
   "outputs": [
    {
     "name": "stdout",
     "output_type": "stream",
     "text": [
      "<class 'numpy.int64'>\n"
     ]
    }
   ],
   "source": [
    "import numpy as np\n",
    "import matplotlib\n",
    "import matplotlib.pyplot as plt\n",
    "\n",
    "prob_n = np.zeros(99)\n",
    "\n",
    "def duplicate_birthdays(n):\n",
    "    # Generate 1000 simulations of rooms (with the birthdays of n people in each room)\n",
    "    # Compute the number of rooms with duplicate birthdays.\n",
    "    # Returns the number of rooms with duplicate birthdays\n",
    "    counter = 0\n",
    "    for i in range(1000):\n",
    "        people = genroom(n)\n",
    "        if people.size - len(set(people)) != 0:\n",
    "            counter += 1\n",
    "    return counter\n",
    "\n",
    "# Part 1\n",
    "for n in range(2, 101):\n",
    "    # call function duplicate_birthdays(n)\n",
    "    # update the array prob_n\n",
    "    room = duplicate_birthdays(n)\n",
    "    prob_n[n - 2] = room / 1000\n",
    "# Part 2\n",
    "# Estimate perc_50\n",
    "perc_50 = int(np.argmax(prob_n > 0.5)) + 2\n",
    "# Part 3\n",
    "# Plot prob_n\n",
    "N = np.arange(2, 101)\n",
    "plt.plot(N, prob_n)\n",
    "plt.xlabel('The number of people in a room (n)')\n",
    "plt.ylabel('The probability')\n",
    "plt.title('P_n vs N')\n",
    "# Save plot for grading\n",
    "plot = plt.gca()"
   ]
  }
 ],
 "metadata": {
  "interpreter": {
   "hash": "07efdcd4b820c98a756949507a4d29d7862823915ec7477944641bea022f4f62"
  },
  "kernelspec": {
   "display_name": "Python 3.8.10 ('base')",
   "language": "python",
   "name": "python3"
  },
  "language_info": {
   "codemirror_mode": {
    "name": "ipython",
    "version": 3
   },
   "file_extension": ".py",
   "mimetype": "text/x-python",
   "name": "python",
   "nbconvert_exporter": "python",
   "pygments_lexer": "ipython3",
   "version": "3.8.10"
  },
  "orig_nbformat": 4
 },
 "nbformat": 4,
 "nbformat_minor": 2
}
