{
 "cells": [
  {
   "cell_type": "code",
   "execution_count": 1,
   "metadata": {},
   "outputs": [],
   "source": [
    "import numpy as np\n",
    "import numpy.linalg as la"
   ]
  },
  {
   "cell_type": "code",
   "execution_count": 15,
   "metadata": {},
   "outputs": [
    {
     "name": "stderr",
     "output_type": "stream",
     "text": [
      "<ipython-input-15-285e9836113c>:16: RuntimeWarning: divide by zero encountered in true_divide\n",
      "  Sigma_p = 1 / Sigma.T\n"
     ]
    },
    {
     "data": {
      "text/plain": [
       "array([-0.41666667, -0.31833333, -2.01      ,  1.17      ])"
      ]
     },
     "execution_count": 15,
     "metadata": {},
     "output_type": "execute_result"
    }
   ],
   "source": [
    "# 17b.4\n",
    "U = np.array([[0, 0, 1, 0],\n",
    "              [0, 0, 0, 1],\n",
    "              [1, 0, 0, 0],\n",
    "              [0, 1, 0, 0],\n",
    "              [0, 0, 0, 0]])\n",
    "Sigma = np.array([[6, 0, 0, 0],\n",
    "                  [0, 5, 0, 0],\n",
    "                  [0, 0, 4, 0],\n",
    "                  [0, 0, 0, 0]])\n",
    "VT = np.array([[-0.02, -0.19, 0.18, 0.96],\n",
    "               [-0.86, -0.42, -0.28, -0.05],\n",
    "               [0.23, 0.13, -0.94, 0.21],\n",
    "               [0.45, -0.88, -0.05, -0.16]])\n",
    "b = np.array([8, 3, 5, 5, 1])\n",
    "Sigma_p = 1 / Sigma.T\n",
    "Sigma_p[Sigma_p == np.inf] = 0\n",
    "x = VT.T @ Sigma_p @ U.T @ b\n",
    "x"
   ]
  },
  {
   "cell_type": "code",
   "execution_count": 9,
   "metadata": {},
   "outputs": [
    {
     "name": "stderr",
     "output_type": "stream",
     "text": [
      "<ipython-input-9-feedfaf5abde>:11: RuntimeWarning: divide by zero encountered in true_divide\n",
      "  Sigma_p = 1 / Sigma.T\n"
     ]
    },
    {
     "data": {
      "text/plain": [
       "array([-0.67357531,  0.38888889,  0.        ])"
      ]
     },
     "execution_count": 9,
     "metadata": {},
     "output_type": "execute_result"
    }
   ],
   "source": [
    "# 17b.5\n",
    "U = np.array([[1, 0, 0],\n",
    "              [0, -1/np.sqrt(2), 1/np.sqrt(2)],\n",
    "              [0, 1/np.sqrt(2), 1/np.sqrt(2)]])\n",
    "Sigma = np.array([[9, 0, 0],\n",
    "                  [0, 4, 0],\n",
    "                  [0, 0, 0]])\n",
    "VT = np.array([[-np.sqrt(3)/2, 1/2, 0],\n",
    "               [-1/2, -np.sqrt(3)/2, 0],\n",
    "               [0, 0, 1]])\n",
    "b = np.array([7, 0, 0])\n",
    "Sigma_p = 1 / Sigma.T\n",
    "Sigma_p[Sigma_p == np.inf] = 0\n",
    "x = VT.T @ Sigma_p @ U.T @ b\n",
    "x"
   ]
  },
  {
   "cell_type": "code",
   "execution_count": 13,
   "metadata": {},
   "outputs": [
    {
     "data": {
      "text/plain": [
       "12.165525060596439"
      ]
     },
     "execution_count": 13,
     "metadata": {},
     "output_type": "execute_result"
    }
   ],
   "source": [
    "# 17b.6\n",
    "U = np.array([[1/np.sqrt(2), -1/np.sqrt(2), 0, 0],\n",
    "              [1/np.sqrt(2), 1/np.sqrt(2), 0, 0],\n",
    "              [0, 0, 0, 1],\n",
    "              [0, 0, 1, 0]])\n",
    "b = np.array([3, 10, 12, 2])\n",
    "r = 2\n",
    "z = U.T @ b\n",
    "la.norm(z[r:], 2)"
   ]
  },
  {
   "cell_type": "code",
   "execution_count": 28,
   "metadata": {},
   "outputs": [
    {
     "name": "stderr",
     "output_type": "stream",
     "text": [
      "No handles with labels found to put in legend.\n"
     ]
    },
    {
     "data": {
      "image/png": "[encoded data removed]",
      "text/plain": [
       "<Figure size 432x288 with 1 Axes>"
      ]
     },
     "metadata": {
      "needs_background": "light"
     },
     "output_type": "display_data"
    }
   ],
   "source": [
    "# 17b.7\n",
    "import numpy as np\n",
    "import numpy.linalg as la\n",
    "import matplotlib.pyplot as plt\n",
    "\n",
    "def lst_sq(A, b):\n",
    "    \"\"\"\n",
    "    Solve the least square equation using SVD\n",
    "    \"\"\"\n",
    "    # Your code here\n",
    "    x = la.inv(A.T@A)@A.T@b\n",
    "    return x\n",
    "\n",
    "Q = np.vstack([times**2, times, np.ones(len(times))]).T\n",
    "q_coeffs = lst_sq(Q, prices)\n",
    "\n",
    "t = -q_coeffs[1]/2/q_coeffs[0]\n",
    "if t>=0:\n",
    "    best_time = 0\n",
    "else:\n",
    "    best_time = t\n",
    "\n",
    "L = np.vstack([times, np.ones(len(times))]).T\n",
    "l_coeffs = lst_sq(L, prices)\n",
    "M = np.vstack([times**i for i in range(5,-1,-1)]).T\n",
    "m_coeffs = lst_sq(M, prices)\n",
    "\n",
    "plt.scatter(times, prices)\n",
    "plt.scatter(best_time, q_coeffs@np.array([best_time**2, best_time, 1]), color = 'r')\n",
    "ts = np.arange(-60,0,1)\n",
    "plt.plot(ts, np.vstack([ts**2, ts, np.ones(len(ts))]).T@q_coeffs)\n",
    "plt.plot(ts, np.vstack([ts, np.ones(len(ts))]).T@l_coeffs)\n",
    "plt.plot(ts, np.vstack([ts**i for i in range(5,-1,-1)]).T@m_coeffs)\n",
    "plt.xlabel('x')\n",
    "plt.ylabel('y')\n",
    "plt.legend()\n",
    "plt.title('plot')\n",
    "price_plot = plt.gca()"
   ]
  }
 ],
 "metadata": {
  "interpreter": {
   "hash": "07efdcd4b820c98a756949507a4d29d7862823915ec7477944641bea022f4f62"
  },
  "kernelspec": {
   "display_name": "Python 3.8.10 ('base')",
   "language": "python",
   "name": "python3"
  },
  "language_info": {
   "codemirror_mode": {
    "name": "ipython",
    "version": 3
   },
   "file_extension": ".py",
   "mimetype": "text/x-python",
   "name": "python",
   "nbconvert_exporter": "python",
   "pygments_lexer": "ipython3",
   "version": "3.8.10"
  },
  "orig_nbformat": 4
 },
 "nbformat": 4,
 "nbformat_minor": 2
}
