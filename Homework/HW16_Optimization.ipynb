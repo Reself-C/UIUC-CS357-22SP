{
 "cells": [
  {
   "cell_type": "code",
   "execution_count": 13,
   "metadata": {},
   "outputs": [],
   "source": [
    "from math import sin, cos"
   ]
  },
  {
   "cell_type": "code",
   "execution_count": 18,
   "metadata": {},
   "outputs": [
    {
     "data": {
      "text/plain": [
       "0.32638888888888884"
      ]
     },
     "execution_count": 18,
     "metadata": {},
     "output_type": "execute_result"
    }
   ],
   "source": [
    "# HW 16.2\n",
    "f = lambda x: 17*x**3 + 21*x**2 + 4*x + 2\n",
    "df = lambda x: 51*x**2 + 42*x + 4\n",
    "d2f = lambda x: 102*x + 42\n",
    "x0 = 1\n",
    "x1 = x0 - df(x0)/d2f(x0)\n",
    "f(x1)"
   ]
  },
  {
   "cell_type": "code",
   "execution_count": 17,
   "metadata": {},
   "outputs": [
    {
     "data": {
      "text/plain": [
       "-0.005341921221036272"
      ]
     },
     "execution_count": 17,
     "metadata": {},
     "output_type": "execute_result"
    }
   ],
   "source": [
    "# HW 16.4\n",
    "f = lambda x: cos(x)\n",
    "df = lambda x: -sin(x)\n",
    "d2f = lambda x: -cos(x)\n",
    "x0 = 0.25\n",
    "x1 = x0 - df(x0)/d2f(x0)\n",
    "x1"
   ]
  },
  {
   "cell_type": "code",
   "execution_count": null,
   "metadata": {},
   "outputs": [],
   "source": [
    "# HW 16.10\n"
   ]
  }
 ],
 "metadata": {
  "interpreter": {
   "hash": "d30f2eae29d172888ee9c1ee28f70a4e8225fd9a8a138830c03a950ad069ae1c"
  },
  "kernelspec": {
   "display_name": "Python 3.8.12 ('data')",
   "language": "python",
   "name": "python3"
  },
  "language_info": {
   "codemirror_mode": {
    "name": "ipython",
    "version": 3
   },
   "file_extension": ".py",
   "mimetype": "text/x-python",
   "name": "python",
   "nbconvert_exporter": "python",
   "pygments_lexer": "ipython3",
   "version": "3.8.12"
  },
  "orig_nbformat": 4
 },
 "nbformat": 4,
 "nbformat_minor": 2
}
