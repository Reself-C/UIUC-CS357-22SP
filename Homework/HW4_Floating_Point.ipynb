{
 "cells": [
  {
   "cell_type": "code",
   "execution_count": 70,
   "metadata": {},
   "outputs": [],
   "source": [
    "import numpy as np"
   ]
  },
  {
   "cell_type": "code",
   "execution_count": 71,
   "metadata": {},
   "outputs": [],
   "source": [
    "# La.2\n",
    "def ten2two(int_10):\n",
    "    res = list()\n",
    "    while int_10 != 0:\n",
    "        res.append(int_10%2)\n",
    "        int_10 = int_10//2\n",
    "    return res[::-1]"
   ]
  },
  {
   "cell_type": "code",
   "execution_count": 72,
   "metadata": {},
   "outputs": [],
   "source": [
    "# La.3\n",
    "def two2ten(int_2):\n",
    "    res = list()\n",
    "    while int_2 != 0:\n",
    "        res.append(int_2%10)\n",
    "        int_2 = int_2 // 10\n",
    "    int_10 = 0\n",
    "    for i in range(len(res)):\n",
    "        int_10 += res[i]*2**(i)\n",
    "    return int_10"
   ]
  },
  {
   "cell_type": "code",
   "execution_count": 73,
   "metadata": {},
   "outputs": [],
   "source": [
    "# La.4\n",
    "def decimal2two(x):\n",
    "    res = list()\n",
    "    while x % 1 != 0:\n",
    "        x *= 2\n",
    "        if x >= 1:\n",
    "            res.append(1)\n",
    "            x -= 1\n",
    "        else:\n",
    "            res.append(0)\n",
    "    return res"
   ]
  },
  {
   "cell_type": "code",
   "execution_count": 74,
   "metadata": {},
   "outputs": [],
   "source": [
    "# La.5\n",
    "def two2decimal(x):\n",
    "    d = 0\n",
    "    for i, j in enumerate(x):\n",
    "\n",
    "        d += 2**(-i-1)*j\n",
    "\n",
    "    return d\n"
   ]
  },
  {
   "cell_type": "code",
   "execution_count": 75,
   "metadata": {},
   "outputs": [
    {
     "ename": "NameError",
     "evalue": "name 'minifloats' is not defined",
     "output_type": "error",
     "traceback": [
      "\u001b[1;31m---------------------------------------------------------------------------\u001b[0m",
      "\u001b[1;31mNameError\u001b[0m                                 Traceback (most recent call last)",
      "\u001b[1;32m<ipython-input-75-19075cab98c4>\u001b[0m in \u001b[0;36m<module>\u001b[1;34m\u001b[0m\n\u001b[0;32m      1\u001b[0m \u001b[1;31m# a.9\u001b[0m\u001b[1;33m\u001b[0m\u001b[1;33m\u001b[0m\u001b[1;33m\u001b[0m\u001b[0m\n\u001b[0;32m      2\u001b[0m \u001b[0moutputs\u001b[0m \u001b[1;33m=\u001b[0m \u001b[0mlist\u001b[0m\u001b[1;33m(\u001b[0m\u001b[1;33m)\u001b[0m\u001b[1;33m\u001b[0m\u001b[1;33m\u001b[0m\u001b[0m\n\u001b[1;32m----> 3\u001b[1;33m \u001b[1;32mfor\u001b[0m \u001b[0mi\u001b[0m \u001b[1;32min\u001b[0m \u001b[0mrange\u001b[0m\u001b[1;33m(\u001b[0m\u001b[0mlen\u001b[0m\u001b[1;33m(\u001b[0m\u001b[0mminifloats\u001b[0m\u001b[1;33m)\u001b[0m\u001b[1;33m)\u001b[0m\u001b[1;33m:\u001b[0m\u001b[1;33m\u001b[0m\u001b[1;33m\u001b[0m\u001b[0m\n\u001b[0m\u001b[0;32m      4\u001b[0m     \u001b[0mm\u001b[0m \u001b[1;33m=\u001b[0m \u001b[0mminifloats\u001b[0m\u001b[1;33m[\u001b[0m\u001b[0mi\u001b[0m\u001b[1;33m]\u001b[0m\u001b[1;33m\u001b[0m\u001b[1;33m\u001b[0m\u001b[0m\n\u001b[0;32m      5\u001b[0m     \u001b[0mE\u001b[0m \u001b[1;33m=\u001b[0m \u001b[0mm\u001b[0m\u001b[1;33m[\u001b[0m\u001b[1;36m1\u001b[0m\u001b[1;33m]\u001b[0m\u001b[1;33m*\u001b[0m\u001b[1;36m2\u001b[0m\u001b[1;33m**\u001b[0m\u001b[1;36m3\u001b[0m\u001b[1;33m+\u001b[0m\u001b[0mm\u001b[0m\u001b[1;33m[\u001b[0m\u001b[1;36m2\u001b[0m\u001b[1;33m]\u001b[0m\u001b[1;33m*\u001b[0m\u001b[1;36m2\u001b[0m\u001b[1;33m**\u001b[0m\u001b[1;36m2\u001b[0m\u001b[1;33m+\u001b[0m\u001b[0mm\u001b[0m\u001b[1;33m[\u001b[0m\u001b[1;36m3\u001b[0m\u001b[1;33m]\u001b[0m\u001b[1;33m*\u001b[0m\u001b[1;36m2\u001b[0m\u001b[1;33m+\u001b[0m\u001b[0mm\u001b[0m\u001b[1;33m[\u001b[0m\u001b[1;36m4\u001b[0m\u001b[1;33m]\u001b[0m\u001b[1;33m-\u001b[0m\u001b[1;36m8\u001b[0m\u001b[1;33m\u001b[0m\u001b[1;33m\u001b[0m\u001b[0m\n",
      "\u001b[1;31mNameError\u001b[0m: name 'minifloats' is not defined"
     ]
    }
   ],
   "source": [
    "# a.9\n",
    "outputs = list()\n",
    "for i in range(len(minifloats)):\n",
    "    m = minifloats[i]\n",
    "    E = m[1]*2**3+m[2]*2**2+m[3]*2+m[4]-8\n",
    "    D = 1+m[5]/2+m[6]/4+m[7]/8\n",
    "    if E > 0:\n",
    "        res = D*2**E*(-1)**m[0]\n",
    "    else:\n",
    "        res = D/2**(-E)*(-1)**m[0]\n",
    "    outputs.append(res)"
   ]
  },
  {
   "cell_type": "code",
   "execution_count": null,
   "metadata": {},
   "outputs": [],
   "source": [
    "# b.2\n",
    "def Binary2Decimal(s,c,f):\n",
    "    c = two2ten(c)\n",
    "    print(c)\n",
    "    f = two2decimal(f)\n",
    "    print(f)\n",
    "    return (-1)**s*(1+f)*2**(c-1023)"
   ]
  },
  {
   "cell_type": "code",
   "execution_count": null,
   "metadata": {},
   "outputs": [],
   "source": [
    "# b.6\n",
    "n = 3\n",
    "m = 6\n",
    "a = 2**(-m)\n",
    "print(a)\n",
    "b = 2**(-m-n)\n",
    "print(b)\n",
    "c = 2**(m+1)*(1-2**(-n-1))\n",
    "print(c)\n",
    "f = 2**(-n)\n",
    "print(f)"
   ]
  },
  {
   "cell_type": "code",
   "execution_count": null,
   "metadata": {},
   "outputs": [],
   "source": [
    "np.log(2**128*(1-2**(-24))-np.exp(84.83440)-np.exp(85.85701)-np.exp(84.45077))"
   ]
  },
  {
   "cell_type": "code",
   "execution_count": 89,
   "metadata": {},
   "outputs": [
    {
     "name": "stdout",
     "output_type": "stream",
     "text": [
      " 01\n"
     ]
    },
    {
     "data": {
      "text/plain": [
       "('00000000', -1)"
      ]
     },
     "execution_count": 89,
     "metadata": {},
     "output_type": "execute_result"
    }
   ],
   "source": [
    "def decimal_to_floating_point(x, n, p):\n",
    "    \"\"\"\n",
    "    Convert a positive decimal number x into its normalized floating-point\n",
    "    form.\n",
    "    \n",
    "    Parameters\n",
    "    ----------\n",
    "    x: float\n",
    "        Input positive decimal number\n",
    "    n: int\n",
    "        Number of binary bits in fraction\n",
    "    p: int\n",
    "        Exponent range\n",
    "\n",
    "    Returns\n",
    "    -------\n",
    "    f: str\n",
    "        String of length n representing the fraction part of x in the given floating-point system\n",
    "    m: int\n",
    "        Exponent of x in the given floating-point system\n",
    "    \"\"\"\n",
    "\n",
    "    # your implementation goes here\n",
    "    x_int = int(x//1)\n",
    "    bin_int = str()\n",
    "    while x_int:\n",
    "        bin_int = str(x_int%2) + bin_int\n",
    "        x_int = int(x_int//2)\n",
    "    \n",
    "    x_f = x%1\n",
    "    bin_f = str('')\n",
    "    while x_f:\n",
    "        x_f *= 2\n",
    "        add = '1' if x_f >= 1 else '0'\n",
    "        bin_f = bin_f + add\n",
    "        x_f -= int(x_f)\n",
    "        \n",
    "    print(bin_int, bin_f)\n",
    "    \n",
    "    if bin_int == '':\n",
    "        index_record = 0\n",
    "        for index, i in enumerate(bin_f):\n",
    "            if i == '1':\n",
    "                index_record = index\n",
    "                break\n",
    "        f = bin_f[index_record+1:]\n",
    "        m = -index_record-1\n",
    "    \n",
    "    else:\n",
    "        bin = bin_int + bin_f\n",
    "        f = bin[1:n+1]\n",
    "        m = len(bin_int)-1\n",
    "    if len(f) < n:\n",
    "        f += '0' * (n-len(f))\n",
    "    return f, m\n",
    "\n",
    "decimal_to_floating_point(0.25,8,8)"
   ]
  },
  {
   "cell_type": "code",
   "execution_count": null,
   "metadata": {},
   "outputs": [],
   "source": []
  }
 ],
 "metadata": {
  "interpreter": {
   "hash": "cf151ee0d5d4bd6519c08d7976dcef72e9a178a9dc773adc57d522f57ddd0fc2"
  },
  "kernelspec": {
   "display_name": "Python 3.8.10 64-bit ('py38': conda)",
   "language": "python",
   "name": "python3"
  },
  "language_info": {
   "codemirror_mode": {
    "name": "ipython",
    "version": 3
   },
   "file_extension": ".py",
   "mimetype": "text/x-python",
   "name": "python",
   "nbconvert_exporter": "python",
   "pygments_lexer": "ipython3",
   "version": "3.8.10"
  },
  "orig_nbformat": 4
 },
 "nbformat": 4,
 "nbformat_minor": 2
}
