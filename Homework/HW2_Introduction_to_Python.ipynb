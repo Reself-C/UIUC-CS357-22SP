{
 "cells": [
  {
   "cell_type": "code",
   "execution_count": 1,
   "metadata": {},
   "outputs": [],
   "source": [
    "# Author: Wenhao Chai\n",
    "\n",
    "import numpy as np"
   ]
  },
  {
   "cell_type": "code",
   "execution_count": 2,
   "metadata": {},
   "outputs": [
    {
     "name": "stdout",
     "output_type": "stream",
     "text": [
      "3188283863168 3188283863168 3188283858048\n",
      "False True False True True True\n"
     ]
    }
   ],
   "source": [
    "# 2.1\n",
    "\n",
    "A = [1,2,3,4]\n",
    "B = A\n",
    "C = A\n",
    "\n",
    "B.append(5)\n",
    "C = C + [6]\n",
    "B.append(6)\n",
    "\n",
    "print(\n",
    "    id(A),\n",
    "    id(B),\n",
    "    id(C),\n",
    ")\n",
    "\n",
    "print(\n",
    "    B is C,\n",
    "    A == C,\n",
    "    A is C,\n",
    "    A == B,\n",
    "    A is B,\n",
    "    B == C,\n",
    "    )\n",
    "\n",
    "del A, B, C"
   ]
  },
  {
   "cell_type": "code",
   "execution_count": 3,
   "metadata": {},
   "outputs": [
    {
     "name": "stdout",
     "output_type": "stream",
     "text": [
      "['computer_science', 'math'] ['computer_science', 'math']\n"
     ]
    }
   ],
   "source": [
    "# 2.2\n",
    "\n",
    "def add_math_minor(person):\n",
    "    person.append('math')\n",
    "\n",
    "def switch_majors(person):\n",
    "    person = ['physics']\n",
    "    person.append('economics')\n",
    "\n",
    "John = ['computer_science']\n",
    "Tim = John\n",
    "add_math_minor(Tim)\n",
    "switch_majors(John)\n",
    "print(John, Tim)\n",
    "\n",
    "del John, Tim"
   ]
  },
  {
   "cell_type": "code",
   "execution_count": 4,
   "metadata": {},
   "outputs": [
    {
     "name": "stdout",
     "output_type": "stream",
     "text": [
      "7\n",
      "5\n",
      "3\n",
      "1\n"
     ]
    }
   ],
   "source": [
    "# 2.3\n",
    "\n",
    "start, stop, step = 7, 0, -2\n",
    "integers = [0, 1, 2, 3, 4, 5, 6, 7, 8, 9]\n",
    "[print(integers[i]) for i in range(start, stop, step)]\n",
    "\n",
    "del start, stop, step, integers"
   ]
  },
  {
   "cell_type": "code",
   "execution_count": 5,
   "metadata": {},
   "outputs": [
    {
     "name": "stdout",
     "output_type": "stream",
     "text": [
      "0\n",
      "2\n",
      "1\n",
      "3\n",
      "2\n",
      "4\n",
      "3\n",
      "5\n",
      "4\n",
      "6\n"
     ]
    }
   ],
   "source": [
    "# 2.4\n",
    "i = 0\n",
    "while (i < 5):\n",
    "    print(i)\n",
    "    i += 1\n",
    "    print(i+1)\n",
    "del i"
   ]
  },
  {
   "cell_type": "code",
   "execution_count": 6,
   "metadata": {},
   "outputs": [
    {
     "data": {
      "text/plain": [
       "[('#illinifriday!', 1), ('#illini?', 1), ('#illini', 2), ('#jointhefight', 1)]"
      ]
     },
     "execution_count": 6,
     "metadata": {},
     "output_type": "execute_result"
    }
   ],
   "source": [
    "# 2.11\n",
    "tweets = [\"Happy #IlliniFriday!\",\n",
    "  \"It is a pretty campus, isn't it, #illini?\",\n",
    "  \"Diving into the last weekend of winter break like... #ILLINI #JoinTheFight\",\n",
    "  \"Are you wearing your Orange and Blue today, #Illini Nation?\"]\n",
    "\n",
    "def list_sort(list):\n",
    "    list_length = len(list)  \n",
    "    for i in range(0, list_length):  \n",
    "        for j in range(0, list_length-i-1):  \n",
    "            if (list[j][1] < list[j + 1][1]) or ((list[j][1]==list[j + 1][1]) and (list[j][0] > list[j + 1][0])): \n",
    "                temp = list[j]  \n",
    "                list[j]= list[j + 1]  \n",
    "                list[j + 1]= temp\n",
    "    return list\n",
    "    \n",
    "\n",
    "word_list = ' '.join(tweets).split()\n",
    "hashtag_dict = dict()\n",
    "\n",
    "for word in word_list:\n",
    "    if word[0] == '#':\n",
    "        word = word.lower()\n",
    "        if word in hashtag_dict.keys():\n",
    "            hashtag_dict[word] += 1\n",
    "        else:\n",
    "            hashtag_dict[word] = 1\n",
    "    else:\n",
    "        continue\n",
    "    \n",
    "hashtag_counts = [(key, hashtag_dict[key]) for key in hashtag_dict.keys()]\n",
    "# hashtag_counts = list_sort([(key, hashtag_dict[key]) for key in hashtag_dict.keys()])\n",
    "\n",
    "\n",
    "def cmp_func(x, y):\n",
    "    if x[1] > y[1]:\n",
    "        return 1\n",
    "    elif x[1] == y[1] and x[0] < y[0]:\n",
    "        return 1\n",
    "    else:\n",
    "        return 0\n",
    "\n",
    "from functools import cmp_to_key\n",
    "hashtag_counts = sorted(hashtag_counts, key=cmp_to_key(cmp_func))\n",
    "hashtag_counts\n"
   ]
  },
  {
   "cell_type": "code",
   "execution_count": null,
   "metadata": {},
   "outputs": [],
   "source": []
  }
 ],
 "metadata": {
  "interpreter": {
   "hash": "cf151ee0d5d4bd6519c08d7976dcef72e9a178a9dc773adc57d522f57ddd0fc2"
  },
  "kernelspec": {
   "display_name": "Python 3.8.10 64-bit ('py38': conda)",
   "language": "python",
   "name": "python3"
  },
  "language_info": {
   "codemirror_mode": {
    "name": "ipython",
    "version": 3
   },
   "file_extension": ".py",
   "mimetype": "text/x-python",
   "name": "python",
   "nbconvert_exporter": "python",
   "pygments_lexer": "ipython3",
   "version": "3.8.10"
  },
  "orig_nbformat": 4
 },
 "nbformat": 4,
 "nbformat_minor": 2
}
