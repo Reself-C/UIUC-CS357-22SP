{
 "cells": [
  {
   "cell_type": "code",
   "execution_count": null,
   "metadata": {},
   "outputs": [],
   "source": [
    "# HW 6.9\n",
    "import numpy as np\n",
    "import matplotlib.pyplot as plt\n",
    "\n",
    "exp_approx = np.zeros(10)\n",
    "abs_error = np.zeros(10)\n",
    "rel_error = np.zeros(10)\n",
    "N_cutoff = 0\n",
    "sum = 0\n",
    "for i in range(10):\n",
    "    sum += x ** i / np.math.factorial(i)\n",
    "    exp_approx[i] = sum\n",
    "abs_error = np.abs(exp_approx - np.exp(x))\n",
    "rel_error = abs_error / np.exp(x)\n",
    "for i in range(10):\n",
    "    if rel_error[i] <= desired_rel_error:\n",
    "        N_cutoff = i\n",
    "        break\n",
    "\n",
    "# Save plot for grading\n",
    "N = np.linspace(0,9,10)\n",
    "plt.plot(N,rel_error)\n",
    "plt.semilogy()\n",
    "plt.ylabel('relative error in log scale')\n",
    "plt.xlabel('N')\n",
    "plt.title('relative error vs N')\n",
    "plot = plt.gca()"
   ]
  },
  {
   "cell_type": "code",
   "execution_count": null,
   "metadata": {},
   "outputs": [],
   "source": [
    "# HW 6.10\n",
    "import numpy as np\n",
    "\n",
    "def taylor_sin_calculator(x_hat, x_0, n):\n",
    "    summation = 0;\n",
    "    for i in range(n + 1):\n",
    "        if (i+1) % 4 == 1:\n",
    "            summation += np.sin(x_0) * (x_hat - x_0) ** i / np.math.factorial(i)\n",
    "        elif (i+1) % 4 == 2:\n",
    "            summation += np.cos(x_0) * (x_hat - x_0) ** i / np.math.factorial(i)\n",
    "        elif (i+1) % 4 ==3:\n",
    "            summation += -np.sin(x_0) * (x_hat - x_0) ** i / np.math.factorial(i)\n",
    "        elif (i+1) % 4 == 0:\n",
    "            summation += -np.cos(x_0) * (x_hat - x_0) ** i / np.math.factorial(i)\n",
    "    return summation\n",
    "\n",
    "\n",
    "true = np.sin(0.7)\n",
    "\n",
    "err_0_1 = abs((taylor_sin_calculator(0.7, 0, 1) - true)/true)\n",
    "err_0_3 = abs((taylor_sin_calculator(0.7, 0, 3) - true) / true)\n",
    "err_pi4_3 = abs((taylor_sin_calculator(0.7, np.pi/4, 3) - true) / true)"
   ]
  },
  {
   "cell_type": "code",
   "execution_count": 32,
   "metadata": {},
   "outputs": [],
   "source": [
    "import numpy as np\n",
    "import sympy\n",
    "\n",
    "def factorial(n):\n",
    "    if n < 2:\n",
    "        return 1\n",
    "    else:\n",
    "        return n*factorial(n-1)\n",
    "    \n",
    "def n_degree_taylor(formula, x, x_0, n):\n",
    "    '''\n",
    "    Given the analytic expression, x and x_0, calculate\n",
    "    its nth degree Taylor polynomial\n",
    "    Note: Variable is defaulted to x\n",
    "    '''\n",
    "    var_x = sympy.symbols('x')\n",
    "    acc = 0\n",
    "    # Be careful, n+1 because it's up to n\n",
    "    for i in range(n+1):\n",
    "        acc += sympy.diff(formula, var_x, i).subs(var_x, x_0)/factorial(i)*(x-x_0)**i\n",
    "    return float(acc)"
   ]
  },
  {
   "cell_type": "code",
   "execution_count": null,
   "metadata": {},
   "outputs": [],
   "source": [
    "# L 6.7\n",
    "(n_degree_taylor('(x+1)**0.5',0.08,0,5)-(0.08+1)**0.5)"
   ]
  },
  {
   "cell_type": "code",
   "execution_count": 12,
   "metadata": {},
   "outputs": [
    {
     "data": {
      "text/plain": [
       "24.0"
      ]
     },
     "execution_count": 12,
     "metadata": {},
     "output_type": "execute_result"
    }
   ],
   "source": [
    "# HW 6.3\n",
    "n_degree_taylor('7*x**3+2*x**2+6*x+4',2,0,2)"
   ]
  },
  {
   "cell_type": "code",
   "execution_count": 15,
   "metadata": {},
   "outputs": [
    {
     "data": {
      "text/plain": [
       "3.333333333333334"
      ]
     },
     "execution_count": 15,
     "metadata": {},
     "output_type": "execute_result"
    }
   ],
   "source": [
    "# HW 6.4\n",
    "def empirical_taylor(derivatives, x, x_0):\n",
    "    '''\n",
    "    Given empirical derivatives f(x_0), f'(x_0), f''(x_0)...\n",
    "    calculate it's taylor series with this empirical data\n",
    "    ASSUME FROM 0th derivative (which is the original function)\n",
    "    '''\n",
    "    result = 0\n",
    "    for i in range(len(derivatives)):\n",
    "        result += derivatives[i]*(x-x_0)**i/factorial(i)\n",
    "    return result\n",
    "\n",
    "empirical_taylor(derivatives=[8,9,-6,-8,0], x=2 ,x_0=0)"
   ]
  },
  {
   "cell_type": "code",
   "execution_count": 25,
   "metadata": {},
   "outputs": [
    {
     "name": "stdout",
     "output_type": "stream",
     "text": [
      "-0.48000000000000004\n"
     ]
    }
   ],
   "source": [
    "# HW 6.6\n",
    "print(n_degree_taylor('log(1+x)',-0.4,0,2))"
   ]
  },
  {
   "cell_type": "code",
   "execution_count": 35,
   "metadata": {},
   "outputs": [
    {
     "data": {
      "text/plain": [
       "-5.0"
      ]
     },
     "execution_count": 35,
     "metadata": {},
     "output_type": "execute_result"
    }
   ],
   "source": [
    "# HW 6.7\n",
    "n_degree_taylor('-sin(x)',5,0,2)"
   ]
  },
  {
   "cell_type": "code",
   "execution_count": 40,
   "metadata": {},
   "outputs": [
    {
     "data": {
      "text/plain": [
       "43"
      ]
     },
     "execution_count": 40,
     "metadata": {},
     "output_type": "execute_result"
    }
   ],
   "source": [
    "# HW 6.8\n",
    "8*5+3"
   ]
  }
 ],
 "metadata": {
  "interpreter": {
   "hash": "07efdcd4b820c98a756949507a4d29d7862823915ec7477944641bea022f4f62"
  },
  "kernelspec": {
   "display_name": "Python 3.8.10 ('base')",
   "language": "python",
   "name": "python3"
  },
  "language_info": {
   "codemirror_mode": {
    "name": "ipython",
    "version": 3
   },
   "file_extension": ".py",
   "mimetype": "text/x-python",
   "name": "python",
   "nbconvert_exporter": "python",
   "pygments_lexer": "ipython3",
   "version": "3.8.10"
  },
  "orig_nbformat": 4
 },
 "nbformat": 4,
 "nbformat_minor": 2
}
