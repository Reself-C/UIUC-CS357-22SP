{
 "cells": [
  {
   "cell_type": "code",
   "execution_count": null,
   "metadata": {},
   "outputs": [],
   "source": [
    "# HW 6.9\n",
    "import numpy as np\n",
    "import matplotlib.pyplot as plt\n",
    "\n",
    "exp_approx = np.zeros(10)\n",
    "abs_error = np.zeros(10)\n",
    "rel_error = np.zeros(10)\n",
    "N_cutoff = 0\n",
    "sum = 0\n",
    "for i in range(10):\n",
    "    sum += x ** i / np.math.factorial(i)\n",
    "    exp_approx[i] = sum\n",
    "abs_error = np.abs(exp_approx - np.exp(x))\n",
    "rel_error = abs_error / np.exp(x)\n",
    "for i in range(10):\n",
    "    if rel_error[i] <= desired_rel_error:\n",
    "        N_cutoff = i\n",
    "        break\n",
    "\n",
    "# Save plot for grading\n",
    "N = np.linspace(0,9,10)\n",
    "plt.plot(N,rel_error)\n",
    "plt.semilogy()\n",
    "plt.ylabel('relative error in log scale')\n",
    "plt.xlabel('N')\n",
    "plt.title('relative error vs N')\n",
    "plot = plt.gca()"
   ]
  },
  {
   "cell_type": "code",
   "execution_count": null,
   "metadata": {},
   "outputs": [],
   "source": [
    "# HW 6.10\n",
    "import numpy as np\n",
    "\n",
    "def taylor_sin_calculator(x_hat, x_0, n):\n",
    "    summation = 0;\n",
    "    for i in range(n + 1):\n",
    "        if (i+1) % 4 == 1:\n",
    "            summation += np.sin(x_0) * (x_hat - x_0) ** i / np.math.factorial(i)\n",
    "        elif (i+1) % 4 == 2:\n",
    "            summation += np.cos(x_0) * (x_hat - x_0) ** i / np.math.factorial(i)\n",
    "        elif (i+1) % 4 ==3:\n",
    "            summation += -np.sin(x_0) * (x_hat - x_0) ** i / np.math.factorial(i)\n",
    "        elif (i+1) % 4 == 0:\n",
    "            summation += -np.cos(x_0) * (x_hat - x_0) ** i / np.math.factorial(i)\n",
    "    return summation\n",
    "\n",
    "\n",
    "true = np.sin(0.7)\n",
    "\n",
    "err_0_1 = abs((taylor_sin_calculator(0.7, 0, 1) - true)/true)\n",
    "err_0_3 = abs((taylor_sin_calculator(0.7, 0, 3) - true) / true)\n",
    "err_pi4_3 = abs((taylor_sin_calculator(0.7, np.pi/4, 3) - true) / true)"
   ]
  }
 ],
 "metadata": {
  "interpreter": {
   "hash": "07efdcd4b820c98a756949507a4d29d7862823915ec7477944641bea022f4f62"
  },
  "kernelspec": {
   "display_name": "Python 3.8.10 ('base')",
   "language": "python",
   "name": "python3"
  },
  "language_info": {
   "codemirror_mode": {
    "name": "ipython",
    "version": 3
   },
   "file_extension": ".py",
   "mimetype": "text/x-python",
   "name": "python",
   "nbconvert_exporter": "python",
   "pygments_lexer": "ipython3",
   "version": "3.8.10"
  },
  "orig_nbformat": 4
 },
 "nbformat": 4,
 "nbformat_minor": 2
}
