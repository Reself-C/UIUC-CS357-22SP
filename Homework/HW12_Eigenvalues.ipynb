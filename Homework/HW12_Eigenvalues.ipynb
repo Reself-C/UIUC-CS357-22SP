{
 "cells": [
  {
   "cell_type": "code",
   "execution_count": 8,
   "metadata": {},
   "outputs": [],
   "source": [
    "import numpy as np\n",
    "import numpy.linalg as la"
   ]
  },
  {
   "cell_type": "code",
   "execution_count": 50,
   "metadata": {},
   "outputs": [
    {
     "data": {
      "text/plain": [
       "array([[8.00061103]])"
      ]
     },
     "execution_count": 50,
     "metadata": {},
     "output_type": "execute_result"
    }
   ],
   "source": [
    "def shifted_inverse_iteration(A, sigma=0, error=1e-3):\n",
    "    N = A.shape[0]\n",
    "    A -= np.eye(N)*sigma\n",
    "    x = np.ones((N,1))\n",
    "    n, e = 0, 0\n",
    "    while True:\n",
    "        y = la.solve(A, x)\n",
    "        e = (y.T @ x) / (x.T @ x)\n",
    "        x = y/la.norm(y)\n",
    "        n += 1\n",
    "        if abs(1/e + sigma) % 1 < error:\n",
    "            return 1/e + sigma\n",
    "    \n",
    "A = np.array([\n",
    "    [5, 4, 4, 2, -1],\n",
    "    [0, 6, -4, -1, -4],\n",
    "    [0, 0, 4, -4, 4],\n",
    "    [0, 0, 0, -7, 5],\n",
    "    [0, 0, 0, 0, 8]\n",
    "],dtype=float)\n",
    "\n",
    "shifted_inverse_iteration(A, sigma=8.4)"
   ]
  },
  {
   "cell_type": "code",
   "execution_count": 25,
   "metadata": {},
   "outputs": [
    {
     "name": "stdout",
     "output_type": "stream",
     "text": [
      "7\n",
      "4\n"
     ]
    }
   ],
   "source": [
    "# 12.9\n",
    "error = 1e-2\n",
    "eigen_value = np.array([-1., 2., 4., 8., 9.])\n",
    "sigma = 2.4\n",
    "\n",
    "sorted_eigen_value = np.sort(abs(eigen_value))\n",
    "# (min/min_2)**n = error -> n = log_{min/min_2}^error -> n = ln(error)/ln(min/min_2)\n",
    "iter_0 = np.log(error)/np.log(sorted_eigen_value[0]/sorted_eigen_value[1])\n",
    "print(int(iter_0)+1)\n",
    "\n",
    "eigen_value -= sigma\n",
    "sorted_eigen_value = np.sort(abs(eigen_value))\n",
    "iter_shift = np.log(error)/np.log(sorted_eigen_value[0]/sorted_eigen_value[1])\n",
    "print(int(iter_shift)+1)"
   ]
  },
  {
   "cell_type": "code",
   "execution_count": 46,
   "metadata": {},
   "outputs": [
    {
     "name": "stdout",
     "output_type": "stream",
     "text": [
      "0.001953125\n",
      "0.00011899803653239719\n"
     ]
    }
   ],
   "source": [
    "# 12.10\n",
    "eigen_value = np.array([-8., 4., 1.])\n",
    "sigma = 0.5\n",
    "iter = 5\n",
    "u = np.array([1,0,-1])\n",
    "x0 = np.array([-1,-1,-1])\n",
    "e0 = la.norm(u-x0 ,ord=np.inf)\n",
    "\n",
    "sorted_eigen_value = np.sort(abs(eigen_value))\n",
    "error_0 = (sorted_eigen_value[0]/sorted_eigen_value[1])**iter\n",
    "print(error_0*e0)\n",
    "\n",
    "eigen_value -= sigma\n",
    "sorted_eigen_value = np.sort(abs(eigen_value))\n",
    "error_shift = (sorted_eigen_value[0]/sorted_eigen_value[1])**iter\n",
    "print(error_shift*e0)"
   ]
  },
  {
   "cell_type": "code",
   "execution_count": 68,
   "metadata": {},
   "outputs": [
    {
     "name": "stdout",
     "output_type": "stream",
     "text": [
      "[0.53333333 0.6        1.        ]\n",
      "[0.88888889 0.88888889 1.        ]\n",
      "[0.53333333 0.6        1.        ]\n"
     ]
    }
   ],
   "source": [
    "# 12.12\n",
    "X = np.array([\n",
    "    [16,8,4],\n",
    "    [16,9,16],\n",
    "    [18,15,10]\n",
    "])\n",
    "e = np.array([1.,4.,3.])\n",
    "D = np.diag(e)\n",
    "p = np.inf\n",
    "sigma = 4.3\n",
    "\n",
    "i1 = np.argmax(e)\n",
    "i2 = np.argmin(abs(e))\n",
    "i3 = np.argmin(abs(e-sigma))\n",
    "\n",
    "V = X @ D\n",
    "v1 = V[:,i1]\n",
    "v1 /= la.norm(v1,p)\n",
    "v2 = V[:,i2]\n",
    "v2 /= la.norm(v2,p)\n",
    "v3 = V[:,i3]\n",
    "v3 /= la.norm(v3,p)\n",
    "print(v1)\n",
    "print(v2)\n",
    "print(v3)"
   ]
  },
  {
   "cell_type": "code",
   "execution_count": 73,
   "metadata": {},
   "outputs": [
    {
     "name": "stdout",
     "output_type": "stream",
     "text": [
      "0.0046875 132.0\n"
     ]
    }
   ],
   "source": [
    "# 12.13\n",
    "Q1 = 0.3*(2/8)**3\n",
    "Q2 = 33*1420/355\n",
    "print(Q1, Q2)"
   ]
  },
  {
   "cell_type": "code",
   "execution_count": 15,
   "metadata": {},
   "outputs": [],
   "source": [
    "# 12.14\n",
    "import numpy as np\n",
    "import scipy.linalg as la\n",
    "def inverse_iteration(A, x_0, p=2):\n",
    "    x_0 = x_0/np.linalg.norm(x_0,p)\n",
    "    x_k = x_0\n",
    "    while True:\n",
    "        P, L, U = la.lu(A)\n",
    "        # PLUx = b\n",
    "        # L @ Ux = P.T @ b\n",
    "        # U @ x = b'\n",
    "        Ux = la.solve_triangular(L, x_k, lower=True)\n",
    "        y_k = la.solve_triangular(U, Ux)\n",
    "        x_k_n = y_k/np.linalg.norm(y_k,p)\n",
    "        e = (y_k.T @ x_k_n) / (x_k_n.T @ x_k_n)\n",
    "        if np.linalg.norm(x_k_n-x_k,2)<1e-12:\n",
    "            break\n",
    "        x_k = x_k_n\n",
    "    return 1/e, x_k\n",
    "\n",
    "def shifted_inverse_iteration(A, x_0, sigma=1, p=2):\n",
    "    x_0 = x_0/np.linalg.norm(x_0,p)\n",
    "    x_k = x_0\n",
    "    A -= np.eye(A.shape[0])*sigma\n",
    "    for i in range(500):\n",
    "        P, L, U = la.lu(A)\n",
    "        # PLUx = b\n",
    "        # L @ Ux = P.T @ A\n",
    "        # U @ x = b'\n",
    "        Ux = la.solve_triangular(L, x_k, lower=True)\n",
    "        y_k = la.solve_triangular(U, Ux)\n",
    "        x_k_n = y_k/np.linalg.norm(y_k,p)\n",
    "        x_k = x_k_n\n",
    "    e = (y_k.T @ x_k_n) / (x_k_n.T @ x_k_n)\n",
    "    return 1/e+sigma, x_k\n",
    "\n",
    "\n",
    "A = np.array([\n",
    "    [100, 4],\n",
    "    [0, 6]\n",
    "],dtype=float)\n",
    "x_0 = np.array([\n",
    "    [1/2**0.5],\n",
    "    [1/2**0.5]\n",
    "])\n"
   ]
  },
  {
   "cell_type": "code",
   "execution_count": 16,
   "metadata": {},
   "outputs": [
    {
     "data": {
      "text/plain": [
       "(array([[6.]]),\n",
       " array([[-0.04251472],\n",
       "        [ 0.99909584]]))"
      ]
     },
     "execution_count": 16,
     "metadata": {},
     "output_type": "execute_result"
    }
   ],
   "source": [
    "inverse_iteration(A, x_0)"
   ]
  },
  {
   "cell_type": "code",
   "execution_count": 17,
   "metadata": {},
   "outputs": [
    {
     "data": {
      "text/plain": [
       "(array([[6.]]),\n",
       " array([[-0.04251472],\n",
       "        [ 0.99909584]]))"
      ]
     },
     "execution_count": 17,
     "metadata": {},
     "output_type": "execute_result"
    }
   ],
   "source": [
    "shifted_inverse_iteration(A, x_0)"
   ]
  },
  {
   "cell_type": "code",
   "execution_count": 11,
   "metadata": {},
   "outputs": [
    {
     "data": {
      "text/plain": [
       "(array([100.,   6.]),\n",
       " array([[ 1.        , -0.04251472],\n",
       "        [ 0.        ,  0.99909584]]))"
      ]
     },
     "execution_count": 11,
     "metadata": {},
     "output_type": "execute_result"
    }
   ],
   "source": [
    "np.linalg.eig(A)"
   ]
  },
  {
   "cell_type": "code",
   "execution_count": null,
   "metadata": {},
   "outputs": [],
   "source": []
  }
 ],
 "metadata": {
  "interpreter": {
   "hash": "d30f2eae29d172888ee9c1ee28f70a4e8225fd9a8a138830c03a950ad069ae1c"
  },
  "kernelspec": {
   "display_name": "Python 3.8.12 ('data')",
   "language": "python",
   "name": "python3"
  },
  "language_info": {
   "codemirror_mode": {
    "name": "ipython",
    "version": 3
   },
   "file_extension": ".py",
   "mimetype": "text/x-python",
   "name": "python",
   "nbconvert_exporter": "python",
   "pygments_lexer": "ipython3",
   "version": "3.8.12"
  },
  "orig_nbformat": 4
 },
 "nbformat": 4,
 "nbformat_minor": 2
}
