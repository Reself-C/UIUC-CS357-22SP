{
 "cells": [
  {
   "cell_type": "code",
   "execution_count": 18,
   "metadata": {},
   "outputs": [
    {
     "name": "stdout",
     "output_type": "stream",
     "text": [
      "11110 3\n"
     ]
    },
    {
     "data": {
      "text/plain": [
       "0.375"
      ]
     },
     "execution_count": 18,
     "metadata": {},
     "output_type": "execute_result"
    }
   ],
   "source": [
    "# 5.2\n",
    "\n",
    "def fl(x):\n",
    "    x_int = int(x//1)\n",
    "    bin_int = str()\n",
    "    while x_int:\n",
    "        bin_int = str(x_int%2) + bin_int\n",
    "        x_int = int(x_int//2)\n",
    "    \n",
    "    x_f = x%1\n",
    "    bin_f = str('')\n",
    "    while x_f:\n",
    "        x_f *= 2\n",
    "        add = '1' if x_f >= 1 else '0'\n",
    "        bin_f = bin_f + add\n",
    "        x_f -= int(x_f)\n",
    "        \n",
    "    return bin_int, bin_f\n",
    "\n",
    "def HW52(y, n, m_range):\n",
    "    y = abs(y)\n",
    "    bin_int, bin_f = fl(y)\n",
    "    bin = (bin_int + bin_f)[:n+1]\n",
    "    m = len(bin_int)-1\n",
    "    print(bin, m)\n",
    "    y_hat = 0\n",
    "    for index, i in enumerate(bin):\n",
    "        y_hat += int(i)*2**(m-index)\n",
    "    abs_error = abs(y_hat - y)\n",
    "    return abs_error\n",
    "\n",
    "HW52(y = 15.375,\n",
    "     n = 4,\n",
    "     m_range = [-5,6])"
   ]
  },
  {
   "cell_type": "code",
   "execution_count": null,
   "metadata": {},
   "outputs": [],
   "source": []
  }
 ],
 "metadata": {
  "interpreter": {
   "hash": "cf151ee0d5d4bd6519c08d7976dcef72e9a178a9dc773adc57d522f57ddd0fc2"
  },
  "kernelspec": {
   "display_name": "Python 3.8.10 ('py38')",
   "language": "python",
   "name": "python3"
  },
  "language_info": {
   "codemirror_mode": {
    "name": "ipython",
    "version": 3
   },
   "file_extension": ".py",
   "mimetype": "text/x-python",
   "name": "python",
   "nbconvert_exporter": "python",
   "pygments_lexer": "ipython3",
   "version": "3.8.10"
  },
  "orig_nbformat": 4
 },
 "nbformat": 4,
 "nbformat_minor": 2
}
