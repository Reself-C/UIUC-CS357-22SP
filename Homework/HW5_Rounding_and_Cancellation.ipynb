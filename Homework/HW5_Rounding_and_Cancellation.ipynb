{
 "cells": [
  {
   "cell_type": "code",
   "execution_count": 1,
   "metadata": {},
   "outputs": [],
   "source": [
    "# Author: Wenhao Chai"
   ]
  },
  {
   "cell_type": "code",
   "execution_count": 2,
   "metadata": {},
   "outputs": [
    {
     "name": "stdout",
     "output_type": "stream",
     "text": [
      "110010 0\n",
      "1.5625\n"
     ]
    },
    {
     "data": {
      "text/plain": [
       "0.0234375"
      ]
     },
     "execution_count": 2,
     "metadata": {},
     "output_type": "execute_result"
    }
   ],
   "source": [
    "# 5.2\n",
    "\n",
    "def fl(x):\n",
    "    x_int = int(x//1)\n",
    "    bin_int = str()\n",
    "    while x_int:\n",
    "        bin_int = str(x_int%2) + bin_int\n",
    "        x_int = int(x_int//2)\n",
    "    \n",
    "    x_f = x%1\n",
    "    bin_f = str('')\n",
    "    while x_f:\n",
    "        x_f *= 2\n",
    "        add = '1' if x_f >= 1 else '0'\n",
    "        bin_f = bin_f + add\n",
    "        x_f -= int(x_f)\n",
    "        \n",
    "    return bin_int, bin_f\n",
    "\n",
    "def HW52(y, n, m_range = None):\n",
    "    y = abs(y)\n",
    "    bin_int, bin_f = fl(y)\n",
    "    bin = (bin_int + bin_f)[:n+1]\n",
    "    m = len(bin_int)-1\n",
    "    print(bin, m)\n",
    "    # bin = '110011'\n",
    "    y_hat = 0\n",
    "    for index, i in enumerate(bin):\n",
    "        y_hat += int(i)*2**(m-index)\n",
    "    print(y_hat)\n",
    "    abs_error = abs(y_hat - y)\n",
    "    return abs_error\n",
    "\n",
    "HW52(y = 1.5859375,\n",
    "     n = 5,\n",
    "     m_range = [-5,6])\n",
    "\n",
    "# Notice: The answer for function HW52 only give \n",
    "#         the correct representation for input y,\n",
    "#         but not the absolute error\n",
    "# Example: For y = 1.5859375,\n",
    "#          function says y_hat = 1.5625\n",
    "#          but the min error occurs when y_hat = 1.59375"
   ]
  },
  {
   "cell_type": "code",
   "execution_count": 3,
   "metadata": {},
   "outputs": [
    {
     "data": {
      "text/plain": [
       "False"
      ]
     },
     "execution_count": 3,
     "metadata": {},
     "output_type": "execute_result"
    }
   ],
   "source": [
    "# 5.11\n",
    "def HW511(x,y,z):\n",
    "    return (x+y)+z == x+(y+z)\n",
    "\n",
    "HW511(x=1e2,\n",
    "      y=1e80,\n",
    "      z=-1e80)"
   ]
  },
  {
   "cell_type": "code",
   "execution_count": 4,
   "metadata": {},
   "outputs": [
    {
     "data": {
      "text/plain": [
       "1"
      ]
     },
     "execution_count": 4,
     "metadata": {},
     "output_type": "execute_result"
    }
   ],
   "source": [
    "# 5.12\n",
    "import numpy as np\n",
    "\n",
    "def kahan_sum(data):\n",
    "    sum, c = 0, 0\n",
    "    for i in range(len(data)):\n",
    "        y = data[i] - c\n",
    "        t = sum + y\n",
    "        c = (t - sum) - y\n",
    "        sum = t\n",
    "    return sum\n",
    "\n",
    "def min_error_sum(data):\n",
    "    # positive\n",
    "    data_p = data[data>=0]\n",
    "    # negative\n",
    "    data_n = data[data<=0]\n",
    "    data_sum = kahan_sum(data_p)+kahan_sum(data_n)\n",
    "    return data_sum\n",
    "\n",
    "# Debug\n",
    "data = np.array([1,-1,1])\n",
    "min_error_sum(data)"
   ]
  },
  {
   "cell_type": "code",
   "execution_count": null,
   "metadata": {},
   "outputs": [],
   "source": []
  }
 ],
 "metadata": {
  "interpreter": {
   "hash": "cf151ee0d5d4bd6519c08d7976dcef72e9a178a9dc773adc57d522f57ddd0fc2"
  },
  "kernelspec": {
   "display_name": "Python 3.8.10 ('py38')",
   "language": "python",
   "name": "python3"
  },
  "language_info": {
   "codemirror_mode": {
    "name": "ipython",
    "version": 3
   },
   "file_extension": ".py",
   "mimetype": "text/x-python",
   "name": "python",
   "nbconvert_exporter": "python",
   "pygments_lexer": "ipython3",
   "version": "3.8.10"
  },
  "orig_nbformat": 4
 },
 "nbformat": 4,
 "nbformat_minor": 2
}
