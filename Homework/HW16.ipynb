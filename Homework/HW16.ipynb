{
 "cells": [
  {
   "cell_type": "code",
   "execution_count": 114,
   "metadata": {},
   "outputs": [],
   "source": [
    "import numpy as np\n",
    "import numpy.linalg as la\n",
    "from sympy import *\n",
    "import scipy.optimize as opt\n",
    "import matplotlib.pyplot as plt"
   ]
  },
  {
   "cell_type": "code",
   "execution_count": 3,
   "metadata": {},
   "outputs": [
    {
     "data": {
      "text/plain": [
       "2.7714528937439997"
      ]
     },
     "execution_count": 3,
     "metadata": {},
     "output_type": "execute_result"
    }
   ],
   "source": [
    "a = -8\n",
    "b = 11\n",
    "i = 4\n",
    "\n",
    "r = 0.618**i*(b-a)\n",
    "r"
   ]
  },
  {
   "cell_type": "code",
   "execution_count": 9,
   "metadata": {},
   "outputs": [
    {
     "data": {
      "text/latex": [
       "$\\displaystyle 5.0 h^{2} + 10 h + 10$"
      ],
      "text/plain": [
       "5.0*h**2 + 10*h + 10"
      ]
     },
     "execution_count": 9,
     "metadata": {},
     "output_type": "execute_result"
    }
   ],
   "source": [
    "# 16.2\n",
    "x = Symbol('x')\n",
    "h = Symbol('h')\n",
    "x0 = 1\n",
    "f = 1*x**3 + 2*x**2 + 3*x +4\n",
    "approx = f.subs(x,x0) + diff(f,x).subs(x,x0)*h + 0.5 * diff(f,x,2).subs(x,x0)*h**2\n",
    "approx"
   ]
  },
  {
   "cell_type": "code",
   "execution_count": 12,
   "metadata": {},
   "outputs": [
    {
     "data": {
      "text/latex": [
       "$\\displaystyle -0.0357142857142857$"
      ],
      "text/plain": [
       "-0.0357142857142857"
      ]
     },
     "execution_count": 12,
     "metadata": {},
     "output_type": "execute_result"
    }
   ],
   "source": [
    "# 16.4\n",
    "x0 = 0.25\n",
    "x = Symbol('x')\n",
    "f = -exp(-x**2)\n",
    "x1 = x0 - diff(f,x).subs(x,x0)/diff(f,x,2).subs(x,x0)\n",
    "x1"
   ]
  },
  {
   "cell_type": "code",
   "execution_count": 104,
   "metadata": {},
   "outputs": [],
   "source": [
    "# 16.10\n",
    "def hessian(f, X):\n",
    "    x0, y0 = X[0, 0], X[1,0]\n",
    "    x, y = Symbol('x'), Symbol('y')\n",
    "    A = Matrix([f])\n",
    "    B = Matrix([x, y])\n",
    "    Hessian = A.jacobian(B).jacobian(B).subs({x:x0, y:y0})\n",
    "    return np.array(Hessian).astype(np.float64)\n",
    "\n",
    "def gradient(f, X):\n",
    "    x0, y0 = X[0, 0], X[1,0]\n",
    "    x, y = Symbol('x'), Symbol('y')\n",
    "    A = Matrix([f])\n",
    "    B = Matrix([x, y])\n",
    "    Gradient = A.jacobian(B).subs({x:x0, y:y0})\n",
    "    return np.array(Gradient).astype(np.float64).T\n",
    "\n",
    "def newtons_method(f, x_init, tol):\n",
    "    x_new = x_init\n",
    "    x_prev = np.random.randn(x_init.shape[0])\n",
    "    cnt = -1\n",
    "    while(la.norm(x_prev - x_new) > tol):\n",
    "        x_prev = x_new\n",
    "        s = -la.solve(hessian(f, x_prev), gradient(f, x_prev))\n",
    "        x_new = x_prev + s\n",
    "        cnt += 1\n",
    "    return x_new, cnt"
   ]
  },
  {
   "cell_type": "code",
   "execution_count": 105,
   "metadata": {},
   "outputs": [
    {
     "data": {
      "text/plain": [
       "(array([[0.20015163],\n",
       "        [0.0045489 ]]),\n",
       " 1)"
      ]
     },
     "execution_count": 105,
     "metadata": {},
     "output_type": "execute_result"
    }
   ],
   "source": [
    "x_init = np.array([[1],[2]])\n",
    "x, y = Symbol('x'), Symbol('y')\n",
    "f = 15 * x**2- 6 * x + 6 + 22*y**2- x*y\n",
    "tol = 1e-7\n",
    "newtons_method(f, x_init, tol)"
   ]
  },
  {
   "cell_type": "code",
   "execution_count": 83,
   "metadata": {},
   "outputs": [
    {
     "data": {
      "text/plain": [
       "array([[-8],\n",
       "       [-5]])"
      ]
     },
     "execution_count": 83,
     "metadata": {},
     "output_type": "execute_result"
    }
   ],
   "source": [
    "# 16.11\n",
    "x, y = Symbol('x'), Symbol('y')\n",
    "f = 1.5*x**2 + 2*x*y + 2.5*y**2\n",
    "X0 = np.array([[8], [5]])\n",
    "#s0 = -la.solve(hessian(f, X0), gradient(f, X0).T)\n",
    "s0 = -X0\n",
    "s0"
   ]
  },
  {
   "cell_type": "code",
   "execution_count": 108,
   "metadata": {},
   "outputs": [
    {
     "name": "stdout",
     "output_type": "stream",
     "text": [
      "[[133.        ]\n",
      " [ 26.73016398]]\n",
      "\n",
      "[[1312.          133.        ]\n",
      " [ 133.            2.34788858]]\n",
      "[[-0.22198221]\n",
      " [ 2.18977935]]\n",
      "\n",
      "[[-133.        ]\n",
      " [ -26.73016398]]\n"
     ]
    }
   ],
   "source": [
    "# 16.12\n",
    "x, y = Symbol('x'), Symbol('y')\n",
    "f = 7*x**2 + 3*x*y + 7*y**2 + 13*exp(10*x*y) + 14*sin(y)**2 + 2*cos(x*y)\n",
    "x0 = np.array([[0], [1]])\n",
    "print(gradient(f, x0))\n",
    "print()\n",
    "print(hessian(f, x0))\n",
    "s1 = -la.solve(hessian(f, x0), gradient(f, x0))\n",
    "x1 = x0 + s1\n",
    "print(x1)\n",
    "print()\n",
    "print(-gradient(f, x0))"
   ]
  },
  {
   "cell_type": "code",
   "execution_count": 107,
   "metadata": {},
   "outputs": [
    {
     "name": "stdout",
     "output_type": "stream",
     "text": [
      "[[-0.091754  ]\n",
      " [ 0.71069289]]\n",
      "\n",
      "[[0.86237244 0.25      ]\n",
      " [0.25       0.55618622]]\n",
      "[[ 1.59546844]\n",
      " [-0.41351805]]\n",
      "\n",
      "[[ 1.19226063]\n",
      " [-0.01288472]]\n"
     ]
    }
   ],
   "source": [
    "# 16.13\n",
    "x, y = Symbol('x'), Symbol('y')\n",
    "f = 3 + x**2/8 + y**2/8 - sin(x)*cos(sqrt(2)/2*y)\n",
    "x0 = np.array([[pi/3], [pi/2/sqrt(2)]]).astype(np.float64)\n",
    "alpha = 1.581\n",
    "print(gradient(f, x0))\n",
    "print()\n",
    "print(hessian(f, x0))\n",
    "s1 = -la.solve(hessian(f, x0), gradient(f, x0))\n",
    "x1 = x0 + s1\n",
    "print(x1)\n",
    "print()\n",
    "s2 = -gradient(f, x0)\n",
    "x2 = x0 + alpha * s2\n",
    "print(x2)"
   ]
  },
  {
   "cell_type": "code",
   "execution_count": null,
   "metadata": {},
   "outputs": [],
   "source": [
    "# 16.14\n",
    "import numpy as np\n",
    "import matplotlib.pyplot as plt\n",
    "\n",
    "brackets = []\n",
    "gs = (np.sqrt(5) - 1) / 2\n",
    "m1 = a + (1 - gs) * (b - a)\n",
    "m2 = a + gs * (b - a)\n",
    "\n",
    "# Begin your modifications below here\n",
    "f1, f2 = f(m1), f(m2)\n",
    "while b - a > 1e-5:\n",
    "    if f1>= f2:\n",
    "        a = m1\n",
    "    else:\n",
    "        b = m2\n",
    "    m1 = a + (1 - gs) * (b - a)\n",
    "    m2 = a + gs * (b - a)    \n",
    "    if f1>= f2:\n",
    "        f1 = f2\n",
    "        f2 = f(m2)\n",
    "    else:\n",
    "        f2 = f1\n",
    "        f1 = f(m1)\n",
    "    \n",
    "    brackets.append([a, m1, m2, b])\n",
    "\n",
    "# End your modifications above here\n",
    "\n",
    "# Plotting code below, no need to modify\n",
    "x = np.linspace(-10, 10)\n",
    "plt.plot(x, f(x))\n",
    "\n",
    "brackets = np.array(brackets)\n",
    "names=['a', 'm1', 'm2', 'b']\n",
    "for i in range(4):\n",
    "    plt.plot(brackets[:, i], 3*np.arange(len(brackets)), 'o-', label=names[i])\n",
    "plt.legend()"
   ]
  },
  {
   "cell_type": "code",
   "execution_count": 115,
   "metadata": {},
   "outputs": [],
   "source": [
    "def func(r):\n",
    "    x, y = r\n",
    "    return 3 +((x**2)/8) + ((y**2)/8) - np.sin(x)*np.cos((2**-0.5)*y)\n",
    "\n",
    "def obj_func(alpha, x, s):\n",
    "    # code for computing the objective function at (x+alpha*s)\n",
    "    return func(x + alpha * s)\n",
    "\n",
    "def steepest_descent(f, x_init, tol):\n",
    "    x_new = x_init\n",
    "    x_prev = np.random.randn(x_init.shape[0])\n",
    "    while(la.norm(x_prev - x_new, 2) > tol):\n",
    "        x_prev = x_new\n",
    "        s = -gradient(f, x_prev)\n",
    "        alpha = opt.minimize_scalar(obj_func, args=(x_prev, s)).x\n",
    "        x_new = x_prev + alpha*s\n",
    "\n",
    "    return x_new"
   ]
  },
  {
   "cell_type": "code",
   "execution_count": 117,
   "metadata": {},
   "outputs": [
    {
     "data": {
      "text/plain": [
       "array([[1.25235323e+00],\n",
       "       [1.29174860e-08]])"
      ]
     },
     "execution_count": 117,
     "metadata": {},
     "output_type": "execute_result"
    }
   ],
   "source": [
    "x, y = Symbol('x'), Symbol('y')\n",
    "f = 3 + x**2/8 + y**2/8 - sin(x)*cos(sqrt(2)/2*y)\n",
    "x_init = np.array([[pi/3], [pi/2/sqrt(2)]]).astype(np.float64)\n",
    "steepest_descent(f, x_init, 1e-6)"
   ]
  },
  {
   "cell_type": "code",
   "execution_count": 122,
   "metadata": {},
   "outputs": [
    {
     "data": {
      "text/plain": [
       "2.6789179719752454"
      ]
     },
     "execution_count": 122,
     "metadata": {},
     "output_type": "execute_result"
    }
   ],
   "source": [
    "def func(r):\n",
    "    x, y = r\n",
    "    return np.float64(3 +((x**2)/8) + ((y**2)/8) - np.sin(x)*np.cos((2**-0.5)*y))\n",
    "\n",
    "def obj_func(alpha, x, s):\n",
    "    # code for computing the objective function at (x+alpha*s)\n",
    "    return func(x + alpha * s)\n",
    "r = np.array([[pi/3], [pi/2/sqrt(2)]]).astype(np.float64)\n",
    "x, y = r\n",
    "x, y\n",
    "\n"
   ]
  },
  {
   "cell_type": "code",
   "execution_count": null,
   "metadata": {},
   "outputs": [],
   "source": [
    "# 16.16\n",
    "import numpy as np\n",
    "from sympy import *\n",
    "\n",
    "# complete the function below\n",
    "def dfunc(x):\n",
    "    # Add your code here\n",
    "    y = Symbol('y')\n",
    "    f = -exp(-y**2) * (y + sin(y))\n",
    "    return diff(f,y).subs(y,x)\n",
    "    \n",
    "\n",
    "# complete the function below\n",
    "def d2func(x):\n",
    "    # Add your code here\n",
    "    y = Symbol('y')\n",
    "    f = -exp(-y**2) * (y + sin(y))\n",
    "    return diff(f,y,2).subs(y,x)\n",
    "\n",
    "# run Newton's Method\n",
    "newton_list = [x0]\n",
    "x = x0\n",
    "while abs(dfunc(x)) > tol:\n",
    "    x -= dfunc(x)/d2func(x)\n",
    "    newton_list.append(x)\n",
    "newton_guesses = np.array(newton_list).astype(np.float64)"
   ]
  }
 ],
 "metadata": {
  "interpreter": {
   "hash": "07efdcd4b820c98a756949507a4d29d7862823915ec7477944641bea022f4f62"
  },
  "kernelspec": {
   "display_name": "Python 3.8.10 ('base')",
   "language": "python",
   "name": "python3"
  },
  "language_info": {
   "codemirror_mode": {
    "name": "ipython",
    "version": 3
   },
   "file_extension": ".py",
   "mimetype": "text/x-python",
   "name": "python",
   "nbconvert_exporter": "python",
   "pygments_lexer": "ipython3",
   "version": "3.8.10"
  },
  "orig_nbformat": 4
 },
 "nbformat": 4,
 "nbformat_minor": 2
}
