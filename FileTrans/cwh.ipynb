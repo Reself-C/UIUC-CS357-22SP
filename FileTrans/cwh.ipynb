{
 "cells": [
  {
   "cell_type": "code",
   "execution_count": 1,
   "metadata": {},
   "outputs": [],
   "source": [
    "from sympy import *\n",
    "import numpy as np"
   ]
  },
  {
   "cell_type": "code",
   "execution_count": 4,
   "metadata": {},
   "outputs": [],
   "source": [
    "# Question 9\n",
    "from sympy import *\n",
    "def empirical_taylor(derivatives, x, x_0):\n",
    "    '''\n",
    "    Given empirical derivatives f(x_0), f'(x_0), f''(x_0)...\n",
    "    calculate it's taylor series with this empirical data\n",
    "    ASSUME FROM 0th derivative (which is the original function)\n",
    "    '''\n",
    "    result = 0\n",
    "    for i in range(len(derivatives)):\n",
    "        result += derivatives[i]*(x-x_0)**i/factorial(i)\n",
    "    return result\n",
    "x0 = 6\n",
    "y_x = empirical_taylor(derivatives=[0.4051,-0.2109,0.0640], x=6.05 ,x_0=6)\n",
    "V_x = empirical_taylor(derivatives=[-0.2109,0.0640], x=6.05 ,x_0=6)"
   ]
  },
  {
   "cell_type": "code",
   "execution_count": 25,
   "metadata": {},
   "outputs": [
    {
     "data": {
      "text/plain": [
       "106.51103706788838"
      ]
     },
     "execution_count": 25,
     "metadata": {},
     "output_type": "execute_result"
    }
   ],
   "source": [
    "# Question 10\n",
    "def trans(fp):\n",
    "    return sum([fp[0][i]*7**(1-i) for i in range(len(fp[0]))])*7**(fp[1]-1)\n",
    "    \n",
    "dc_list = [round(trans(i)) for i in fp_list]"
   ]
  }
 ],
 "metadata": {
  "interpreter": {
   "hash": "07efdcd4b820c98a756949507a4d29d7862823915ec7477944641bea022f4f62"
  },
  "kernelspec": {
   "display_name": "Python 3",
   "language": "python",
   "name": "python3"
  },
  "language_info": {
   "codemirror_mode": {
    "name": "ipython",
    "version": 3
   },
   "file_extension": ".py",
   "mimetype": "text/x-python",
   "name": "python",
   "nbconvert_exporter": "python",
   "pygments_lexer": "ipython3",
   "version": "3.8.10"
  }
 },
 "nbformat": 4,
 "nbformat_minor": 2
}
